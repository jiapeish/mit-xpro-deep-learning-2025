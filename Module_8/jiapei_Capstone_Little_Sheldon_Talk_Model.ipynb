{
  "nbformat": 4,
  "nbformat_minor": 0,
  "metadata": {
    "colab": {
      "provenance": [],
      "gpuType": "A100",
      "toc_visible": true,
      "machine_shape": "hm"
    },
    "kernelspec": {
      "name": "python3",
      "display_name": "Python 3"
    },
    "language_info": {
      "name": "python"
    },
    "widgets": {
      "application/vnd.jupyter.widget-state+json": {
        "a28f76ad277449c594a519d70e7f2369": {
          "model_module": "@jupyter-widgets/controls",
          "model_name": "HBoxModel",
          "model_module_version": "1.5.0",
          "state": {
            "_dom_classes": [],
            "_model_module": "@jupyter-widgets/controls",
            "_model_module_version": "1.5.0",
            "_model_name": "HBoxModel",
            "_view_count": null,
            "_view_module": "@jupyter-widgets/controls",
            "_view_module_version": "1.5.0",
            "_view_name": "HBoxView",
            "box_style": "",
            "children": [
              "IPY_MODEL_0d92bbd127684ba0b92f7de46325458c",
              "IPY_MODEL_f6bf4af6c5b5408593ef0e1e56068c94",
              "IPY_MODEL_02ac54149cd842e8bd4296b314489acb"
            ],
            "layout": "IPY_MODEL_09c64d45396a42af8f5f95ff5b0cdf93"
          }
        },
        "0d92bbd127684ba0b92f7de46325458c": {
          "model_module": "@jupyter-widgets/controls",
          "model_name": "HTMLModel",
          "model_module_version": "1.5.0",
          "state": {
            "_dom_classes": [],
            "_model_module": "@jupyter-widgets/controls",
            "_model_module_version": "1.5.0",
            "_model_name": "HTMLModel",
            "_view_count": null,
            "_view_module": "@jupyter-widgets/controls",
            "_view_module_version": "1.5.0",
            "_view_name": "HTMLView",
            "description": "",
            "description_tooltip": null,
            "layout": "IPY_MODEL_3ed443184ce94be6afa188b954f00ef5",
            "placeholder": "​",
            "style": "IPY_MODEL_8899aaa2e44b480d8af41446a6a85568",
            "value": "tokenizer_config.json: 100%"
          }
        },
        "f6bf4af6c5b5408593ef0e1e56068c94": {
          "model_module": "@jupyter-widgets/controls",
          "model_name": "FloatProgressModel",
          "model_module_version": "1.5.0",
          "state": {
            "_dom_classes": [],
            "_model_module": "@jupyter-widgets/controls",
            "_model_module_version": "1.5.0",
            "_model_name": "FloatProgressModel",
            "_view_count": null,
            "_view_module": "@jupyter-widgets/controls",
            "_view_module_version": "1.5.0",
            "_view_name": "ProgressView",
            "bar_style": "success",
            "description": "",
            "description_tooltip": null,
            "layout": "IPY_MODEL_88505a40d548494290636642d9e406ae",
            "max": 614,
            "min": 0,
            "orientation": "horizontal",
            "style": "IPY_MODEL_7f157bf79ec745eb93c81673f24c09ba",
            "value": 614
          }
        },
        "02ac54149cd842e8bd4296b314489acb": {
          "model_module": "@jupyter-widgets/controls",
          "model_name": "HTMLModel",
          "model_module_version": "1.5.0",
          "state": {
            "_dom_classes": [],
            "_model_module": "@jupyter-widgets/controls",
            "_model_module_version": "1.5.0",
            "_model_name": "HTMLModel",
            "_view_count": null,
            "_view_module": "@jupyter-widgets/controls",
            "_view_module_version": "1.5.0",
            "_view_name": "HTMLView",
            "description": "",
            "description_tooltip": null,
            "layout": "IPY_MODEL_7f83610be68b49d5b9b82944197fae0f",
            "placeholder": "​",
            "style": "IPY_MODEL_35da95f145b840948686fce07f1007d2",
            "value": " 614/614 [00:00&lt;00:00, 52.2kB/s]"
          }
        },
        "09c64d45396a42af8f5f95ff5b0cdf93": {
          "model_module": "@jupyter-widgets/base",
          "model_name": "LayoutModel",
          "model_module_version": "1.2.0",
          "state": {
            "_model_module": "@jupyter-widgets/base",
            "_model_module_version": "1.2.0",
            "_model_name": "LayoutModel",
            "_view_count": null,
            "_view_module": "@jupyter-widgets/base",
            "_view_module_version": "1.2.0",
            "_view_name": "LayoutView",
            "align_content": null,
            "align_items": null,
            "align_self": null,
            "border": null,
            "bottom": null,
            "display": null,
            "flex": null,
            "flex_flow": null,
            "grid_area": null,
            "grid_auto_columns": null,
            "grid_auto_flow": null,
            "grid_auto_rows": null,
            "grid_column": null,
            "grid_gap": null,
            "grid_row": null,
            "grid_template_areas": null,
            "grid_template_columns": null,
            "grid_template_rows": null,
            "height": null,
            "justify_content": null,
            "justify_items": null,
            "left": null,
            "margin": null,
            "max_height": null,
            "max_width": null,
            "min_height": null,
            "min_width": null,
            "object_fit": null,
            "object_position": null,
            "order": null,
            "overflow": null,
            "overflow_x": null,
            "overflow_y": null,
            "padding": null,
            "right": null,
            "top": null,
            "visibility": null,
            "width": null
          }
        },
        "3ed443184ce94be6afa188b954f00ef5": {
          "model_module": "@jupyter-widgets/base",
          "model_name": "LayoutModel",
          "model_module_version": "1.2.0",
          "state": {
            "_model_module": "@jupyter-widgets/base",
            "_model_module_version": "1.2.0",
            "_model_name": "LayoutModel",
            "_view_count": null,
            "_view_module": "@jupyter-widgets/base",
            "_view_module_version": "1.2.0",
            "_view_name": "LayoutView",
            "align_content": null,
            "align_items": null,
            "align_self": null,
            "border": null,
            "bottom": null,
            "display": null,
            "flex": null,
            "flex_flow": null,
            "grid_area": null,
            "grid_auto_columns": null,
            "grid_auto_flow": null,
            "grid_auto_rows": null,
            "grid_column": null,
            "grid_gap": null,
            "grid_row": null,
            "grid_template_areas": null,
            "grid_template_columns": null,
            "grid_template_rows": null,
            "height": null,
            "justify_content": null,
            "justify_items": null,
            "left": null,
            "margin": null,
            "max_height": null,
            "max_width": null,
            "min_height": null,
            "min_width": null,
            "object_fit": null,
            "object_position": null,
            "order": null,
            "overflow": null,
            "overflow_x": null,
            "overflow_y": null,
            "padding": null,
            "right": null,
            "top": null,
            "visibility": null,
            "width": null
          }
        },
        "8899aaa2e44b480d8af41446a6a85568": {
          "model_module": "@jupyter-widgets/controls",
          "model_name": "DescriptionStyleModel",
          "model_module_version": "1.5.0",
          "state": {
            "_model_module": "@jupyter-widgets/controls",
            "_model_module_version": "1.5.0",
            "_model_name": "DescriptionStyleModel",
            "_view_count": null,
            "_view_module": "@jupyter-widgets/base",
            "_view_module_version": "1.2.0",
            "_view_name": "StyleView",
            "description_width": ""
          }
        },
        "88505a40d548494290636642d9e406ae": {
          "model_module": "@jupyter-widgets/base",
          "model_name": "LayoutModel",
          "model_module_version": "1.2.0",
          "state": {
            "_model_module": "@jupyter-widgets/base",
            "_model_module_version": "1.2.0",
            "_model_name": "LayoutModel",
            "_view_count": null,
            "_view_module": "@jupyter-widgets/base",
            "_view_module_version": "1.2.0",
            "_view_name": "LayoutView",
            "align_content": null,
            "align_items": null,
            "align_self": null,
            "border": null,
            "bottom": null,
            "display": null,
            "flex": null,
            "flex_flow": null,
            "grid_area": null,
            "grid_auto_columns": null,
            "grid_auto_flow": null,
            "grid_auto_rows": null,
            "grid_column": null,
            "grid_gap": null,
            "grid_row": null,
            "grid_template_areas": null,
            "grid_template_columns": null,
            "grid_template_rows": null,
            "height": null,
            "justify_content": null,
            "justify_items": null,
            "left": null,
            "margin": null,
            "max_height": null,
            "max_width": null,
            "min_height": null,
            "min_width": null,
            "object_fit": null,
            "object_position": null,
            "order": null,
            "overflow": null,
            "overflow_x": null,
            "overflow_y": null,
            "padding": null,
            "right": null,
            "top": null,
            "visibility": null,
            "width": null
          }
        },
        "7f157bf79ec745eb93c81673f24c09ba": {
          "model_module": "@jupyter-widgets/controls",
          "model_name": "ProgressStyleModel",
          "model_module_version": "1.5.0",
          "state": {
            "_model_module": "@jupyter-widgets/controls",
            "_model_module_version": "1.5.0",
            "_model_name": "ProgressStyleModel",
            "_view_count": null,
            "_view_module": "@jupyter-widgets/base",
            "_view_module_version": "1.2.0",
            "_view_name": "StyleView",
            "bar_color": null,
            "description_width": ""
          }
        },
        "7f83610be68b49d5b9b82944197fae0f": {
          "model_module": "@jupyter-widgets/base",
          "model_name": "LayoutModel",
          "model_module_version": "1.2.0",
          "state": {
            "_model_module": "@jupyter-widgets/base",
            "_model_module_version": "1.2.0",
            "_model_name": "LayoutModel",
            "_view_count": null,
            "_view_module": "@jupyter-widgets/base",
            "_view_module_version": "1.2.0",
            "_view_name": "LayoutView",
            "align_content": null,
            "align_items": null,
            "align_self": null,
            "border": null,
            "bottom": null,
            "display": null,
            "flex": null,
            "flex_flow": null,
            "grid_area": null,
            "grid_auto_columns": null,
            "grid_auto_flow": null,
            "grid_auto_rows": null,
            "grid_column": null,
            "grid_gap": null,
            "grid_row": null,
            "grid_template_areas": null,
            "grid_template_columns": null,
            "grid_template_rows": null,
            "height": null,
            "justify_content": null,
            "justify_items": null,
            "left": null,
            "margin": null,
            "max_height": null,
            "max_width": null,
            "min_height": null,
            "min_width": null,
            "object_fit": null,
            "object_position": null,
            "order": null,
            "overflow": null,
            "overflow_x": null,
            "overflow_y": null,
            "padding": null,
            "right": null,
            "top": null,
            "visibility": null,
            "width": null
          }
        },
        "35da95f145b840948686fce07f1007d2": {
          "model_module": "@jupyter-widgets/controls",
          "model_name": "DescriptionStyleModel",
          "model_module_version": "1.5.0",
          "state": {
            "_model_module": "@jupyter-widgets/controls",
            "_model_module_version": "1.5.0",
            "_model_name": "DescriptionStyleModel",
            "_view_count": null,
            "_view_module": "@jupyter-widgets/base",
            "_view_module_version": "1.2.0",
            "_view_name": "StyleView",
            "description_width": ""
          }
        },
        "cca4098a397f471cb98be995db20af61": {
          "model_module": "@jupyter-widgets/controls",
          "model_name": "HBoxModel",
          "model_module_version": "1.5.0",
          "state": {
            "_dom_classes": [],
            "_model_module": "@jupyter-widgets/controls",
            "_model_module_version": "1.5.0",
            "_model_name": "HBoxModel",
            "_view_count": null,
            "_view_module": "@jupyter-widgets/controls",
            "_view_module_version": "1.5.0",
            "_view_name": "HBoxView",
            "box_style": "",
            "children": [
              "IPY_MODEL_5c04424fd1f04626abd10ec92ed1595f",
              "IPY_MODEL_64d930e52a56480cbc9cfbc0d0b426ff",
              "IPY_MODEL_3239fcc6b6004726b5bacc2f8a302762"
            ],
            "layout": "IPY_MODEL_cc2ae2b6ab5542c5ad5eea08dc7a5e08"
          }
        },
        "5c04424fd1f04626abd10ec92ed1595f": {
          "model_module": "@jupyter-widgets/controls",
          "model_name": "HTMLModel",
          "model_module_version": "1.5.0",
          "state": {
            "_dom_classes": [],
            "_model_module": "@jupyter-widgets/controls",
            "_model_module_version": "1.5.0",
            "_model_name": "HTMLModel",
            "_view_count": null,
            "_view_module": "@jupyter-widgets/controls",
            "_view_module_version": "1.5.0",
            "_view_name": "HTMLView",
            "description": "",
            "description_tooltip": null,
            "layout": "IPY_MODEL_b09b11e8320c4281b619942420dd80aa",
            "placeholder": "​",
            "style": "IPY_MODEL_afc8b86d06654f4897862a0fbac2e2ef",
            "value": "vocab.json: "
          }
        },
        "64d930e52a56480cbc9cfbc0d0b426ff": {
          "model_module": "@jupyter-widgets/controls",
          "model_name": "FloatProgressModel",
          "model_module_version": "1.5.0",
          "state": {
            "_dom_classes": [],
            "_model_module": "@jupyter-widgets/controls",
            "_model_module_version": "1.5.0",
            "_model_name": "FloatProgressModel",
            "_view_count": null,
            "_view_module": "@jupyter-widgets/controls",
            "_view_module_version": "1.5.0",
            "_view_name": "ProgressView",
            "bar_style": "success",
            "description": "",
            "description_tooltip": null,
            "layout": "IPY_MODEL_70efe62493ac4e49a8069a2a651fb098",
            "max": 1,
            "min": 0,
            "orientation": "horizontal",
            "style": "IPY_MODEL_cc8a8fff0ab8489b934c17962ae59fe9",
            "value": 1
          }
        },
        "3239fcc6b6004726b5bacc2f8a302762": {
          "model_module": "@jupyter-widgets/controls",
          "model_name": "HTMLModel",
          "model_module_version": "1.5.0",
          "state": {
            "_dom_classes": [],
            "_model_module": "@jupyter-widgets/controls",
            "_model_module_version": "1.5.0",
            "_model_name": "HTMLModel",
            "_view_count": null,
            "_view_module": "@jupyter-widgets/controls",
            "_view_module_version": "1.5.0",
            "_view_name": "HTMLView",
            "description": "",
            "description_tooltip": null,
            "layout": "IPY_MODEL_debf187cc87c4d48bb465d6f5a043a9b",
            "placeholder": "​",
            "style": "IPY_MODEL_803ab71e09eb4b89b863cbca6a35b318",
            "value": " 1.04M/? [00:00&lt;00:00, 20.8MB/s]"
          }
        },
        "cc2ae2b6ab5542c5ad5eea08dc7a5e08": {
          "model_module": "@jupyter-widgets/base",
          "model_name": "LayoutModel",
          "model_module_version": "1.2.0",
          "state": {
            "_model_module": "@jupyter-widgets/base",
            "_model_module_version": "1.2.0",
            "_model_name": "LayoutModel",
            "_view_count": null,
            "_view_module": "@jupyter-widgets/base",
            "_view_module_version": "1.2.0",
            "_view_name": "LayoutView",
            "align_content": null,
            "align_items": null,
            "align_self": null,
            "border": null,
            "bottom": null,
            "display": null,
            "flex": null,
            "flex_flow": null,
            "grid_area": null,
            "grid_auto_columns": null,
            "grid_auto_flow": null,
            "grid_auto_rows": null,
            "grid_column": null,
            "grid_gap": null,
            "grid_row": null,
            "grid_template_areas": null,
            "grid_template_columns": null,
            "grid_template_rows": null,
            "height": null,
            "justify_content": null,
            "justify_items": null,
            "left": null,
            "margin": null,
            "max_height": null,
            "max_width": null,
            "min_height": null,
            "min_width": null,
            "object_fit": null,
            "object_position": null,
            "order": null,
            "overflow": null,
            "overflow_x": null,
            "overflow_y": null,
            "padding": null,
            "right": null,
            "top": null,
            "visibility": null,
            "width": null
          }
        },
        "b09b11e8320c4281b619942420dd80aa": {
          "model_module": "@jupyter-widgets/base",
          "model_name": "LayoutModel",
          "model_module_version": "1.2.0",
          "state": {
            "_model_module": "@jupyter-widgets/base",
            "_model_module_version": "1.2.0",
            "_model_name": "LayoutModel",
            "_view_count": null,
            "_view_module": "@jupyter-widgets/base",
            "_view_module_version": "1.2.0",
            "_view_name": "LayoutView",
            "align_content": null,
            "align_items": null,
            "align_self": null,
            "border": null,
            "bottom": null,
            "display": null,
            "flex": null,
            "flex_flow": null,
            "grid_area": null,
            "grid_auto_columns": null,
            "grid_auto_flow": null,
            "grid_auto_rows": null,
            "grid_column": null,
            "grid_gap": null,
            "grid_row": null,
            "grid_template_areas": null,
            "grid_template_columns": null,
            "grid_template_rows": null,
            "height": null,
            "justify_content": null,
            "justify_items": null,
            "left": null,
            "margin": null,
            "max_height": null,
            "max_width": null,
            "min_height": null,
            "min_width": null,
            "object_fit": null,
            "object_position": null,
            "order": null,
            "overflow": null,
            "overflow_x": null,
            "overflow_y": null,
            "padding": null,
            "right": null,
            "top": null,
            "visibility": null,
            "width": null
          }
        },
        "afc8b86d06654f4897862a0fbac2e2ef": {
          "model_module": "@jupyter-widgets/controls",
          "model_name": "DescriptionStyleModel",
          "model_module_version": "1.5.0",
          "state": {
            "_model_module": "@jupyter-widgets/controls",
            "_model_module_version": "1.5.0",
            "_model_name": "DescriptionStyleModel",
            "_view_count": null,
            "_view_module": "@jupyter-widgets/base",
            "_view_module_version": "1.2.0",
            "_view_name": "StyleView",
            "description_width": ""
          }
        },
        "70efe62493ac4e49a8069a2a651fb098": {
          "model_module": "@jupyter-widgets/base",
          "model_name": "LayoutModel",
          "model_module_version": "1.2.0",
          "state": {
            "_model_module": "@jupyter-widgets/base",
            "_model_module_version": "1.2.0",
            "_model_name": "LayoutModel",
            "_view_count": null,
            "_view_module": "@jupyter-widgets/base",
            "_view_module_version": "1.2.0",
            "_view_name": "LayoutView",
            "align_content": null,
            "align_items": null,
            "align_self": null,
            "border": null,
            "bottom": null,
            "display": null,
            "flex": null,
            "flex_flow": null,
            "grid_area": null,
            "grid_auto_columns": null,
            "grid_auto_flow": null,
            "grid_auto_rows": null,
            "grid_column": null,
            "grid_gap": null,
            "grid_row": null,
            "grid_template_areas": null,
            "grid_template_columns": null,
            "grid_template_rows": null,
            "height": null,
            "justify_content": null,
            "justify_items": null,
            "left": null,
            "margin": null,
            "max_height": null,
            "max_width": null,
            "min_height": null,
            "min_width": null,
            "object_fit": null,
            "object_position": null,
            "order": null,
            "overflow": null,
            "overflow_x": null,
            "overflow_y": null,
            "padding": null,
            "right": null,
            "top": null,
            "visibility": null,
            "width": "20px"
          }
        },
        "cc8a8fff0ab8489b934c17962ae59fe9": {
          "model_module": "@jupyter-widgets/controls",
          "model_name": "ProgressStyleModel",
          "model_module_version": "1.5.0",
          "state": {
            "_model_module": "@jupyter-widgets/controls",
            "_model_module_version": "1.5.0",
            "_model_name": "ProgressStyleModel",
            "_view_count": null,
            "_view_module": "@jupyter-widgets/base",
            "_view_module_version": "1.2.0",
            "_view_name": "StyleView",
            "bar_color": null,
            "description_width": ""
          }
        },
        "debf187cc87c4d48bb465d6f5a043a9b": {
          "model_module": "@jupyter-widgets/base",
          "model_name": "LayoutModel",
          "model_module_version": "1.2.0",
          "state": {
            "_model_module": "@jupyter-widgets/base",
            "_model_module_version": "1.2.0",
            "_model_name": "LayoutModel",
            "_view_count": null,
            "_view_module": "@jupyter-widgets/base",
            "_view_module_version": "1.2.0",
            "_view_name": "LayoutView",
            "align_content": null,
            "align_items": null,
            "align_self": null,
            "border": null,
            "bottom": null,
            "display": null,
            "flex": null,
            "flex_flow": null,
            "grid_area": null,
            "grid_auto_columns": null,
            "grid_auto_flow": null,
            "grid_auto_rows": null,
            "grid_column": null,
            "grid_gap": null,
            "grid_row": null,
            "grid_template_areas": null,
            "grid_template_columns": null,
            "grid_template_rows": null,
            "height": null,
            "justify_content": null,
            "justify_items": null,
            "left": null,
            "margin": null,
            "max_height": null,
            "max_width": null,
            "min_height": null,
            "min_width": null,
            "object_fit": null,
            "object_position": null,
            "order": null,
            "overflow": null,
            "overflow_x": null,
            "overflow_y": null,
            "padding": null,
            "right": null,
            "top": null,
            "visibility": null,
            "width": null
          }
        },
        "803ab71e09eb4b89b863cbca6a35b318": {
          "model_module": "@jupyter-widgets/controls",
          "model_name": "DescriptionStyleModel",
          "model_module_version": "1.5.0",
          "state": {
            "_model_module": "@jupyter-widgets/controls",
            "_model_module_version": "1.5.0",
            "_model_name": "DescriptionStyleModel",
            "_view_count": null,
            "_view_module": "@jupyter-widgets/base",
            "_view_module_version": "1.2.0",
            "_view_name": "StyleView",
            "description_width": ""
          }
        },
        "57ac00b70da84cfaa7ec883aedcd4084": {
          "model_module": "@jupyter-widgets/controls",
          "model_name": "HBoxModel",
          "model_module_version": "1.5.0",
          "state": {
            "_dom_classes": [],
            "_model_module": "@jupyter-widgets/controls",
            "_model_module_version": "1.5.0",
            "_model_name": "HBoxModel",
            "_view_count": null,
            "_view_module": "@jupyter-widgets/controls",
            "_view_module_version": "1.5.0",
            "_view_name": "HBoxView",
            "box_style": "",
            "children": [
              "IPY_MODEL_dde27b8cffb542efb11ef9cc5aaaee2a",
              "IPY_MODEL_6e821548899044a98a712850460b2d97",
              "IPY_MODEL_3fc3fb7d2b984b41ae2add48b8a2ab55"
            ],
            "layout": "IPY_MODEL_1db4010c97c1484faa3ad11376638231"
          }
        },
        "dde27b8cffb542efb11ef9cc5aaaee2a": {
          "model_module": "@jupyter-widgets/controls",
          "model_name": "HTMLModel",
          "model_module_version": "1.5.0",
          "state": {
            "_dom_classes": [],
            "_model_module": "@jupyter-widgets/controls",
            "_model_module_version": "1.5.0",
            "_model_name": "HTMLModel",
            "_view_count": null,
            "_view_module": "@jupyter-widgets/controls",
            "_view_module_version": "1.5.0",
            "_view_name": "HTMLView",
            "description": "",
            "description_tooltip": null,
            "layout": "IPY_MODEL_07912bf4f88d40738f98d629fceebc82",
            "placeholder": "​",
            "style": "IPY_MODEL_d6d524c003a546f39b58f5ae3ea2bda1",
            "value": "merges.txt: "
          }
        },
        "6e821548899044a98a712850460b2d97": {
          "model_module": "@jupyter-widgets/controls",
          "model_name": "FloatProgressModel",
          "model_module_version": "1.5.0",
          "state": {
            "_dom_classes": [],
            "_model_module": "@jupyter-widgets/controls",
            "_model_module_version": "1.5.0",
            "_model_name": "FloatProgressModel",
            "_view_count": null,
            "_view_module": "@jupyter-widgets/controls",
            "_view_module_version": "1.5.0",
            "_view_name": "ProgressView",
            "bar_style": "success",
            "description": "",
            "description_tooltip": null,
            "layout": "IPY_MODEL_5b6ba57a19eb43e2941351447ccebd05",
            "max": 1,
            "min": 0,
            "orientation": "horizontal",
            "style": "IPY_MODEL_26f147d7ddec400fab2129c7669c9ef4",
            "value": 1
          }
        },
        "3fc3fb7d2b984b41ae2add48b8a2ab55": {
          "model_module": "@jupyter-widgets/controls",
          "model_name": "HTMLModel",
          "model_module_version": "1.5.0",
          "state": {
            "_dom_classes": [],
            "_model_module": "@jupyter-widgets/controls",
            "_model_module_version": "1.5.0",
            "_model_name": "HTMLModel",
            "_view_count": null,
            "_view_module": "@jupyter-widgets/controls",
            "_view_module_version": "1.5.0",
            "_view_name": "HTMLView",
            "description": "",
            "description_tooltip": null,
            "layout": "IPY_MODEL_213efecc748d4c87b71f18e6433c70ff",
            "placeholder": "​",
            "style": "IPY_MODEL_0a84a21526824cfe871b04dba116f242",
            "value": " 456k/? [00:00&lt;00:00, 27.5MB/s]"
          }
        },
        "1db4010c97c1484faa3ad11376638231": {
          "model_module": "@jupyter-widgets/base",
          "model_name": "LayoutModel",
          "model_module_version": "1.2.0",
          "state": {
            "_model_module": "@jupyter-widgets/base",
            "_model_module_version": "1.2.0",
            "_model_name": "LayoutModel",
            "_view_count": null,
            "_view_module": "@jupyter-widgets/base",
            "_view_module_version": "1.2.0",
            "_view_name": "LayoutView",
            "align_content": null,
            "align_items": null,
            "align_self": null,
            "border": null,
            "bottom": null,
            "display": null,
            "flex": null,
            "flex_flow": null,
            "grid_area": null,
            "grid_auto_columns": null,
            "grid_auto_flow": null,
            "grid_auto_rows": null,
            "grid_column": null,
            "grid_gap": null,
            "grid_row": null,
            "grid_template_areas": null,
            "grid_template_columns": null,
            "grid_template_rows": null,
            "height": null,
            "justify_content": null,
            "justify_items": null,
            "left": null,
            "margin": null,
            "max_height": null,
            "max_width": null,
            "min_height": null,
            "min_width": null,
            "object_fit": null,
            "object_position": null,
            "order": null,
            "overflow": null,
            "overflow_x": null,
            "overflow_y": null,
            "padding": null,
            "right": null,
            "top": null,
            "visibility": null,
            "width": null
          }
        },
        "07912bf4f88d40738f98d629fceebc82": {
          "model_module": "@jupyter-widgets/base",
          "model_name": "LayoutModel",
          "model_module_version": "1.2.0",
          "state": {
            "_model_module": "@jupyter-widgets/base",
            "_model_module_version": "1.2.0",
            "_model_name": "LayoutModel",
            "_view_count": null,
            "_view_module": "@jupyter-widgets/base",
            "_view_module_version": "1.2.0",
            "_view_name": "LayoutView",
            "align_content": null,
            "align_items": null,
            "align_self": null,
            "border": null,
            "bottom": null,
            "display": null,
            "flex": null,
            "flex_flow": null,
            "grid_area": null,
            "grid_auto_columns": null,
            "grid_auto_flow": null,
            "grid_auto_rows": null,
            "grid_column": null,
            "grid_gap": null,
            "grid_row": null,
            "grid_template_areas": null,
            "grid_template_columns": null,
            "grid_template_rows": null,
            "height": null,
            "justify_content": null,
            "justify_items": null,
            "left": null,
            "margin": null,
            "max_height": null,
            "max_width": null,
            "min_height": null,
            "min_width": null,
            "object_fit": null,
            "object_position": null,
            "order": null,
            "overflow": null,
            "overflow_x": null,
            "overflow_y": null,
            "padding": null,
            "right": null,
            "top": null,
            "visibility": null,
            "width": null
          }
        },
        "d6d524c003a546f39b58f5ae3ea2bda1": {
          "model_module": "@jupyter-widgets/controls",
          "model_name": "DescriptionStyleModel",
          "model_module_version": "1.5.0",
          "state": {
            "_model_module": "@jupyter-widgets/controls",
            "_model_module_version": "1.5.0",
            "_model_name": "DescriptionStyleModel",
            "_view_count": null,
            "_view_module": "@jupyter-widgets/base",
            "_view_module_version": "1.2.0",
            "_view_name": "StyleView",
            "description_width": ""
          }
        },
        "5b6ba57a19eb43e2941351447ccebd05": {
          "model_module": "@jupyter-widgets/base",
          "model_name": "LayoutModel",
          "model_module_version": "1.2.0",
          "state": {
            "_model_module": "@jupyter-widgets/base",
            "_model_module_version": "1.2.0",
            "_model_name": "LayoutModel",
            "_view_count": null,
            "_view_module": "@jupyter-widgets/base",
            "_view_module_version": "1.2.0",
            "_view_name": "LayoutView",
            "align_content": null,
            "align_items": null,
            "align_self": null,
            "border": null,
            "bottom": null,
            "display": null,
            "flex": null,
            "flex_flow": null,
            "grid_area": null,
            "grid_auto_columns": null,
            "grid_auto_flow": null,
            "grid_auto_rows": null,
            "grid_column": null,
            "grid_gap": null,
            "grid_row": null,
            "grid_template_areas": null,
            "grid_template_columns": null,
            "grid_template_rows": null,
            "height": null,
            "justify_content": null,
            "justify_items": null,
            "left": null,
            "margin": null,
            "max_height": null,
            "max_width": null,
            "min_height": null,
            "min_width": null,
            "object_fit": null,
            "object_position": null,
            "order": null,
            "overflow": null,
            "overflow_x": null,
            "overflow_y": null,
            "padding": null,
            "right": null,
            "top": null,
            "visibility": null,
            "width": "20px"
          }
        },
        "26f147d7ddec400fab2129c7669c9ef4": {
          "model_module": "@jupyter-widgets/controls",
          "model_name": "ProgressStyleModel",
          "model_module_version": "1.5.0",
          "state": {
            "_model_module": "@jupyter-widgets/controls",
            "_model_module_version": "1.5.0",
            "_model_name": "ProgressStyleModel",
            "_view_count": null,
            "_view_module": "@jupyter-widgets/base",
            "_view_module_version": "1.2.0",
            "_view_name": "StyleView",
            "bar_color": null,
            "description_width": ""
          }
        },
        "213efecc748d4c87b71f18e6433c70ff": {
          "model_module": "@jupyter-widgets/base",
          "model_name": "LayoutModel",
          "model_module_version": "1.2.0",
          "state": {
            "_model_module": "@jupyter-widgets/base",
            "_model_module_version": "1.2.0",
            "_model_name": "LayoutModel",
            "_view_count": null,
            "_view_module": "@jupyter-widgets/base",
            "_view_module_version": "1.2.0",
            "_view_name": "LayoutView",
            "align_content": null,
            "align_items": null,
            "align_self": null,
            "border": null,
            "bottom": null,
            "display": null,
            "flex": null,
            "flex_flow": null,
            "grid_area": null,
            "grid_auto_columns": null,
            "grid_auto_flow": null,
            "grid_auto_rows": null,
            "grid_column": null,
            "grid_gap": null,
            "grid_row": null,
            "grid_template_areas": null,
            "grid_template_columns": null,
            "grid_template_rows": null,
            "height": null,
            "justify_content": null,
            "justify_items": null,
            "left": null,
            "margin": null,
            "max_height": null,
            "max_width": null,
            "min_height": null,
            "min_width": null,
            "object_fit": null,
            "object_position": null,
            "order": null,
            "overflow": null,
            "overflow_x": null,
            "overflow_y": null,
            "padding": null,
            "right": null,
            "top": null,
            "visibility": null,
            "width": null
          }
        },
        "0a84a21526824cfe871b04dba116f242": {
          "model_module": "@jupyter-widgets/controls",
          "model_name": "DescriptionStyleModel",
          "model_module_version": "1.5.0",
          "state": {
            "_model_module": "@jupyter-widgets/controls",
            "_model_module_version": "1.5.0",
            "_model_name": "DescriptionStyleModel",
            "_view_count": null,
            "_view_module": "@jupyter-widgets/base",
            "_view_module_version": "1.2.0",
            "_view_name": "StyleView",
            "description_width": ""
          }
        },
        "2c59e966b40a4f11a8f64e80872a9c45": {
          "model_module": "@jupyter-widgets/controls",
          "model_name": "HBoxModel",
          "model_module_version": "1.5.0",
          "state": {
            "_dom_classes": [],
            "_model_module": "@jupyter-widgets/controls",
            "_model_module_version": "1.5.0",
            "_model_name": "HBoxModel",
            "_view_count": null,
            "_view_module": "@jupyter-widgets/controls",
            "_view_module_version": "1.5.0",
            "_view_name": "HBoxView",
            "box_style": "",
            "children": [
              "IPY_MODEL_77342e78bdb94c30b99aefbc69feada3",
              "IPY_MODEL_023dd9bb535e40dbb49c95cb4056b715",
              "IPY_MODEL_dd256936361440b48f8880de26791b97"
            ],
            "layout": "IPY_MODEL_dabded7c88b64a309c7904231956ee30"
          }
        },
        "77342e78bdb94c30b99aefbc69feada3": {
          "model_module": "@jupyter-widgets/controls",
          "model_name": "HTMLModel",
          "model_module_version": "1.5.0",
          "state": {
            "_dom_classes": [],
            "_model_module": "@jupyter-widgets/controls",
            "_model_module_version": "1.5.0",
            "_model_name": "HTMLModel",
            "_view_count": null,
            "_view_module": "@jupyter-widgets/controls",
            "_view_module_version": "1.5.0",
            "_view_name": "HTMLView",
            "description": "",
            "description_tooltip": null,
            "layout": "IPY_MODEL_04889e3dfa4a4b2281b87528d64a55a4",
            "placeholder": "​",
            "style": "IPY_MODEL_11fe73e3a7764635ad224c2eabe62dc3",
            "value": "config.json: 100%"
          }
        },
        "023dd9bb535e40dbb49c95cb4056b715": {
          "model_module": "@jupyter-widgets/controls",
          "model_name": "FloatProgressModel",
          "model_module_version": "1.5.0",
          "state": {
            "_dom_classes": [],
            "_model_module": "@jupyter-widgets/controls",
            "_model_module_version": "1.5.0",
            "_model_name": "FloatProgressModel",
            "_view_count": null,
            "_view_module": "@jupyter-widgets/controls",
            "_view_module_version": "1.5.0",
            "_view_name": "ProgressView",
            "bar_style": "success",
            "description": "",
            "description_tooltip": null,
            "layout": "IPY_MODEL_c799c8f14a5d4cda9b856785ce4f77a6",
            "max": 641,
            "min": 0,
            "orientation": "horizontal",
            "style": "IPY_MODEL_f3ae074a321f4fc784caf560df6c46a3",
            "value": 641
          }
        },
        "dd256936361440b48f8880de26791b97": {
          "model_module": "@jupyter-widgets/controls",
          "model_name": "HTMLModel",
          "model_module_version": "1.5.0",
          "state": {
            "_dom_classes": [],
            "_model_module": "@jupyter-widgets/controls",
            "_model_module_version": "1.5.0",
            "_model_name": "HTMLModel",
            "_view_count": null,
            "_view_module": "@jupyter-widgets/controls",
            "_view_module_version": "1.5.0",
            "_view_name": "HTMLView",
            "description": "",
            "description_tooltip": null,
            "layout": "IPY_MODEL_1170e9bd0b634be9aa0fc0d015812dee",
            "placeholder": "​",
            "style": "IPY_MODEL_3bc66f6142324cc2a397dae86f46f329",
            "value": " 641/641 [00:00&lt;00:00, 86.1kB/s]"
          }
        },
        "dabded7c88b64a309c7904231956ee30": {
          "model_module": "@jupyter-widgets/base",
          "model_name": "LayoutModel",
          "model_module_version": "1.2.0",
          "state": {
            "_model_module": "@jupyter-widgets/base",
            "_model_module_version": "1.2.0",
            "_model_name": "LayoutModel",
            "_view_count": null,
            "_view_module": "@jupyter-widgets/base",
            "_view_module_version": "1.2.0",
            "_view_name": "LayoutView",
            "align_content": null,
            "align_items": null,
            "align_self": null,
            "border": null,
            "bottom": null,
            "display": null,
            "flex": null,
            "flex_flow": null,
            "grid_area": null,
            "grid_auto_columns": null,
            "grid_auto_flow": null,
            "grid_auto_rows": null,
            "grid_column": null,
            "grid_gap": null,
            "grid_row": null,
            "grid_template_areas": null,
            "grid_template_columns": null,
            "grid_template_rows": null,
            "height": null,
            "justify_content": null,
            "justify_items": null,
            "left": null,
            "margin": null,
            "max_height": null,
            "max_width": null,
            "min_height": null,
            "min_width": null,
            "object_fit": null,
            "object_position": null,
            "order": null,
            "overflow": null,
            "overflow_x": null,
            "overflow_y": null,
            "padding": null,
            "right": null,
            "top": null,
            "visibility": null,
            "width": null
          }
        },
        "04889e3dfa4a4b2281b87528d64a55a4": {
          "model_module": "@jupyter-widgets/base",
          "model_name": "LayoutModel",
          "model_module_version": "1.2.0",
          "state": {
            "_model_module": "@jupyter-widgets/base",
            "_model_module_version": "1.2.0",
            "_model_name": "LayoutModel",
            "_view_count": null,
            "_view_module": "@jupyter-widgets/base",
            "_view_module_version": "1.2.0",
            "_view_name": "LayoutView",
            "align_content": null,
            "align_items": null,
            "align_self": null,
            "border": null,
            "bottom": null,
            "display": null,
            "flex": null,
            "flex_flow": null,
            "grid_area": null,
            "grid_auto_columns": null,
            "grid_auto_flow": null,
            "grid_auto_rows": null,
            "grid_column": null,
            "grid_gap": null,
            "grid_row": null,
            "grid_template_areas": null,
            "grid_template_columns": null,
            "grid_template_rows": null,
            "height": null,
            "justify_content": null,
            "justify_items": null,
            "left": null,
            "margin": null,
            "max_height": null,
            "max_width": null,
            "min_height": null,
            "min_width": null,
            "object_fit": null,
            "object_position": null,
            "order": null,
            "overflow": null,
            "overflow_x": null,
            "overflow_y": null,
            "padding": null,
            "right": null,
            "top": null,
            "visibility": null,
            "width": null
          }
        },
        "11fe73e3a7764635ad224c2eabe62dc3": {
          "model_module": "@jupyter-widgets/controls",
          "model_name": "DescriptionStyleModel",
          "model_module_version": "1.5.0",
          "state": {
            "_model_module": "@jupyter-widgets/controls",
            "_model_module_version": "1.5.0",
            "_model_name": "DescriptionStyleModel",
            "_view_count": null,
            "_view_module": "@jupyter-widgets/base",
            "_view_module_version": "1.2.0",
            "_view_name": "StyleView",
            "description_width": ""
          }
        },
        "c799c8f14a5d4cda9b856785ce4f77a6": {
          "model_module": "@jupyter-widgets/base",
          "model_name": "LayoutModel",
          "model_module_version": "1.2.0",
          "state": {
            "_model_module": "@jupyter-widgets/base",
            "_model_module_version": "1.2.0",
            "_model_name": "LayoutModel",
            "_view_count": null,
            "_view_module": "@jupyter-widgets/base",
            "_view_module_version": "1.2.0",
            "_view_name": "LayoutView",
            "align_content": null,
            "align_items": null,
            "align_self": null,
            "border": null,
            "bottom": null,
            "display": null,
            "flex": null,
            "flex_flow": null,
            "grid_area": null,
            "grid_auto_columns": null,
            "grid_auto_flow": null,
            "grid_auto_rows": null,
            "grid_column": null,
            "grid_gap": null,
            "grid_row": null,
            "grid_template_areas": null,
            "grid_template_columns": null,
            "grid_template_rows": null,
            "height": null,
            "justify_content": null,
            "justify_items": null,
            "left": null,
            "margin": null,
            "max_height": null,
            "max_width": null,
            "min_height": null,
            "min_width": null,
            "object_fit": null,
            "object_position": null,
            "order": null,
            "overflow": null,
            "overflow_x": null,
            "overflow_y": null,
            "padding": null,
            "right": null,
            "top": null,
            "visibility": null,
            "width": null
          }
        },
        "f3ae074a321f4fc784caf560df6c46a3": {
          "model_module": "@jupyter-widgets/controls",
          "model_name": "ProgressStyleModel",
          "model_module_version": "1.5.0",
          "state": {
            "_model_module": "@jupyter-widgets/controls",
            "_model_module_version": "1.5.0",
            "_model_name": "ProgressStyleModel",
            "_view_count": null,
            "_view_module": "@jupyter-widgets/base",
            "_view_module_version": "1.2.0",
            "_view_name": "StyleView",
            "bar_color": null,
            "description_width": ""
          }
        },
        "1170e9bd0b634be9aa0fc0d015812dee": {
          "model_module": "@jupyter-widgets/base",
          "model_name": "LayoutModel",
          "model_module_version": "1.2.0",
          "state": {
            "_model_module": "@jupyter-widgets/base",
            "_model_module_version": "1.2.0",
            "_model_name": "LayoutModel",
            "_view_count": null,
            "_view_module": "@jupyter-widgets/base",
            "_view_module_version": "1.2.0",
            "_view_name": "LayoutView",
            "align_content": null,
            "align_items": null,
            "align_self": null,
            "border": null,
            "bottom": null,
            "display": null,
            "flex": null,
            "flex_flow": null,
            "grid_area": null,
            "grid_auto_columns": null,
            "grid_auto_flow": null,
            "grid_auto_rows": null,
            "grid_column": null,
            "grid_gap": null,
            "grid_row": null,
            "grid_template_areas": null,
            "grid_template_columns": null,
            "grid_template_rows": null,
            "height": null,
            "justify_content": null,
            "justify_items": null,
            "left": null,
            "margin": null,
            "max_height": null,
            "max_width": null,
            "min_height": null,
            "min_width": null,
            "object_fit": null,
            "object_position": null,
            "order": null,
            "overflow": null,
            "overflow_x": null,
            "overflow_y": null,
            "padding": null,
            "right": null,
            "top": null,
            "visibility": null,
            "width": null
          }
        },
        "3bc66f6142324cc2a397dae86f46f329": {
          "model_module": "@jupyter-widgets/controls",
          "model_name": "DescriptionStyleModel",
          "model_module_version": "1.5.0",
          "state": {
            "_model_module": "@jupyter-widgets/controls",
            "_model_module_version": "1.5.0",
            "_model_name": "DescriptionStyleModel",
            "_view_count": null,
            "_view_module": "@jupyter-widgets/base",
            "_view_module_version": "1.2.0",
            "_view_name": "StyleView",
            "description_width": ""
          }
        },
        "1883fc13d8cd40db9c5bb99629094102": {
          "model_module": "@jupyter-widgets/controls",
          "model_name": "HBoxModel",
          "model_module_version": "1.5.0",
          "state": {
            "_dom_classes": [],
            "_model_module": "@jupyter-widgets/controls",
            "_model_module_version": "1.5.0",
            "_model_name": "HBoxModel",
            "_view_count": null,
            "_view_module": "@jupyter-widgets/controls",
            "_view_module_version": "1.5.0",
            "_view_name": "HBoxView",
            "box_style": "",
            "children": [
              "IPY_MODEL_ff8a74e9e8cb4001acc1995e4aae372b",
              "IPY_MODEL_ab056eb6a16046e3a2621d2ef2b597e0",
              "IPY_MODEL_e56147ed502d4153a05828674a14cc21"
            ],
            "layout": "IPY_MODEL_bfa58345c9994bb79b64aa78dc0ccce8"
          }
        },
        "ff8a74e9e8cb4001acc1995e4aae372b": {
          "model_module": "@jupyter-widgets/controls",
          "model_name": "HTMLModel",
          "model_module_version": "1.5.0",
          "state": {
            "_dom_classes": [],
            "_model_module": "@jupyter-widgets/controls",
            "_model_module_version": "1.5.0",
            "_model_name": "HTMLModel",
            "_view_count": null,
            "_view_module": "@jupyter-widgets/controls",
            "_view_module_version": "1.5.0",
            "_view_name": "HTMLView",
            "description": "",
            "description_tooltip": null,
            "layout": "IPY_MODEL_2c679ae0baea422d92187d8248ff4c51",
            "placeholder": "​",
            "style": "IPY_MODEL_b09b8fa700024e80ab2ddf33766b80fd",
            "value": "model.safetensors: 100%"
          }
        },
        "ab056eb6a16046e3a2621d2ef2b597e0": {
          "model_module": "@jupyter-widgets/controls",
          "model_name": "FloatProgressModel",
          "model_module_version": "1.5.0",
          "state": {
            "_dom_classes": [],
            "_model_module": "@jupyter-widgets/controls",
            "_model_module_version": "1.5.0",
            "_model_name": "FloatProgressModel",
            "_view_count": null,
            "_view_module": "@jupyter-widgets/controls",
            "_view_module_version": "1.5.0",
            "_view_name": "ProgressView",
            "bar_style": "success",
            "description": "",
            "description_tooltip": null,
            "layout": "IPY_MODEL_f7ad8e00d6854a45a1275070a49d387d",
            "max": 351256598,
            "min": 0,
            "orientation": "horizontal",
            "style": "IPY_MODEL_987aaf745b794d65bb5d0192e1b963f9",
            "value": 351256598
          }
        },
        "e56147ed502d4153a05828674a14cc21": {
          "model_module": "@jupyter-widgets/controls",
          "model_name": "HTMLModel",
          "model_module_version": "1.5.0",
          "state": {
            "_dom_classes": [],
            "_model_module": "@jupyter-widgets/controls",
            "_model_module_version": "1.5.0",
            "_model_name": "HTMLModel",
            "_view_count": null,
            "_view_module": "@jupyter-widgets/controls",
            "_view_module_version": "1.5.0",
            "_view_name": "HTMLView",
            "description": "",
            "description_tooltip": null,
            "layout": "IPY_MODEL_a75961a5454e4566943704d861250b1c",
            "placeholder": "​",
            "style": "IPY_MODEL_0781b016472a47febc43fa24bab412c3",
            "value": " 351M/351M [00:01&lt;00:00, 322MB/s]"
          }
        },
        "bfa58345c9994bb79b64aa78dc0ccce8": {
          "model_module": "@jupyter-widgets/base",
          "model_name": "LayoutModel",
          "model_module_version": "1.2.0",
          "state": {
            "_model_module": "@jupyter-widgets/base",
            "_model_module_version": "1.2.0",
            "_model_name": "LayoutModel",
            "_view_count": null,
            "_view_module": "@jupyter-widgets/base",
            "_view_module_version": "1.2.0",
            "_view_name": "LayoutView",
            "align_content": null,
            "align_items": null,
            "align_self": null,
            "border": null,
            "bottom": null,
            "display": null,
            "flex": null,
            "flex_flow": null,
            "grid_area": null,
            "grid_auto_columns": null,
            "grid_auto_flow": null,
            "grid_auto_rows": null,
            "grid_column": null,
            "grid_gap": null,
            "grid_row": null,
            "grid_template_areas": null,
            "grid_template_columns": null,
            "grid_template_rows": null,
            "height": null,
            "justify_content": null,
            "justify_items": null,
            "left": null,
            "margin": null,
            "max_height": null,
            "max_width": null,
            "min_height": null,
            "min_width": null,
            "object_fit": null,
            "object_position": null,
            "order": null,
            "overflow": null,
            "overflow_x": null,
            "overflow_y": null,
            "padding": null,
            "right": null,
            "top": null,
            "visibility": null,
            "width": null
          }
        },
        "2c679ae0baea422d92187d8248ff4c51": {
          "model_module": "@jupyter-widgets/base",
          "model_name": "LayoutModel",
          "model_module_version": "1.2.0",
          "state": {
            "_model_module": "@jupyter-widgets/base",
            "_model_module_version": "1.2.0",
            "_model_name": "LayoutModel",
            "_view_count": null,
            "_view_module": "@jupyter-widgets/base",
            "_view_module_version": "1.2.0",
            "_view_name": "LayoutView",
            "align_content": null,
            "align_items": null,
            "align_self": null,
            "border": null,
            "bottom": null,
            "display": null,
            "flex": null,
            "flex_flow": null,
            "grid_area": null,
            "grid_auto_columns": null,
            "grid_auto_flow": null,
            "grid_auto_rows": null,
            "grid_column": null,
            "grid_gap": null,
            "grid_row": null,
            "grid_template_areas": null,
            "grid_template_columns": null,
            "grid_template_rows": null,
            "height": null,
            "justify_content": null,
            "justify_items": null,
            "left": null,
            "margin": null,
            "max_height": null,
            "max_width": null,
            "min_height": null,
            "min_width": null,
            "object_fit": null,
            "object_position": null,
            "order": null,
            "overflow": null,
            "overflow_x": null,
            "overflow_y": null,
            "padding": null,
            "right": null,
            "top": null,
            "visibility": null,
            "width": null
          }
        },
        "b09b8fa700024e80ab2ddf33766b80fd": {
          "model_module": "@jupyter-widgets/controls",
          "model_name": "DescriptionStyleModel",
          "model_module_version": "1.5.0",
          "state": {
            "_model_module": "@jupyter-widgets/controls",
            "_model_module_version": "1.5.0",
            "_model_name": "DescriptionStyleModel",
            "_view_count": null,
            "_view_module": "@jupyter-widgets/base",
            "_view_module_version": "1.2.0",
            "_view_name": "StyleView",
            "description_width": ""
          }
        },
        "f7ad8e00d6854a45a1275070a49d387d": {
          "model_module": "@jupyter-widgets/base",
          "model_name": "LayoutModel",
          "model_module_version": "1.2.0",
          "state": {
            "_model_module": "@jupyter-widgets/base",
            "_model_module_version": "1.2.0",
            "_model_name": "LayoutModel",
            "_view_count": null,
            "_view_module": "@jupyter-widgets/base",
            "_view_module_version": "1.2.0",
            "_view_name": "LayoutView",
            "align_content": null,
            "align_items": null,
            "align_self": null,
            "border": null,
            "bottom": null,
            "display": null,
            "flex": null,
            "flex_flow": null,
            "grid_area": null,
            "grid_auto_columns": null,
            "grid_auto_flow": null,
            "grid_auto_rows": null,
            "grid_column": null,
            "grid_gap": null,
            "grid_row": null,
            "grid_template_areas": null,
            "grid_template_columns": null,
            "grid_template_rows": null,
            "height": null,
            "justify_content": null,
            "justify_items": null,
            "left": null,
            "margin": null,
            "max_height": null,
            "max_width": null,
            "min_height": null,
            "min_width": null,
            "object_fit": null,
            "object_position": null,
            "order": null,
            "overflow": null,
            "overflow_x": null,
            "overflow_y": null,
            "padding": null,
            "right": null,
            "top": null,
            "visibility": null,
            "width": null
          }
        },
        "987aaf745b794d65bb5d0192e1b963f9": {
          "model_module": "@jupyter-widgets/controls",
          "model_name": "ProgressStyleModel",
          "model_module_version": "1.5.0",
          "state": {
            "_model_module": "@jupyter-widgets/controls",
            "_model_module_version": "1.5.0",
            "_model_name": "ProgressStyleModel",
            "_view_count": null,
            "_view_module": "@jupyter-widgets/base",
            "_view_module_version": "1.2.0",
            "_view_name": "StyleView",
            "bar_color": null,
            "description_width": ""
          }
        },
        "a75961a5454e4566943704d861250b1c": {
          "model_module": "@jupyter-widgets/base",
          "model_name": "LayoutModel",
          "model_module_version": "1.2.0",
          "state": {
            "_model_module": "@jupyter-widgets/base",
            "_model_module_version": "1.2.0",
            "_model_name": "LayoutModel",
            "_view_count": null,
            "_view_module": "@jupyter-widgets/base",
            "_view_module_version": "1.2.0",
            "_view_name": "LayoutView",
            "align_content": null,
            "align_items": null,
            "align_self": null,
            "border": null,
            "bottom": null,
            "display": null,
            "flex": null,
            "flex_flow": null,
            "grid_area": null,
            "grid_auto_columns": null,
            "grid_auto_flow": null,
            "grid_auto_rows": null,
            "grid_column": null,
            "grid_gap": null,
            "grid_row": null,
            "grid_template_areas": null,
            "grid_template_columns": null,
            "grid_template_rows": null,
            "height": null,
            "justify_content": null,
            "justify_items": null,
            "left": null,
            "margin": null,
            "max_height": null,
            "max_width": null,
            "min_height": null,
            "min_width": null,
            "object_fit": null,
            "object_position": null,
            "order": null,
            "overflow": null,
            "overflow_x": null,
            "overflow_y": null,
            "padding": null,
            "right": null,
            "top": null,
            "visibility": null,
            "width": null
          }
        },
        "0781b016472a47febc43fa24bab412c3": {
          "model_module": "@jupyter-widgets/controls",
          "model_name": "DescriptionStyleModel",
          "model_module_version": "1.5.0",
          "state": {
            "_model_module": "@jupyter-widgets/controls",
            "_model_module_version": "1.5.0",
            "_model_name": "DescriptionStyleModel",
            "_view_count": null,
            "_view_module": "@jupyter-widgets/base",
            "_view_module_version": "1.2.0",
            "_view_name": "StyleView",
            "description_width": ""
          }
        },
        "2b5551a9e06e402398de160e514414c8": {
          "model_module": "@jupyter-widgets/controls",
          "model_name": "HBoxModel",
          "model_module_version": "1.5.0",
          "state": {
            "_dom_classes": [],
            "_model_module": "@jupyter-widgets/controls",
            "_model_module_version": "1.5.0",
            "_model_name": "HBoxModel",
            "_view_count": null,
            "_view_module": "@jupyter-widgets/controls",
            "_view_module_version": "1.5.0",
            "_view_name": "HBoxView",
            "box_style": "",
            "children": [
              "IPY_MODEL_29f4f91f5ba64424b364a4e538b11308",
              "IPY_MODEL_9d419cbda91341e8b9c6371bdac1d263",
              "IPY_MODEL_34965f55674f4803823b91cb809f3bd5"
            ],
            "layout": "IPY_MODEL_90e8705f2f5b401a943e6350af7e39a4"
          }
        },
        "29f4f91f5ba64424b364a4e538b11308": {
          "model_module": "@jupyter-widgets/controls",
          "model_name": "HTMLModel",
          "model_module_version": "1.5.0",
          "state": {
            "_dom_classes": [],
            "_model_module": "@jupyter-widgets/controls",
            "_model_module_version": "1.5.0",
            "_model_name": "HTMLModel",
            "_view_count": null,
            "_view_module": "@jupyter-widgets/controls",
            "_view_module_version": "1.5.0",
            "_view_name": "HTMLView",
            "description": "",
            "description_tooltip": null,
            "layout": "IPY_MODEL_287484dd8a2a4b548d0e00b86fc44a9d",
            "placeholder": "​",
            "style": "IPY_MODEL_74ee7608dddd491c9dad936f82dae0f3",
            "value": "generation_config.json: 100%"
          }
        },
        "9d419cbda91341e8b9c6371bdac1d263": {
          "model_module": "@jupyter-widgets/controls",
          "model_name": "FloatProgressModel",
          "model_module_version": "1.5.0",
          "state": {
            "_dom_classes": [],
            "_model_module": "@jupyter-widgets/controls",
            "_model_module_version": "1.5.0",
            "_model_name": "FloatProgressModel",
            "_view_count": null,
            "_view_module": "@jupyter-widgets/controls",
            "_view_module_version": "1.5.0",
            "_view_name": "ProgressView",
            "bar_style": "success",
            "description": "",
            "description_tooltip": null,
            "layout": "IPY_MODEL_8c31743b087b4d4a834f6b929cf392d7",
            "max": 124,
            "min": 0,
            "orientation": "horizontal",
            "style": "IPY_MODEL_8a5561afdbf44a4495765ebd99c10526",
            "value": 124
          }
        },
        "34965f55674f4803823b91cb809f3bd5": {
          "model_module": "@jupyter-widgets/controls",
          "model_name": "HTMLModel",
          "model_module_version": "1.5.0",
          "state": {
            "_dom_classes": [],
            "_model_module": "@jupyter-widgets/controls",
            "_model_module_version": "1.5.0",
            "_model_name": "HTMLModel",
            "_view_count": null,
            "_view_module": "@jupyter-widgets/controls",
            "_view_module_version": "1.5.0",
            "_view_name": "HTMLView",
            "description": "",
            "description_tooltip": null,
            "layout": "IPY_MODEL_e634d82c8153416fb62d39f607f29dbb",
            "placeholder": "​",
            "style": "IPY_MODEL_ec8a91278c064ff7ac24b21563187919",
            "value": " 124/124 [00:00&lt;00:00, 15.6kB/s]"
          }
        },
        "90e8705f2f5b401a943e6350af7e39a4": {
          "model_module": "@jupyter-widgets/base",
          "model_name": "LayoutModel",
          "model_module_version": "1.2.0",
          "state": {
            "_model_module": "@jupyter-widgets/base",
            "_model_module_version": "1.2.0",
            "_model_name": "LayoutModel",
            "_view_count": null,
            "_view_module": "@jupyter-widgets/base",
            "_view_module_version": "1.2.0",
            "_view_name": "LayoutView",
            "align_content": null,
            "align_items": null,
            "align_self": null,
            "border": null,
            "bottom": null,
            "display": null,
            "flex": null,
            "flex_flow": null,
            "grid_area": null,
            "grid_auto_columns": null,
            "grid_auto_flow": null,
            "grid_auto_rows": null,
            "grid_column": null,
            "grid_gap": null,
            "grid_row": null,
            "grid_template_areas": null,
            "grid_template_columns": null,
            "grid_template_rows": null,
            "height": null,
            "justify_content": null,
            "justify_items": null,
            "left": null,
            "margin": null,
            "max_height": null,
            "max_width": null,
            "min_height": null,
            "min_width": null,
            "object_fit": null,
            "object_position": null,
            "order": null,
            "overflow": null,
            "overflow_x": null,
            "overflow_y": null,
            "padding": null,
            "right": null,
            "top": null,
            "visibility": null,
            "width": null
          }
        },
        "287484dd8a2a4b548d0e00b86fc44a9d": {
          "model_module": "@jupyter-widgets/base",
          "model_name": "LayoutModel",
          "model_module_version": "1.2.0",
          "state": {
            "_model_module": "@jupyter-widgets/base",
            "_model_module_version": "1.2.0",
            "_model_name": "LayoutModel",
            "_view_count": null,
            "_view_module": "@jupyter-widgets/base",
            "_view_module_version": "1.2.0",
            "_view_name": "LayoutView",
            "align_content": null,
            "align_items": null,
            "align_self": null,
            "border": null,
            "bottom": null,
            "display": null,
            "flex": null,
            "flex_flow": null,
            "grid_area": null,
            "grid_auto_columns": null,
            "grid_auto_flow": null,
            "grid_auto_rows": null,
            "grid_column": null,
            "grid_gap": null,
            "grid_row": null,
            "grid_template_areas": null,
            "grid_template_columns": null,
            "grid_template_rows": null,
            "height": null,
            "justify_content": null,
            "justify_items": null,
            "left": null,
            "margin": null,
            "max_height": null,
            "max_width": null,
            "min_height": null,
            "min_width": null,
            "object_fit": null,
            "object_position": null,
            "order": null,
            "overflow": null,
            "overflow_x": null,
            "overflow_y": null,
            "padding": null,
            "right": null,
            "top": null,
            "visibility": null,
            "width": null
          }
        },
        "74ee7608dddd491c9dad936f82dae0f3": {
          "model_module": "@jupyter-widgets/controls",
          "model_name": "DescriptionStyleModel",
          "model_module_version": "1.5.0",
          "state": {
            "_model_module": "@jupyter-widgets/controls",
            "_model_module_version": "1.5.0",
            "_model_name": "DescriptionStyleModel",
            "_view_count": null,
            "_view_module": "@jupyter-widgets/base",
            "_view_module_version": "1.2.0",
            "_view_name": "StyleView",
            "description_width": ""
          }
        },
        "8c31743b087b4d4a834f6b929cf392d7": {
          "model_module": "@jupyter-widgets/base",
          "model_name": "LayoutModel",
          "model_module_version": "1.2.0",
          "state": {
            "_model_module": "@jupyter-widgets/base",
            "_model_module_version": "1.2.0",
            "_model_name": "LayoutModel",
            "_view_count": null,
            "_view_module": "@jupyter-widgets/base",
            "_view_module_version": "1.2.0",
            "_view_name": "LayoutView",
            "align_content": null,
            "align_items": null,
            "align_self": null,
            "border": null,
            "bottom": null,
            "display": null,
            "flex": null,
            "flex_flow": null,
            "grid_area": null,
            "grid_auto_columns": null,
            "grid_auto_flow": null,
            "grid_auto_rows": null,
            "grid_column": null,
            "grid_gap": null,
            "grid_row": null,
            "grid_template_areas": null,
            "grid_template_columns": null,
            "grid_template_rows": null,
            "height": null,
            "justify_content": null,
            "justify_items": null,
            "left": null,
            "margin": null,
            "max_height": null,
            "max_width": null,
            "min_height": null,
            "min_width": null,
            "object_fit": null,
            "object_position": null,
            "order": null,
            "overflow": null,
            "overflow_x": null,
            "overflow_y": null,
            "padding": null,
            "right": null,
            "top": null,
            "visibility": null,
            "width": null
          }
        },
        "8a5561afdbf44a4495765ebd99c10526": {
          "model_module": "@jupyter-widgets/controls",
          "model_name": "ProgressStyleModel",
          "model_module_version": "1.5.0",
          "state": {
            "_model_module": "@jupyter-widgets/controls",
            "_model_module_version": "1.5.0",
            "_model_name": "ProgressStyleModel",
            "_view_count": null,
            "_view_module": "@jupyter-widgets/base",
            "_view_module_version": "1.2.0",
            "_view_name": "StyleView",
            "bar_color": null,
            "description_width": ""
          }
        },
        "e634d82c8153416fb62d39f607f29dbb": {
          "model_module": "@jupyter-widgets/base",
          "model_name": "LayoutModel",
          "model_module_version": "1.2.0",
          "state": {
            "_model_module": "@jupyter-widgets/base",
            "_model_module_version": "1.2.0",
            "_model_name": "LayoutModel",
            "_view_count": null,
            "_view_module": "@jupyter-widgets/base",
            "_view_module_version": "1.2.0",
            "_view_name": "LayoutView",
            "align_content": null,
            "align_items": null,
            "align_self": null,
            "border": null,
            "bottom": null,
            "display": null,
            "flex": null,
            "flex_flow": null,
            "grid_area": null,
            "grid_auto_columns": null,
            "grid_auto_flow": null,
            "grid_auto_rows": null,
            "grid_column": null,
            "grid_gap": null,
            "grid_row": null,
            "grid_template_areas": null,
            "grid_template_columns": null,
            "grid_template_rows": null,
            "height": null,
            "justify_content": null,
            "justify_items": null,
            "left": null,
            "margin": null,
            "max_height": null,
            "max_width": null,
            "min_height": null,
            "min_width": null,
            "object_fit": null,
            "object_position": null,
            "order": null,
            "overflow": null,
            "overflow_x": null,
            "overflow_y": null,
            "padding": null,
            "right": null,
            "top": null,
            "visibility": null,
            "width": null
          }
        },
        "ec8a91278c064ff7ac24b21563187919": {
          "model_module": "@jupyter-widgets/controls",
          "model_name": "DescriptionStyleModel",
          "model_module_version": "1.5.0",
          "state": {
            "_model_module": "@jupyter-widgets/controls",
            "_model_module_version": "1.5.0",
            "_model_name": "DescriptionStyleModel",
            "_view_count": null,
            "_view_module": "@jupyter-widgets/base",
            "_view_module_version": "1.2.0",
            "_view_name": "StyleView",
            "description_width": ""
          }
        },
        "a8113653510a4e1398cba70cc742b839": {
          "model_module": "@jupyter-widgets/controls",
          "model_name": "HBoxModel",
          "model_module_version": "1.5.0",
          "state": {
            "_dom_classes": [],
            "_model_module": "@jupyter-widgets/controls",
            "_model_module_version": "1.5.0",
            "_model_name": "HBoxModel",
            "_view_count": null,
            "_view_module": "@jupyter-widgets/controls",
            "_view_module_version": "1.5.0",
            "_view_name": "HBoxView",
            "box_style": "",
            "children": [
              "IPY_MODEL_c07ec17b3d384525a301b676fdfe1e3d",
              "IPY_MODEL_dc5d776c4ac04df7ac78210e4f3ccd35",
              "IPY_MODEL_b5eb3713ccb94697a2503f1ffbb73c6c"
            ],
            "layout": "IPY_MODEL_0a96464fd65e4dde955148b53875d784"
          }
        },
        "c07ec17b3d384525a301b676fdfe1e3d": {
          "model_module": "@jupyter-widgets/controls",
          "model_name": "HTMLModel",
          "model_module_version": "1.5.0",
          "state": {
            "_dom_classes": [],
            "_model_module": "@jupyter-widgets/controls",
            "_model_module_version": "1.5.0",
            "_model_name": "HTMLModel",
            "_view_count": null,
            "_view_module": "@jupyter-widgets/controls",
            "_view_module_version": "1.5.0",
            "_view_name": "HTMLView",
            "description": "",
            "description_tooltip": null,
            "layout": "IPY_MODEL_94df971108cd46af94383242870f6b86",
            "placeholder": "​",
            "style": "IPY_MODEL_86b3be45a8314005ae966cd209c63c1a",
            "value": "Training Epoch 1: 100%"
          }
        },
        "dc5d776c4ac04df7ac78210e4f3ccd35": {
          "model_module": "@jupyter-widgets/controls",
          "model_name": "FloatProgressModel",
          "model_module_version": "1.5.0",
          "state": {
            "_dom_classes": [],
            "_model_module": "@jupyter-widgets/controls",
            "_model_module_version": "1.5.0",
            "_model_name": "FloatProgressModel",
            "_view_count": null,
            "_view_module": "@jupyter-widgets/controls",
            "_view_module_version": "1.5.0",
            "_view_name": "ProgressView",
            "bar_style": "success",
            "description": "",
            "description_tooltip": null,
            "layout": "IPY_MODEL_73462f883f6f4923b38e86c595e7fd81",
            "max": 3060,
            "min": 0,
            "orientation": "horizontal",
            "style": "IPY_MODEL_bbd9c5bada7041048743224bf230698c",
            "value": 3060
          }
        },
        "b5eb3713ccb94697a2503f1ffbb73c6c": {
          "model_module": "@jupyter-widgets/controls",
          "model_name": "HTMLModel",
          "model_module_version": "1.5.0",
          "state": {
            "_dom_classes": [],
            "_model_module": "@jupyter-widgets/controls",
            "_model_module_version": "1.5.0",
            "_model_name": "HTMLModel",
            "_view_count": null,
            "_view_module": "@jupyter-widgets/controls",
            "_view_module_version": "1.5.0",
            "_view_name": "HTMLView",
            "description": "",
            "description_tooltip": null,
            "layout": "IPY_MODEL_198269c7091645ea8fe31aae59ba5655",
            "placeholder": "​",
            "style": "IPY_MODEL_63b1cb7d9c2b49f8826ac95cab0dbcfc",
            "value": " 3060/3060 [23:48&lt;00:00,  2.14it/s, loss=0.5389]"
          }
        },
        "0a96464fd65e4dde955148b53875d784": {
          "model_module": "@jupyter-widgets/base",
          "model_name": "LayoutModel",
          "model_module_version": "1.2.0",
          "state": {
            "_model_module": "@jupyter-widgets/base",
            "_model_module_version": "1.2.0",
            "_model_name": "LayoutModel",
            "_view_count": null,
            "_view_module": "@jupyter-widgets/base",
            "_view_module_version": "1.2.0",
            "_view_name": "LayoutView",
            "align_content": null,
            "align_items": null,
            "align_self": null,
            "border": null,
            "bottom": null,
            "display": null,
            "flex": null,
            "flex_flow": null,
            "grid_area": null,
            "grid_auto_columns": null,
            "grid_auto_flow": null,
            "grid_auto_rows": null,
            "grid_column": null,
            "grid_gap": null,
            "grid_row": null,
            "grid_template_areas": null,
            "grid_template_columns": null,
            "grid_template_rows": null,
            "height": null,
            "justify_content": null,
            "justify_items": null,
            "left": null,
            "margin": null,
            "max_height": null,
            "max_width": null,
            "min_height": null,
            "min_width": null,
            "object_fit": null,
            "object_position": null,
            "order": null,
            "overflow": null,
            "overflow_x": null,
            "overflow_y": null,
            "padding": null,
            "right": null,
            "top": null,
            "visibility": null,
            "width": null
          }
        },
        "94df971108cd46af94383242870f6b86": {
          "model_module": "@jupyter-widgets/base",
          "model_name": "LayoutModel",
          "model_module_version": "1.2.0",
          "state": {
            "_model_module": "@jupyter-widgets/base",
            "_model_module_version": "1.2.0",
            "_model_name": "LayoutModel",
            "_view_count": null,
            "_view_module": "@jupyter-widgets/base",
            "_view_module_version": "1.2.0",
            "_view_name": "LayoutView",
            "align_content": null,
            "align_items": null,
            "align_self": null,
            "border": null,
            "bottom": null,
            "display": null,
            "flex": null,
            "flex_flow": null,
            "grid_area": null,
            "grid_auto_columns": null,
            "grid_auto_flow": null,
            "grid_auto_rows": null,
            "grid_column": null,
            "grid_gap": null,
            "grid_row": null,
            "grid_template_areas": null,
            "grid_template_columns": null,
            "grid_template_rows": null,
            "height": null,
            "justify_content": null,
            "justify_items": null,
            "left": null,
            "margin": null,
            "max_height": null,
            "max_width": null,
            "min_height": null,
            "min_width": null,
            "object_fit": null,
            "object_position": null,
            "order": null,
            "overflow": null,
            "overflow_x": null,
            "overflow_y": null,
            "padding": null,
            "right": null,
            "top": null,
            "visibility": null,
            "width": null
          }
        },
        "86b3be45a8314005ae966cd209c63c1a": {
          "model_module": "@jupyter-widgets/controls",
          "model_name": "DescriptionStyleModel",
          "model_module_version": "1.5.0",
          "state": {
            "_model_module": "@jupyter-widgets/controls",
            "_model_module_version": "1.5.0",
            "_model_name": "DescriptionStyleModel",
            "_view_count": null,
            "_view_module": "@jupyter-widgets/base",
            "_view_module_version": "1.2.0",
            "_view_name": "StyleView",
            "description_width": ""
          }
        },
        "73462f883f6f4923b38e86c595e7fd81": {
          "model_module": "@jupyter-widgets/base",
          "model_name": "LayoutModel",
          "model_module_version": "1.2.0",
          "state": {
            "_model_module": "@jupyter-widgets/base",
            "_model_module_version": "1.2.0",
            "_model_name": "LayoutModel",
            "_view_count": null,
            "_view_module": "@jupyter-widgets/base",
            "_view_module_version": "1.2.0",
            "_view_name": "LayoutView",
            "align_content": null,
            "align_items": null,
            "align_self": null,
            "border": null,
            "bottom": null,
            "display": null,
            "flex": null,
            "flex_flow": null,
            "grid_area": null,
            "grid_auto_columns": null,
            "grid_auto_flow": null,
            "grid_auto_rows": null,
            "grid_column": null,
            "grid_gap": null,
            "grid_row": null,
            "grid_template_areas": null,
            "grid_template_columns": null,
            "grid_template_rows": null,
            "height": null,
            "justify_content": null,
            "justify_items": null,
            "left": null,
            "margin": null,
            "max_height": null,
            "max_width": null,
            "min_height": null,
            "min_width": null,
            "object_fit": null,
            "object_position": null,
            "order": null,
            "overflow": null,
            "overflow_x": null,
            "overflow_y": null,
            "padding": null,
            "right": null,
            "top": null,
            "visibility": null,
            "width": null
          }
        },
        "bbd9c5bada7041048743224bf230698c": {
          "model_module": "@jupyter-widgets/controls",
          "model_name": "ProgressStyleModel",
          "model_module_version": "1.5.0",
          "state": {
            "_model_module": "@jupyter-widgets/controls",
            "_model_module_version": "1.5.0",
            "_model_name": "ProgressStyleModel",
            "_view_count": null,
            "_view_module": "@jupyter-widgets/base",
            "_view_module_version": "1.2.0",
            "_view_name": "StyleView",
            "bar_color": null,
            "description_width": ""
          }
        },
        "198269c7091645ea8fe31aae59ba5655": {
          "model_module": "@jupyter-widgets/base",
          "model_name": "LayoutModel",
          "model_module_version": "1.2.0",
          "state": {
            "_model_module": "@jupyter-widgets/base",
            "_model_module_version": "1.2.0",
            "_model_name": "LayoutModel",
            "_view_count": null,
            "_view_module": "@jupyter-widgets/base",
            "_view_module_version": "1.2.0",
            "_view_name": "LayoutView",
            "align_content": null,
            "align_items": null,
            "align_self": null,
            "border": null,
            "bottom": null,
            "display": null,
            "flex": null,
            "flex_flow": null,
            "grid_area": null,
            "grid_auto_columns": null,
            "grid_auto_flow": null,
            "grid_auto_rows": null,
            "grid_column": null,
            "grid_gap": null,
            "grid_row": null,
            "grid_template_areas": null,
            "grid_template_columns": null,
            "grid_template_rows": null,
            "height": null,
            "justify_content": null,
            "justify_items": null,
            "left": null,
            "margin": null,
            "max_height": null,
            "max_width": null,
            "min_height": null,
            "min_width": null,
            "object_fit": null,
            "object_position": null,
            "order": null,
            "overflow": null,
            "overflow_x": null,
            "overflow_y": null,
            "padding": null,
            "right": null,
            "top": null,
            "visibility": null,
            "width": null
          }
        },
        "63b1cb7d9c2b49f8826ac95cab0dbcfc": {
          "model_module": "@jupyter-widgets/controls",
          "model_name": "DescriptionStyleModel",
          "model_module_version": "1.5.0",
          "state": {
            "_model_module": "@jupyter-widgets/controls",
            "_model_module_version": "1.5.0",
            "_model_name": "DescriptionStyleModel",
            "_view_count": null,
            "_view_module": "@jupyter-widgets/base",
            "_view_module_version": "1.2.0",
            "_view_name": "StyleView",
            "description_width": ""
          }
        },
        "939900fed69b465b9c337645f6f8998f": {
          "model_module": "@jupyter-widgets/controls",
          "model_name": "HBoxModel",
          "model_module_version": "1.5.0",
          "state": {
            "_dom_classes": [],
            "_model_module": "@jupyter-widgets/controls",
            "_model_module_version": "1.5.0",
            "_model_name": "HBoxModel",
            "_view_count": null,
            "_view_module": "@jupyter-widgets/controls",
            "_view_module_version": "1.5.0",
            "_view_name": "HBoxView",
            "box_style": "",
            "children": [
              "IPY_MODEL_7187950b55194eb596228b8303289bf1",
              "IPY_MODEL_6c97b99476894527a4fd05c4bcc17a70",
              "IPY_MODEL_80da3650d31b41dc8e121a59948ceee2"
            ],
            "layout": "IPY_MODEL_81b569e1dde04cc1aaa7927729864925"
          }
        },
        "7187950b55194eb596228b8303289bf1": {
          "model_module": "@jupyter-widgets/controls",
          "model_name": "HTMLModel",
          "model_module_version": "1.5.0",
          "state": {
            "_dom_classes": [],
            "_model_module": "@jupyter-widgets/controls",
            "_model_module_version": "1.5.0",
            "_model_name": "HTMLModel",
            "_view_count": null,
            "_view_module": "@jupyter-widgets/controls",
            "_view_module_version": "1.5.0",
            "_view_name": "HTMLView",
            "description": "",
            "description_tooltip": null,
            "layout": "IPY_MODEL_8818773bad464887b197b8a1a87184d6",
            "placeholder": "​",
            "style": "IPY_MODEL_5a393cc3f9b24b70946d86bf1ebaf705",
            "value": "Training Epoch 1: 100%"
          }
        },
        "6c97b99476894527a4fd05c4bcc17a70": {
          "model_module": "@jupyter-widgets/controls",
          "model_name": "FloatProgressModel",
          "model_module_version": "1.5.0",
          "state": {
            "_dom_classes": [],
            "_model_module": "@jupyter-widgets/controls",
            "_model_module_version": "1.5.0",
            "_model_name": "FloatProgressModel",
            "_view_count": null,
            "_view_module": "@jupyter-widgets/controls",
            "_view_module_version": "1.5.0",
            "_view_name": "ProgressView",
            "bar_style": "success",
            "description": "",
            "description_tooltip": null,
            "layout": "IPY_MODEL_72fb4ea10c43480db30377f31befaf26",
            "max": 3060,
            "min": 0,
            "orientation": "horizontal",
            "style": "IPY_MODEL_85de52b38d57414eaef37ba0d76f61d2",
            "value": 3060
          }
        },
        "80da3650d31b41dc8e121a59948ceee2": {
          "model_module": "@jupyter-widgets/controls",
          "model_name": "HTMLModel",
          "model_module_version": "1.5.0",
          "state": {
            "_dom_classes": [],
            "_model_module": "@jupyter-widgets/controls",
            "_model_module_version": "1.5.0",
            "_model_name": "HTMLModel",
            "_view_count": null,
            "_view_module": "@jupyter-widgets/controls",
            "_view_module_version": "1.5.0",
            "_view_name": "HTMLView",
            "description": "",
            "description_tooltip": null,
            "layout": "IPY_MODEL_3d52a7b8299344fc8fcab3abc7fce088",
            "placeholder": "​",
            "style": "IPY_MODEL_5eaa9ca953a94a79b512fb4c258a28fa",
            "value": " 3060/3060 [23:48&lt;00:00,  2.14it/s, loss=0.4034]"
          }
        },
        "81b569e1dde04cc1aaa7927729864925": {
          "model_module": "@jupyter-widgets/base",
          "model_name": "LayoutModel",
          "model_module_version": "1.2.0",
          "state": {
            "_model_module": "@jupyter-widgets/base",
            "_model_module_version": "1.2.0",
            "_model_name": "LayoutModel",
            "_view_count": null,
            "_view_module": "@jupyter-widgets/base",
            "_view_module_version": "1.2.0",
            "_view_name": "LayoutView",
            "align_content": null,
            "align_items": null,
            "align_self": null,
            "border": null,
            "bottom": null,
            "display": null,
            "flex": null,
            "flex_flow": null,
            "grid_area": null,
            "grid_auto_columns": null,
            "grid_auto_flow": null,
            "grid_auto_rows": null,
            "grid_column": null,
            "grid_gap": null,
            "grid_row": null,
            "grid_template_areas": null,
            "grid_template_columns": null,
            "grid_template_rows": null,
            "height": null,
            "justify_content": null,
            "justify_items": null,
            "left": null,
            "margin": null,
            "max_height": null,
            "max_width": null,
            "min_height": null,
            "min_width": null,
            "object_fit": null,
            "object_position": null,
            "order": null,
            "overflow": null,
            "overflow_x": null,
            "overflow_y": null,
            "padding": null,
            "right": null,
            "top": null,
            "visibility": null,
            "width": null
          }
        },
        "8818773bad464887b197b8a1a87184d6": {
          "model_module": "@jupyter-widgets/base",
          "model_name": "LayoutModel",
          "model_module_version": "1.2.0",
          "state": {
            "_model_module": "@jupyter-widgets/base",
            "_model_module_version": "1.2.0",
            "_model_name": "LayoutModel",
            "_view_count": null,
            "_view_module": "@jupyter-widgets/base",
            "_view_module_version": "1.2.0",
            "_view_name": "LayoutView",
            "align_content": null,
            "align_items": null,
            "align_self": null,
            "border": null,
            "bottom": null,
            "display": null,
            "flex": null,
            "flex_flow": null,
            "grid_area": null,
            "grid_auto_columns": null,
            "grid_auto_flow": null,
            "grid_auto_rows": null,
            "grid_column": null,
            "grid_gap": null,
            "grid_row": null,
            "grid_template_areas": null,
            "grid_template_columns": null,
            "grid_template_rows": null,
            "height": null,
            "justify_content": null,
            "justify_items": null,
            "left": null,
            "margin": null,
            "max_height": null,
            "max_width": null,
            "min_height": null,
            "min_width": null,
            "object_fit": null,
            "object_position": null,
            "order": null,
            "overflow": null,
            "overflow_x": null,
            "overflow_y": null,
            "padding": null,
            "right": null,
            "top": null,
            "visibility": null,
            "width": null
          }
        },
        "5a393cc3f9b24b70946d86bf1ebaf705": {
          "model_module": "@jupyter-widgets/controls",
          "model_name": "DescriptionStyleModel",
          "model_module_version": "1.5.0",
          "state": {
            "_model_module": "@jupyter-widgets/controls",
            "_model_module_version": "1.5.0",
            "_model_name": "DescriptionStyleModel",
            "_view_count": null,
            "_view_module": "@jupyter-widgets/base",
            "_view_module_version": "1.2.0",
            "_view_name": "StyleView",
            "description_width": ""
          }
        },
        "72fb4ea10c43480db30377f31befaf26": {
          "model_module": "@jupyter-widgets/base",
          "model_name": "LayoutModel",
          "model_module_version": "1.2.0",
          "state": {
            "_model_module": "@jupyter-widgets/base",
            "_model_module_version": "1.2.0",
            "_model_name": "LayoutModel",
            "_view_count": null,
            "_view_module": "@jupyter-widgets/base",
            "_view_module_version": "1.2.0",
            "_view_name": "LayoutView",
            "align_content": null,
            "align_items": null,
            "align_self": null,
            "border": null,
            "bottom": null,
            "display": null,
            "flex": null,
            "flex_flow": null,
            "grid_area": null,
            "grid_auto_columns": null,
            "grid_auto_flow": null,
            "grid_auto_rows": null,
            "grid_column": null,
            "grid_gap": null,
            "grid_row": null,
            "grid_template_areas": null,
            "grid_template_columns": null,
            "grid_template_rows": null,
            "height": null,
            "justify_content": null,
            "justify_items": null,
            "left": null,
            "margin": null,
            "max_height": null,
            "max_width": null,
            "min_height": null,
            "min_width": null,
            "object_fit": null,
            "object_position": null,
            "order": null,
            "overflow": null,
            "overflow_x": null,
            "overflow_y": null,
            "padding": null,
            "right": null,
            "top": null,
            "visibility": null,
            "width": null
          }
        },
        "85de52b38d57414eaef37ba0d76f61d2": {
          "model_module": "@jupyter-widgets/controls",
          "model_name": "ProgressStyleModel",
          "model_module_version": "1.5.0",
          "state": {
            "_model_module": "@jupyter-widgets/controls",
            "_model_module_version": "1.5.0",
            "_model_name": "ProgressStyleModel",
            "_view_count": null,
            "_view_module": "@jupyter-widgets/base",
            "_view_module_version": "1.2.0",
            "_view_name": "StyleView",
            "bar_color": null,
            "description_width": ""
          }
        },
        "3d52a7b8299344fc8fcab3abc7fce088": {
          "model_module": "@jupyter-widgets/base",
          "model_name": "LayoutModel",
          "model_module_version": "1.2.0",
          "state": {
            "_model_module": "@jupyter-widgets/base",
            "_model_module_version": "1.2.0",
            "_model_name": "LayoutModel",
            "_view_count": null,
            "_view_module": "@jupyter-widgets/base",
            "_view_module_version": "1.2.0",
            "_view_name": "LayoutView",
            "align_content": null,
            "align_items": null,
            "align_self": null,
            "border": null,
            "bottom": null,
            "display": null,
            "flex": null,
            "flex_flow": null,
            "grid_area": null,
            "grid_auto_columns": null,
            "grid_auto_flow": null,
            "grid_auto_rows": null,
            "grid_column": null,
            "grid_gap": null,
            "grid_row": null,
            "grid_template_areas": null,
            "grid_template_columns": null,
            "grid_template_rows": null,
            "height": null,
            "justify_content": null,
            "justify_items": null,
            "left": null,
            "margin": null,
            "max_height": null,
            "max_width": null,
            "min_height": null,
            "min_width": null,
            "object_fit": null,
            "object_position": null,
            "order": null,
            "overflow": null,
            "overflow_x": null,
            "overflow_y": null,
            "padding": null,
            "right": null,
            "top": null,
            "visibility": null,
            "width": null
          }
        },
        "5eaa9ca953a94a79b512fb4c258a28fa": {
          "model_module": "@jupyter-widgets/controls",
          "model_name": "DescriptionStyleModel",
          "model_module_version": "1.5.0",
          "state": {
            "_model_module": "@jupyter-widgets/controls",
            "_model_module_version": "1.5.0",
            "_model_name": "DescriptionStyleModel",
            "_view_count": null,
            "_view_module": "@jupyter-widgets/base",
            "_view_module_version": "1.2.0",
            "_view_name": "StyleView",
            "description_width": ""
          }
        },
        "191fad9b0fdc404c9f69038aa55a8cc4": {
          "model_module": "@jupyter-widgets/controls",
          "model_name": "HBoxModel",
          "model_module_version": "1.5.0",
          "state": {
            "_dom_classes": [],
            "_model_module": "@jupyter-widgets/controls",
            "_model_module_version": "1.5.0",
            "_model_name": "HBoxModel",
            "_view_count": null,
            "_view_module": "@jupyter-widgets/controls",
            "_view_module_version": "1.5.0",
            "_view_name": "HBoxView",
            "box_style": "",
            "children": [
              "IPY_MODEL_d1d06ae2ae374b4c9d3121115605970d",
              "IPY_MODEL_3f099c089d014b4c8f60bf55374e2ea5",
              "IPY_MODEL_81899399a3ec40ad98a9293ad811f2e8"
            ],
            "layout": "IPY_MODEL_c92b7c703de7428b822e7bc5e5544583"
          }
        },
        "d1d06ae2ae374b4c9d3121115605970d": {
          "model_module": "@jupyter-widgets/controls",
          "model_name": "HTMLModel",
          "model_module_version": "1.5.0",
          "state": {
            "_dom_classes": [],
            "_model_module": "@jupyter-widgets/controls",
            "_model_module_version": "1.5.0",
            "_model_name": "HTMLModel",
            "_view_count": null,
            "_view_module": "@jupyter-widgets/controls",
            "_view_module_version": "1.5.0",
            "_view_name": "HTMLView",
            "description": "",
            "description_tooltip": null,
            "layout": "IPY_MODEL_3dc738b056e147c0a3a55ddd422afddc",
            "placeholder": "​",
            "style": "IPY_MODEL_1ee64536f2a241c29ac77f1f6f3f9372",
            "value": "Training Epoch 2: 100%"
          }
        },
        "3f099c089d014b4c8f60bf55374e2ea5": {
          "model_module": "@jupyter-widgets/controls",
          "model_name": "FloatProgressModel",
          "model_module_version": "1.5.0",
          "state": {
            "_dom_classes": [],
            "_model_module": "@jupyter-widgets/controls",
            "_model_module_version": "1.5.0",
            "_model_name": "FloatProgressModel",
            "_view_count": null,
            "_view_module": "@jupyter-widgets/controls",
            "_view_module_version": "1.5.0",
            "_view_name": "ProgressView",
            "bar_style": "success",
            "description": "",
            "description_tooltip": null,
            "layout": "IPY_MODEL_0e23bd1955e74625bbf5d54783b84dfb",
            "max": 3060,
            "min": 0,
            "orientation": "horizontal",
            "style": "IPY_MODEL_6ea0a4df81f54df5a2d276855bb17941",
            "value": 3060
          }
        },
        "81899399a3ec40ad98a9293ad811f2e8": {
          "model_module": "@jupyter-widgets/controls",
          "model_name": "HTMLModel",
          "model_module_version": "1.5.0",
          "state": {
            "_dom_classes": [],
            "_model_module": "@jupyter-widgets/controls",
            "_model_module_version": "1.5.0",
            "_model_name": "HTMLModel",
            "_view_count": null,
            "_view_module": "@jupyter-widgets/controls",
            "_view_module_version": "1.5.0",
            "_view_name": "HTMLView",
            "description": "",
            "description_tooltip": null,
            "layout": "IPY_MODEL_634c97d7ee334bfbb4a1f4ed8003f5e0",
            "placeholder": "​",
            "style": "IPY_MODEL_a95d3d3dc66d403b96158286ee44ffad",
            "value": " 3060/3060 [23:48&lt;00:00,  2.14it/s, loss=0.4530]"
          }
        },
        "c92b7c703de7428b822e7bc5e5544583": {
          "model_module": "@jupyter-widgets/base",
          "model_name": "LayoutModel",
          "model_module_version": "1.2.0",
          "state": {
            "_model_module": "@jupyter-widgets/base",
            "_model_module_version": "1.2.0",
            "_model_name": "LayoutModel",
            "_view_count": null,
            "_view_module": "@jupyter-widgets/base",
            "_view_module_version": "1.2.0",
            "_view_name": "LayoutView",
            "align_content": null,
            "align_items": null,
            "align_self": null,
            "border": null,
            "bottom": null,
            "display": null,
            "flex": null,
            "flex_flow": null,
            "grid_area": null,
            "grid_auto_columns": null,
            "grid_auto_flow": null,
            "grid_auto_rows": null,
            "grid_column": null,
            "grid_gap": null,
            "grid_row": null,
            "grid_template_areas": null,
            "grid_template_columns": null,
            "grid_template_rows": null,
            "height": null,
            "justify_content": null,
            "justify_items": null,
            "left": null,
            "margin": null,
            "max_height": null,
            "max_width": null,
            "min_height": null,
            "min_width": null,
            "object_fit": null,
            "object_position": null,
            "order": null,
            "overflow": null,
            "overflow_x": null,
            "overflow_y": null,
            "padding": null,
            "right": null,
            "top": null,
            "visibility": null,
            "width": null
          }
        },
        "3dc738b056e147c0a3a55ddd422afddc": {
          "model_module": "@jupyter-widgets/base",
          "model_name": "LayoutModel",
          "model_module_version": "1.2.0",
          "state": {
            "_model_module": "@jupyter-widgets/base",
            "_model_module_version": "1.2.0",
            "_model_name": "LayoutModel",
            "_view_count": null,
            "_view_module": "@jupyter-widgets/base",
            "_view_module_version": "1.2.0",
            "_view_name": "LayoutView",
            "align_content": null,
            "align_items": null,
            "align_self": null,
            "border": null,
            "bottom": null,
            "display": null,
            "flex": null,
            "flex_flow": null,
            "grid_area": null,
            "grid_auto_columns": null,
            "grid_auto_flow": null,
            "grid_auto_rows": null,
            "grid_column": null,
            "grid_gap": null,
            "grid_row": null,
            "grid_template_areas": null,
            "grid_template_columns": null,
            "grid_template_rows": null,
            "height": null,
            "justify_content": null,
            "justify_items": null,
            "left": null,
            "margin": null,
            "max_height": null,
            "max_width": null,
            "min_height": null,
            "min_width": null,
            "object_fit": null,
            "object_position": null,
            "order": null,
            "overflow": null,
            "overflow_x": null,
            "overflow_y": null,
            "padding": null,
            "right": null,
            "top": null,
            "visibility": null,
            "width": null
          }
        },
        "1ee64536f2a241c29ac77f1f6f3f9372": {
          "model_module": "@jupyter-widgets/controls",
          "model_name": "DescriptionStyleModel",
          "model_module_version": "1.5.0",
          "state": {
            "_model_module": "@jupyter-widgets/controls",
            "_model_module_version": "1.5.0",
            "_model_name": "DescriptionStyleModel",
            "_view_count": null,
            "_view_module": "@jupyter-widgets/base",
            "_view_module_version": "1.2.0",
            "_view_name": "StyleView",
            "description_width": ""
          }
        },
        "0e23bd1955e74625bbf5d54783b84dfb": {
          "model_module": "@jupyter-widgets/base",
          "model_name": "LayoutModel",
          "model_module_version": "1.2.0",
          "state": {
            "_model_module": "@jupyter-widgets/base",
            "_model_module_version": "1.2.0",
            "_model_name": "LayoutModel",
            "_view_count": null,
            "_view_module": "@jupyter-widgets/base",
            "_view_module_version": "1.2.0",
            "_view_name": "LayoutView",
            "align_content": null,
            "align_items": null,
            "align_self": null,
            "border": null,
            "bottom": null,
            "display": null,
            "flex": null,
            "flex_flow": null,
            "grid_area": null,
            "grid_auto_columns": null,
            "grid_auto_flow": null,
            "grid_auto_rows": null,
            "grid_column": null,
            "grid_gap": null,
            "grid_row": null,
            "grid_template_areas": null,
            "grid_template_columns": null,
            "grid_template_rows": null,
            "height": null,
            "justify_content": null,
            "justify_items": null,
            "left": null,
            "margin": null,
            "max_height": null,
            "max_width": null,
            "min_height": null,
            "min_width": null,
            "object_fit": null,
            "object_position": null,
            "order": null,
            "overflow": null,
            "overflow_x": null,
            "overflow_y": null,
            "padding": null,
            "right": null,
            "top": null,
            "visibility": null,
            "width": null
          }
        },
        "6ea0a4df81f54df5a2d276855bb17941": {
          "model_module": "@jupyter-widgets/controls",
          "model_name": "ProgressStyleModel",
          "model_module_version": "1.5.0",
          "state": {
            "_model_module": "@jupyter-widgets/controls",
            "_model_module_version": "1.5.0",
            "_model_name": "ProgressStyleModel",
            "_view_count": null,
            "_view_module": "@jupyter-widgets/base",
            "_view_module_version": "1.2.0",
            "_view_name": "StyleView",
            "bar_color": null,
            "description_width": ""
          }
        },
        "634c97d7ee334bfbb4a1f4ed8003f5e0": {
          "model_module": "@jupyter-widgets/base",
          "model_name": "LayoutModel",
          "model_module_version": "1.2.0",
          "state": {
            "_model_module": "@jupyter-widgets/base",
            "_model_module_version": "1.2.0",
            "_model_name": "LayoutModel",
            "_view_count": null,
            "_view_module": "@jupyter-widgets/base",
            "_view_module_version": "1.2.0",
            "_view_name": "LayoutView",
            "align_content": null,
            "align_items": null,
            "align_self": null,
            "border": null,
            "bottom": null,
            "display": null,
            "flex": null,
            "flex_flow": null,
            "grid_area": null,
            "grid_auto_columns": null,
            "grid_auto_flow": null,
            "grid_auto_rows": null,
            "grid_column": null,
            "grid_gap": null,
            "grid_row": null,
            "grid_template_areas": null,
            "grid_template_columns": null,
            "grid_template_rows": null,
            "height": null,
            "justify_content": null,
            "justify_items": null,
            "left": null,
            "margin": null,
            "max_height": null,
            "max_width": null,
            "min_height": null,
            "min_width": null,
            "object_fit": null,
            "object_position": null,
            "order": null,
            "overflow": null,
            "overflow_x": null,
            "overflow_y": null,
            "padding": null,
            "right": null,
            "top": null,
            "visibility": null,
            "width": null
          }
        },
        "a95d3d3dc66d403b96158286ee44ffad": {
          "model_module": "@jupyter-widgets/controls",
          "model_name": "DescriptionStyleModel",
          "model_module_version": "1.5.0",
          "state": {
            "_model_module": "@jupyter-widgets/controls",
            "_model_module_version": "1.5.0",
            "_model_name": "DescriptionStyleModel",
            "_view_count": null,
            "_view_module": "@jupyter-widgets/base",
            "_view_module_version": "1.2.0",
            "_view_name": "StyleView",
            "description_width": ""
          }
        },
        "19297c33a598451482ffbeeb0a8f8080": {
          "model_module": "@jupyter-widgets/controls",
          "model_name": "HBoxModel",
          "model_module_version": "1.5.0",
          "state": {
            "_dom_classes": [],
            "_model_module": "@jupyter-widgets/controls",
            "_model_module_version": "1.5.0",
            "_model_name": "HBoxModel",
            "_view_count": null,
            "_view_module": "@jupyter-widgets/controls",
            "_view_module_version": "1.5.0",
            "_view_name": "HBoxView",
            "box_style": "",
            "children": [
              "IPY_MODEL_d560378db2af457c891824d473544bc2",
              "IPY_MODEL_2f154b923a304d85a250e29b8aff5a48",
              "IPY_MODEL_6d3b7edb532f4bffa7765d06bb4bbe0e"
            ],
            "layout": "IPY_MODEL_2bc8735559904b7e8fde6eb0f4af379a"
          }
        },
        "d560378db2af457c891824d473544bc2": {
          "model_module": "@jupyter-widgets/controls",
          "model_name": "HTMLModel",
          "model_module_version": "1.5.0",
          "state": {
            "_dom_classes": [],
            "_model_module": "@jupyter-widgets/controls",
            "_model_module_version": "1.5.0",
            "_model_name": "HTMLModel",
            "_view_count": null,
            "_view_module": "@jupyter-widgets/controls",
            "_view_module_version": "1.5.0",
            "_view_name": "HTMLView",
            "description": "",
            "description_tooltip": null,
            "layout": "IPY_MODEL_77cf181ed113413e8f968caad6b6fb56",
            "placeholder": "​",
            "style": "IPY_MODEL_a97fdb518fd8468796328adff533076a",
            "value": "Training Epoch 3: 100%"
          }
        },
        "2f154b923a304d85a250e29b8aff5a48": {
          "model_module": "@jupyter-widgets/controls",
          "model_name": "FloatProgressModel",
          "model_module_version": "1.5.0",
          "state": {
            "_dom_classes": [],
            "_model_module": "@jupyter-widgets/controls",
            "_model_module_version": "1.5.0",
            "_model_name": "FloatProgressModel",
            "_view_count": null,
            "_view_module": "@jupyter-widgets/controls",
            "_view_module_version": "1.5.0",
            "_view_name": "ProgressView",
            "bar_style": "success",
            "description": "",
            "description_tooltip": null,
            "layout": "IPY_MODEL_3a53edec70e14e5e9a42a44d09158d87",
            "max": 3060,
            "min": 0,
            "orientation": "horizontal",
            "style": "IPY_MODEL_5b5b70e877f04dbabfb23fe62718564c",
            "value": 3060
          }
        },
        "6d3b7edb532f4bffa7765d06bb4bbe0e": {
          "model_module": "@jupyter-widgets/controls",
          "model_name": "HTMLModel",
          "model_module_version": "1.5.0",
          "state": {
            "_dom_classes": [],
            "_model_module": "@jupyter-widgets/controls",
            "_model_module_version": "1.5.0",
            "_model_name": "HTMLModel",
            "_view_count": null,
            "_view_module": "@jupyter-widgets/controls",
            "_view_module_version": "1.5.0",
            "_view_name": "HTMLView",
            "description": "",
            "description_tooltip": null,
            "layout": "IPY_MODEL_9d81a28032e041379e6cc81d4d2b1885",
            "placeholder": "​",
            "style": "IPY_MODEL_81ab97cb3d63462a9201720e6737552a",
            "value": " 3060/3060 [23:48&lt;00:00,  2.14it/s, loss=0.4089]"
          }
        },
        "2bc8735559904b7e8fde6eb0f4af379a": {
          "model_module": "@jupyter-widgets/base",
          "model_name": "LayoutModel",
          "model_module_version": "1.2.0",
          "state": {
            "_model_module": "@jupyter-widgets/base",
            "_model_module_version": "1.2.0",
            "_model_name": "LayoutModel",
            "_view_count": null,
            "_view_module": "@jupyter-widgets/base",
            "_view_module_version": "1.2.0",
            "_view_name": "LayoutView",
            "align_content": null,
            "align_items": null,
            "align_self": null,
            "border": null,
            "bottom": null,
            "display": null,
            "flex": null,
            "flex_flow": null,
            "grid_area": null,
            "grid_auto_columns": null,
            "grid_auto_flow": null,
            "grid_auto_rows": null,
            "grid_column": null,
            "grid_gap": null,
            "grid_row": null,
            "grid_template_areas": null,
            "grid_template_columns": null,
            "grid_template_rows": null,
            "height": null,
            "justify_content": null,
            "justify_items": null,
            "left": null,
            "margin": null,
            "max_height": null,
            "max_width": null,
            "min_height": null,
            "min_width": null,
            "object_fit": null,
            "object_position": null,
            "order": null,
            "overflow": null,
            "overflow_x": null,
            "overflow_y": null,
            "padding": null,
            "right": null,
            "top": null,
            "visibility": null,
            "width": null
          }
        },
        "77cf181ed113413e8f968caad6b6fb56": {
          "model_module": "@jupyter-widgets/base",
          "model_name": "LayoutModel",
          "model_module_version": "1.2.0",
          "state": {
            "_model_module": "@jupyter-widgets/base",
            "_model_module_version": "1.2.0",
            "_model_name": "LayoutModel",
            "_view_count": null,
            "_view_module": "@jupyter-widgets/base",
            "_view_module_version": "1.2.0",
            "_view_name": "LayoutView",
            "align_content": null,
            "align_items": null,
            "align_self": null,
            "border": null,
            "bottom": null,
            "display": null,
            "flex": null,
            "flex_flow": null,
            "grid_area": null,
            "grid_auto_columns": null,
            "grid_auto_flow": null,
            "grid_auto_rows": null,
            "grid_column": null,
            "grid_gap": null,
            "grid_row": null,
            "grid_template_areas": null,
            "grid_template_columns": null,
            "grid_template_rows": null,
            "height": null,
            "justify_content": null,
            "justify_items": null,
            "left": null,
            "margin": null,
            "max_height": null,
            "max_width": null,
            "min_height": null,
            "min_width": null,
            "object_fit": null,
            "object_position": null,
            "order": null,
            "overflow": null,
            "overflow_x": null,
            "overflow_y": null,
            "padding": null,
            "right": null,
            "top": null,
            "visibility": null,
            "width": null
          }
        },
        "a97fdb518fd8468796328adff533076a": {
          "model_module": "@jupyter-widgets/controls",
          "model_name": "DescriptionStyleModel",
          "model_module_version": "1.5.0",
          "state": {
            "_model_module": "@jupyter-widgets/controls",
            "_model_module_version": "1.5.0",
            "_model_name": "DescriptionStyleModel",
            "_view_count": null,
            "_view_module": "@jupyter-widgets/base",
            "_view_module_version": "1.2.0",
            "_view_name": "StyleView",
            "description_width": ""
          }
        },
        "3a53edec70e14e5e9a42a44d09158d87": {
          "model_module": "@jupyter-widgets/base",
          "model_name": "LayoutModel",
          "model_module_version": "1.2.0",
          "state": {
            "_model_module": "@jupyter-widgets/base",
            "_model_module_version": "1.2.0",
            "_model_name": "LayoutModel",
            "_view_count": null,
            "_view_module": "@jupyter-widgets/base",
            "_view_module_version": "1.2.0",
            "_view_name": "LayoutView",
            "align_content": null,
            "align_items": null,
            "align_self": null,
            "border": null,
            "bottom": null,
            "display": null,
            "flex": null,
            "flex_flow": null,
            "grid_area": null,
            "grid_auto_columns": null,
            "grid_auto_flow": null,
            "grid_auto_rows": null,
            "grid_column": null,
            "grid_gap": null,
            "grid_row": null,
            "grid_template_areas": null,
            "grid_template_columns": null,
            "grid_template_rows": null,
            "height": null,
            "justify_content": null,
            "justify_items": null,
            "left": null,
            "margin": null,
            "max_height": null,
            "max_width": null,
            "min_height": null,
            "min_width": null,
            "object_fit": null,
            "object_position": null,
            "order": null,
            "overflow": null,
            "overflow_x": null,
            "overflow_y": null,
            "padding": null,
            "right": null,
            "top": null,
            "visibility": null,
            "width": null
          }
        },
        "5b5b70e877f04dbabfb23fe62718564c": {
          "model_module": "@jupyter-widgets/controls",
          "model_name": "ProgressStyleModel",
          "model_module_version": "1.5.0",
          "state": {
            "_model_module": "@jupyter-widgets/controls",
            "_model_module_version": "1.5.0",
            "_model_name": "ProgressStyleModel",
            "_view_count": null,
            "_view_module": "@jupyter-widgets/base",
            "_view_module_version": "1.2.0",
            "_view_name": "StyleView",
            "bar_color": null,
            "description_width": ""
          }
        },
        "9d81a28032e041379e6cc81d4d2b1885": {
          "model_module": "@jupyter-widgets/base",
          "model_name": "LayoutModel",
          "model_module_version": "1.2.0",
          "state": {
            "_model_module": "@jupyter-widgets/base",
            "_model_module_version": "1.2.0",
            "_model_name": "LayoutModel",
            "_view_count": null,
            "_view_module": "@jupyter-widgets/base",
            "_view_module_version": "1.2.0",
            "_view_name": "LayoutView",
            "align_content": null,
            "align_items": null,
            "align_self": null,
            "border": null,
            "bottom": null,
            "display": null,
            "flex": null,
            "flex_flow": null,
            "grid_area": null,
            "grid_auto_columns": null,
            "grid_auto_flow": null,
            "grid_auto_rows": null,
            "grid_column": null,
            "grid_gap": null,
            "grid_row": null,
            "grid_template_areas": null,
            "grid_template_columns": null,
            "grid_template_rows": null,
            "height": null,
            "justify_content": null,
            "justify_items": null,
            "left": null,
            "margin": null,
            "max_height": null,
            "max_width": null,
            "min_height": null,
            "min_width": null,
            "object_fit": null,
            "object_position": null,
            "order": null,
            "overflow": null,
            "overflow_x": null,
            "overflow_y": null,
            "padding": null,
            "right": null,
            "top": null,
            "visibility": null,
            "width": null
          }
        },
        "81ab97cb3d63462a9201720e6737552a": {
          "model_module": "@jupyter-widgets/controls",
          "model_name": "DescriptionStyleModel",
          "model_module_version": "1.5.0",
          "state": {
            "_model_module": "@jupyter-widgets/controls",
            "_model_module_version": "1.5.0",
            "_model_name": "DescriptionStyleModel",
            "_view_count": null,
            "_view_module": "@jupyter-widgets/base",
            "_view_module_version": "1.2.0",
            "_view_name": "StyleView",
            "description_width": ""
          }
        }
      }
    },
    "accelerator": "GPU"
  },
  "cells": [
    {
      "cell_type": "markdown",
      "source": [
        "## Idea\n",
        "\n",
        "I have an idea of implementing a Chatbot with the style “Sheldon” from Big Bang. It would be interesting.\n",
        "\n",
        "It’s just an idea now, I may use LSTM or some smaller pre trained language models. I’m still doing research."
      ],
      "metadata": {
        "id": "yract-BC1S-H"
      }
    },
    {
      "cell_type": "markdown",
      "source": [
        "## Test the origin Model"
      ],
      "metadata": {
        "id": "t95SmbErU_TH"
      }
    },
    {
      "cell_type": "markdown",
      "source": [
        "1. Install dependency"
      ],
      "metadata": {
        "id": "LIhlMvnjQhsd"
      }
    },
    {
      "cell_type": "code",
      "execution_count": 1,
      "metadata": {
        "id": "DvQJS3rT1MLa",
        "colab": {
          "base_uri": "https://localhost:8080/"
        },
        "outputId": "f954d951-c905-49e6-c9b6-7a140a1ead05"
      },
      "outputs": [
        {
          "output_type": "stream",
          "name": "stdout",
          "text": [
            "\u001b[2K   \u001b[90m━━━━━━━━━━━━━━━━━━━━━━━━━━━━━━━━━━━━━━━━\u001b[0m \u001b[32m363.4/363.4 MB\u001b[0m \u001b[31m3.5 MB/s\u001b[0m eta \u001b[36m0:00:00\u001b[0m\n",
            "\u001b[2K   \u001b[90m━━━━━━━━━━━━━━━━━━━━━━━━━━━━━━━━━━━━━━━━\u001b[0m \u001b[32m13.8/13.8 MB\u001b[0m \u001b[31m111.9 MB/s\u001b[0m eta \u001b[36m0:00:00\u001b[0m\n",
            "\u001b[2K   \u001b[90m━━━━━━━━━━━━━━━━━━━━━━━━━━━━━━━━━━━━━━━━\u001b[0m \u001b[32m24.6/24.6 MB\u001b[0m \u001b[31m80.5 MB/s\u001b[0m eta \u001b[36m0:00:00\u001b[0m\n",
            "\u001b[2K   \u001b[90m━━━━━━━━━━━━━━━━━━━━━━━━━━━━━━━━━━━━━━━━\u001b[0m \u001b[32m883.7/883.7 kB\u001b[0m \u001b[31m62.9 MB/s\u001b[0m eta \u001b[36m0:00:00\u001b[0m\n",
            "\u001b[2K   \u001b[90m━━━━━━━━━━━━━━━━━━━━━━━━━━━━━━━━━━━━━━━━\u001b[0m \u001b[32m664.8/664.8 MB\u001b[0m \u001b[31m1.8 MB/s\u001b[0m eta \u001b[36m0:00:00\u001b[0m\n",
            "\u001b[2K   \u001b[90m━━━━━━━━━━━━━━━━━━━━━━━━━━━━━━━━━━━━━━━━\u001b[0m \u001b[32m211.5/211.5 MB\u001b[0m \u001b[31m10.9 MB/s\u001b[0m eta \u001b[36m0:00:00\u001b[0m\n",
            "\u001b[2K   \u001b[90m━━━━━━━━━━━━━━━━━━━━━━━━━━━━━━━━━━━━━━━━\u001b[0m \u001b[32m56.3/56.3 MB\u001b[0m \u001b[31m41.9 MB/s\u001b[0m eta \u001b[36m0:00:00\u001b[0m\n",
            "\u001b[2K   \u001b[90m━━━━━━━━━━━━━━━━━━━━━━━━━━━━━━━━━━━━━━━━\u001b[0m \u001b[32m127.9/127.9 MB\u001b[0m \u001b[31m19.2 MB/s\u001b[0m eta \u001b[36m0:00:00\u001b[0m\n",
            "\u001b[2K   \u001b[90m━━━━━━━━━━━━━━━━━━━━━━━━━━━━━━━━━━━━━━━━\u001b[0m \u001b[32m207.5/207.5 MB\u001b[0m \u001b[31m5.1 MB/s\u001b[0m eta \u001b[36m0:00:00\u001b[0m\n",
            "\u001b[2K   \u001b[90m━━━━━━━━━━━━━━━━━━━━━━━━━━━━━━━━━━━━━━━━\u001b[0m \u001b[32m188.7/188.7 MB\u001b[0m \u001b[31m4.8 MB/s\u001b[0m eta \u001b[36m0:00:00\u001b[0m\n",
            "\u001b[2K   \u001b[90m━━━━━━━━━━━━━━━━━━━━━━━━━━━━━━━━━━━━━━━━\u001b[0m \u001b[32m21.1/21.1 MB\u001b[0m \u001b[31m101.4 MB/s\u001b[0m eta \u001b[36m0:00:00\u001b[0m\n",
            "\u001b[?25h"
          ]
        }
      ],
      "source": [
        "# Install required packages\n",
        "!pip install -q transformers torch pandas numpy scikit-learn tqdm"
      ]
    },
    {
      "cell_type": "markdown",
      "source": [
        "2. Import packages"
      ],
      "metadata": {
        "id": "ZC5-4IFAQnBz"
      }
    },
    {
      "cell_type": "code",
      "source": [
        "# Import necessary libraries\n",
        "from transformers import AutoModelForCausalLM, AutoTokenizer\n",
        "import torch\n",
        "\n",
        "print(\"Libraries imported successfully!\")\n",
        "print(f\"PyTorch version: {torch.__version__}\")\n",
        "print(f\"CUDA available: {torch.cuda.is_available()}\")\n",
        "if torch.cuda.is_available():\n",
        "    print(f\"CUDA device: {torch.cuda.get_device_name(0)}\")"
      ],
      "metadata": {
        "colab": {
          "base_uri": "https://localhost:8080/"
        },
        "id": "Uq1QYZgUQeyf",
        "outputId": "6596273b-ab40-4e5a-8373-ca584afda813"
      },
      "execution_count": 2,
      "outputs": [
        {
          "output_type": "stream",
          "name": "stdout",
          "text": [
            "Libraries imported successfully!\n",
            "PyTorch version: 2.6.0+cu124\n",
            "CUDA available: True\n",
            "CUDA device: NVIDIA A100-SXM4-40GB\n"
          ]
        }
      ]
    },
    {
      "cell_type": "markdown",
      "source": [
        "3. Load original Dialo model"
      ],
      "metadata": {
        "id": "FBlS7Wi8Qryg"
      }
    },
    {
      "cell_type": "code",
      "source": [
        "# Load the base DialoGPT model and tokenizer\n",
        "print(\"Loading DialoGPT-small model...\")\n",
        "tokenizer = AutoTokenizer.from_pretrained(\"microsoft/DialoGPT-small\")\n",
        "model = AutoModelForCausalLM.from_pretrained(\"microsoft/DialoGPT-small\")\n",
        "print(\"Model loaded successfully!\")\n",
        "\n",
        "# Set pad token if not exists\n",
        "if tokenizer.pad_token is None:\n",
        "    tokenizer.pad_token = tokenizer.eos_token\n",
        "    print(\"Set pad_token to eos_token\")"
      ],
      "metadata": {
        "colab": {
          "base_uri": "https://localhost:8080/",
          "height": 365,
          "referenced_widgets": [
            "a28f76ad277449c594a519d70e7f2369",
            "0d92bbd127684ba0b92f7de46325458c",
            "f6bf4af6c5b5408593ef0e1e56068c94",
            "02ac54149cd842e8bd4296b314489acb",
            "09c64d45396a42af8f5f95ff5b0cdf93",
            "3ed443184ce94be6afa188b954f00ef5",
            "8899aaa2e44b480d8af41446a6a85568",
            "88505a40d548494290636642d9e406ae",
            "7f157bf79ec745eb93c81673f24c09ba",
            "7f83610be68b49d5b9b82944197fae0f",
            "35da95f145b840948686fce07f1007d2",
            "cca4098a397f471cb98be995db20af61",
            "5c04424fd1f04626abd10ec92ed1595f",
            "64d930e52a56480cbc9cfbc0d0b426ff",
            "3239fcc6b6004726b5bacc2f8a302762",
            "cc2ae2b6ab5542c5ad5eea08dc7a5e08",
            "b09b11e8320c4281b619942420dd80aa",
            "afc8b86d06654f4897862a0fbac2e2ef",
            "70efe62493ac4e49a8069a2a651fb098",
            "cc8a8fff0ab8489b934c17962ae59fe9",
            "debf187cc87c4d48bb465d6f5a043a9b",
            "803ab71e09eb4b89b863cbca6a35b318",
            "57ac00b70da84cfaa7ec883aedcd4084",
            "dde27b8cffb542efb11ef9cc5aaaee2a",
            "6e821548899044a98a712850460b2d97",
            "3fc3fb7d2b984b41ae2add48b8a2ab55",
            "1db4010c97c1484faa3ad11376638231",
            "07912bf4f88d40738f98d629fceebc82",
            "d6d524c003a546f39b58f5ae3ea2bda1",
            "5b6ba57a19eb43e2941351447ccebd05",
            "26f147d7ddec400fab2129c7669c9ef4",
            "213efecc748d4c87b71f18e6433c70ff",
            "0a84a21526824cfe871b04dba116f242",
            "2c59e966b40a4f11a8f64e80872a9c45",
            "77342e78bdb94c30b99aefbc69feada3",
            "023dd9bb535e40dbb49c95cb4056b715",
            "dd256936361440b48f8880de26791b97",
            "dabded7c88b64a309c7904231956ee30",
            "04889e3dfa4a4b2281b87528d64a55a4",
            "11fe73e3a7764635ad224c2eabe62dc3",
            "c799c8f14a5d4cda9b856785ce4f77a6",
            "f3ae074a321f4fc784caf560df6c46a3",
            "1170e9bd0b634be9aa0fc0d015812dee",
            "3bc66f6142324cc2a397dae86f46f329",
            "1883fc13d8cd40db9c5bb99629094102",
            "ff8a74e9e8cb4001acc1995e4aae372b",
            "ab056eb6a16046e3a2621d2ef2b597e0",
            "e56147ed502d4153a05828674a14cc21",
            "bfa58345c9994bb79b64aa78dc0ccce8",
            "2c679ae0baea422d92187d8248ff4c51",
            "b09b8fa700024e80ab2ddf33766b80fd",
            "f7ad8e00d6854a45a1275070a49d387d",
            "987aaf745b794d65bb5d0192e1b963f9",
            "a75961a5454e4566943704d861250b1c",
            "0781b016472a47febc43fa24bab412c3",
            "2b5551a9e06e402398de160e514414c8",
            "29f4f91f5ba64424b364a4e538b11308",
            "9d419cbda91341e8b9c6371bdac1d263",
            "34965f55674f4803823b91cb809f3bd5",
            "90e8705f2f5b401a943e6350af7e39a4",
            "287484dd8a2a4b548d0e00b86fc44a9d",
            "74ee7608dddd491c9dad936f82dae0f3",
            "8c31743b087b4d4a834f6b929cf392d7",
            "8a5561afdbf44a4495765ebd99c10526",
            "e634d82c8153416fb62d39f607f29dbb",
            "ec8a91278c064ff7ac24b21563187919"
          ]
        },
        "id": "j-Aqm1osQwRY",
        "outputId": "f149cbf2-fb78-40d9-ec25-9694661c7e58"
      },
      "execution_count": 3,
      "outputs": [
        {
          "output_type": "stream",
          "name": "stdout",
          "text": [
            "Loading DialoGPT-small model...\n"
          ]
        },
        {
          "output_type": "stream",
          "name": "stderr",
          "text": [
            "/usr/local/lib/python3.11/dist-packages/huggingface_hub/utils/_auth.py:94: UserWarning: \n",
            "The secret `HF_TOKEN` does not exist in your Colab secrets.\n",
            "To authenticate with the Hugging Face Hub, create a token in your settings tab (https://huggingface.co/settings/tokens), set it as secret in your Google Colab and restart your session.\n",
            "You will be able to reuse this secret in all of your notebooks.\n",
            "Please note that authentication is recommended but still optional to access public models or datasets.\n",
            "  warnings.warn(\n"
          ]
        },
        {
          "output_type": "display_data",
          "data": {
            "text/plain": [
              "tokenizer_config.json:   0%|          | 0.00/614 [00:00<?, ?B/s]"
            ],
            "application/vnd.jupyter.widget-view+json": {
              "version_major": 2,
              "version_minor": 0,
              "model_id": "a28f76ad277449c594a519d70e7f2369"
            }
          },
          "metadata": {}
        },
        {
          "output_type": "display_data",
          "data": {
            "text/plain": [
              "vocab.json: 0.00B [00:00, ?B/s]"
            ],
            "application/vnd.jupyter.widget-view+json": {
              "version_major": 2,
              "version_minor": 0,
              "model_id": "cca4098a397f471cb98be995db20af61"
            }
          },
          "metadata": {}
        },
        {
          "output_type": "display_data",
          "data": {
            "text/plain": [
              "merges.txt: 0.00B [00:00, ?B/s]"
            ],
            "application/vnd.jupyter.widget-view+json": {
              "version_major": 2,
              "version_minor": 0,
              "model_id": "57ac00b70da84cfaa7ec883aedcd4084"
            }
          },
          "metadata": {}
        },
        {
          "output_type": "display_data",
          "data": {
            "text/plain": [
              "config.json:   0%|          | 0.00/641 [00:00<?, ?B/s]"
            ],
            "application/vnd.jupyter.widget-view+json": {
              "version_major": 2,
              "version_minor": 0,
              "model_id": "2c59e966b40a4f11a8f64e80872a9c45"
            }
          },
          "metadata": {}
        },
        {
          "output_type": "display_data",
          "data": {
            "text/plain": [
              "model.safetensors:   0%|          | 0.00/351M [00:00<?, ?B/s]"
            ],
            "application/vnd.jupyter.widget-view+json": {
              "version_major": 2,
              "version_minor": 0,
              "model_id": "1883fc13d8cd40db9c5bb99629094102"
            }
          },
          "metadata": {}
        },
        {
          "output_type": "display_data",
          "data": {
            "text/plain": [
              "generation_config.json:   0%|          | 0.00/124 [00:00<?, ?B/s]"
            ],
            "application/vnd.jupyter.widget-view+json": {
              "version_major": 2,
              "version_minor": 0,
              "model_id": "2b5551a9e06e402398de160e514414c8"
            }
          },
          "metadata": {}
        },
        {
          "output_type": "stream",
          "name": "stdout",
          "text": [
            "Model loaded successfully!\n",
            "Set pad_token to eos_token\n"
          ]
        }
      ]
    },
    {
      "cell_type": "markdown",
      "source": [
        "4. Test the origin model"
      ],
      "metadata": {
        "id": "Ff7wLEqaQzG0"
      }
    },
    {
      "cell_type": "code",
      "source": [
        "# Test the base model with some simple prompts\n",
        "print(\"Testing base DialoGPT model...\")\n",
        "print(\"=\" * 50)\n",
        "\n",
        "prompts = [\n",
        "    \"Hello, how are you?\",\n",
        "    \"What can you do?\",\n",
        "    \"Tell me about yourself\",\n",
        "    \"Do you like science?\"\n",
        "]\n",
        "\n",
        "chat_history_ids = None\n",
        "\n",
        "for i, prompt in enumerate(prompts):\n",
        "    print(f\"\\nUser: {prompt}\")\n",
        "\n",
        "    # Encode the input\n",
        "    new_user_input_ids = tokenizer.encode(prompt + tokenizer.eos_token, return_tensors='pt')\n",
        "\n",
        "    # Concatenate with chat history if exists\n",
        "    bot_input_ids = torch.cat([chat_history_ids, new_user_input_ids], dim=-1) if chat_history_ids is not None else new_user_input_ids\n",
        "\n",
        "    # Generate response\n",
        "    chat_history_ids = model.generate(\n",
        "        bot_input_ids,\n",
        "        max_length=1000,\n",
        "        pad_token_id=tokenizer.eos_token_id,\n",
        "        no_repeat_ngram_size=3,\n",
        "        do_sample=True,\n",
        "        top_k=50,\n",
        "        top_p=0.9,\n",
        "        temperature=0.7\n",
        "    )\n",
        "\n",
        "    # Decode the response\n",
        "    response = tokenizer.decode(chat_history_ids[:, bot_input_ids.shape[-1]:][0], skip_special_tokens=True)\n",
        "    print(f\"DialoGPT: {response}\")\n",
        "    print(\"-\" * 30)"
      ],
      "metadata": {
        "colab": {
          "base_uri": "https://localhost:8080/"
        },
        "id": "RwsddRB8Q2q1",
        "outputId": "2ddc09cf-710d-48db-d039-b91c59b00b79"
      },
      "execution_count": 4,
      "outputs": [
        {
          "output_type": "stream",
          "name": "stderr",
          "text": [
            "The attention mask is not set and cannot be inferred from input because pad token is same as eos token. As a consequence, you may observe unexpected behavior. Please pass your input's `attention_mask` to obtain reliable results.\n"
          ]
        },
        {
          "output_type": "stream",
          "name": "stdout",
          "text": [
            "Testing base DialoGPT model...\n",
            "==================================================\n",
            "\n",
            "User: Hello, how are you?\n",
            "DialoGPT: hey guys\n",
            "------------------------------\n",
            "\n",
            "User: What can you do?\n",
            "DialoGPT: I can do this!\n",
            "------------------------------\n",
            "\n",
            "User: Tell me about yourself\n",
            "DialoGPT: What do you want to do with your time?\n",
            "------------------------------\n",
            "\n",
            "User: Do you like science?\n",
            "DialoGPT: How can I become an astronaut?\n",
            "------------------------------\n"
          ]
        }
      ]
    },
    {
      "cell_type": "markdown",
      "source": [
        "## Config the Model"
      ],
      "metadata": {
        "id": "NzC8XcmmVIMG"
      }
    },
    {
      "cell_type": "markdown",
      "source": [
        "5. Model Config"
      ],
      "metadata": {
        "id": "bzSYCKnYR-OF"
      }
    },
    {
      "cell_type": "code",
      "source": [
        "# Simple configuration for our Sheldon chatbot training\n",
        "class TrainingConfig:\n",
        "    def __init__(self):\n",
        "        # Model settings\n",
        "        self.model_name = 'microsoft/DialoGPT-small'\n",
        "        self.output_dir = 'sheldon_model'\n",
        "\n",
        "        # Training parameters\n",
        "        self.learning_rate = 5e-5\n",
        "        self.num_epochs = 1  # Reduced for faster training\n",
        "        self.batch_size = 16   # Smaller batch size for Colab\n",
        "        self.max_length = 512\n",
        "\n",
        "        # Data settings\n",
        "        self.context_length = 5  # Number of previous responses to use as context\n",
        "\n",
        "        # Generation parameters\n",
        "        self.temperature = 0.8\n",
        "        self.top_k = 50\n",
        "        self.top_p = 0.9\n",
        "\n",
        "# Create config instance\n",
        "config = TrainingConfig()\n",
        "print(\"Training configuration created!\")\n",
        "print(f\"Model: {config.model_name}\")\n",
        "print(f\"Learning rate: {config.learning_rate}\")\n",
        "print(f\"Epochs: {config.num_epochs}\")\n",
        "print(f\"Batch size: {config.batch_size}\")"
      ],
      "metadata": {
        "colab": {
          "base_uri": "https://localhost:8080/"
        },
        "id": "NyCzkjUcR_xp",
        "outputId": "2b628a60-7f62-40b1-99c5-7447e9fceaa7"
      },
      "execution_count": 5,
      "outputs": [
        {
          "output_type": "stream",
          "name": "stdout",
          "text": [
            "Training configuration created!\n",
            "Model: microsoft/DialoGPT-small\n",
            "Learning rate: 5e-05\n",
            "Epochs: 1\n",
            "Batch size: 16\n"
          ]
        }
      ]
    },
    {
      "cell_type": "markdown",
      "source": [
        "6. Import necessary packages"
      ],
      "metadata": {
        "id": "Oc0Cj_liSDVA"
      }
    },
    {
      "cell_type": "code",
      "source": [
        "# Import only the libraries we actually need\n",
        "import os\n",
        "import pandas as pd\n",
        "import numpy as np\n",
        "import torch\n",
        "from torch.utils.data import Dataset, DataLoader\n",
        "from torch.optim import AdamW  # Correct import path\n",
        "from sklearn.model_selection import train_test_split\n",
        "from transformers import AutoTokenizer, AutoModelForCausalLM\n",
        "from tqdm.notebook import tqdm\n",
        "\n",
        "print(\"Libraries imported successfully!\")"
      ],
      "metadata": {
        "colab": {
          "base_uri": "https://localhost:8080/"
        },
        "id": "_FLfSo02SFnI",
        "outputId": "1110ae82-a1d3-4028-abaa-2d924b4afa1d"
      },
      "execution_count": 6,
      "outputs": [
        {
          "output_type": "stream",
          "name": "stdout",
          "text": [
            "Libraries imported successfully!\n"
          ]
        }
      ]
    },
    {
      "cell_type": "markdown",
      "source": [
        "7. check cpu/gpu"
      ],
      "metadata": {
        "id": "kPpkK3tOSQa7"
      }
    },
    {
      "cell_type": "code",
      "source": [
        "# Check available device\n",
        "device = torch.device(\"cuda\" if torch.cuda.is_available() else \"cpu\")\n",
        "print(f\"Using device: {device}\")\n",
        "\n",
        "if torch.cuda.is_available():\n",
        "    print(f\"GPU: {torch.cuda.get_device_name(0)}\")\n",
        "    print(f\"GPU Memory: {torch.cuda.get_device_properties(0).total_memory / 1e9:.1f} GB\")\n",
        "else:\n",
        "    print(\"Using CPU - training will be slower\")"
      ],
      "metadata": {
        "colab": {
          "base_uri": "https://localhost:8080/"
        },
        "id": "F0JHmE5hSUHQ",
        "outputId": "b5a4000c-39bb-4afa-d268-f9b94b1691f9"
      },
      "execution_count": 7,
      "outputs": [
        {
          "output_type": "stream",
          "name": "stdout",
          "text": [
            "Using device: cuda\n",
            "GPU: NVIDIA A100-SXM4-40GB\n",
            "GPU Memory: 42.5 GB\n"
          ]
        }
      ]
    },
    {
      "cell_type": "markdown",
      "source": [
        "## Prepare datasets"
      ],
      "metadata": {
        "id": "ikxgxbLjSe0v"
      }
    },
    {
      "cell_type": "markdown",
      "source": [
        "8. download bigbang"
      ],
      "metadata": {
        "id": "IlEqKFG7Ski3"
      }
    },
    {
      "cell_type": "code",
      "source": [
        "# Download the Big Bang Theory dataset from Kaggle\n",
        "import kagglehub\n",
        "\n",
        "print(\"Downloading Big Bang Theory dataset...\")\n",
        "the_big_bang_theory_series_transcript_path = kagglehub.dataset_download('mitramir5/the-big-bang-theory-series-transcript')\n",
        "print('Dataset download complete!')\n",
        "print(f\"Dataset path: {the_big_bang_theory_series_transcript_path}\")"
      ],
      "metadata": {
        "colab": {
          "base_uri": "https://localhost:8080/"
        },
        "id": "Zkapq99TSi2h",
        "outputId": "3b541990-da5e-4c6c-d3f7-4c42ad521c29"
      },
      "execution_count": 9,
      "outputs": [
        {
          "output_type": "stream",
          "name": "stdout",
          "text": [
            "Downloading Big Bang Theory dataset...\n",
            "Dataset download complete!\n",
            "Dataset path: /kaggle/input/the-big-bang-theory-series-transcript\n"
          ]
        }
      ]
    },
    {
      "cell_type": "markdown",
      "source": [
        "9. look at the datasets"
      ],
      "metadata": {
        "id": "UTUL0g8iSqRE"
      }
    },
    {
      "cell_type": "code",
      "source": [
        "# Explore the downloaded dataset\n",
        "import os\n",
        "\n",
        "print(\"Available files in the dataset:\")\n",
        "# Use the actual downloaded path\n",
        "dataset_path = '/root/.cache/kagglehub/datasets/mitramir5/the-big-bang-theory-series-transcript/versions/4'\n",
        "for dirname, _, filenames in os.walk(dataset_path):\n",
        "    for filename in filenames:\n",
        "        print(os.path.join(dirname, filename))\n",
        "\n",
        "# Load the main transcript file from the correct path\n",
        "path = os.path.join(dataset_path, '1_10_seasons_tbbt.csv')\n",
        "df = pd.read_csv(path)\n",
        "\n",
        "print(f\"\\nDataset shape: {df.shape}\")\n",
        "print(\"\\nFirst few rows:\")\n",
        "print(df.head())\n",
        "\n",
        "print(\"\\nColumn names:\")\n",
        "print(df.columns.tolist())"
      ],
      "metadata": {
        "colab": {
          "base_uri": "https://localhost:8080/"
        },
        "id": "aQ4YodQKSsPH",
        "outputId": "1a81d016-e1ac-4ef2-b0eb-56ea585fef2c"
      },
      "execution_count": 10,
      "outputs": [
        {
          "output_type": "stream",
          "name": "stdout",
          "text": [
            "Available files in the dataset:\n",
            "/root/.cache/kagglehub/datasets/mitramir5/the-big-bang-theory-series-transcript/versions/4/sentences_sentiment_dicts.pkl\n",
            "/root/.cache/kagglehub/datasets/mitramir5/the-big-bang-theory-series-transcript/versions/4/1_10_seasons_tbbt.csv\n",
            "\n",
            "Dataset shape: (54406, 3)\n",
            "\n",
            "First few rows:\n",
            "                           episode_name  \\\n",
            "0  Series 01 Episode 01 – Pilot Episode   \n",
            "1  Series 01 Episode 01 – Pilot Episode   \n",
            "2  Series 01 Episode 01 – Pilot Episode   \n",
            "3  Series 01 Episode 01 – Pilot Episode   \n",
            "4  Series 01 Episode 01 – Pilot Episode   \n",
            "\n",
            "                                            dialogue person_scene  \n",
            "0                        A corridor at a sperm bank.        Scene  \n",
            "1   So if a photon is directed through a plane wi...      Sheldon  \n",
            "2                         Agreed, what’s your point?      Leonard  \n",
            "3   There’s no point, I just think it’s a good id...      Sheldon  \n",
            "4                                         Excuse me?      Leonard  \n",
            "\n",
            "Column names:\n",
            "['episode_name', 'dialogue', 'person_scene']\n"
          ]
        }
      ]
    },
    {
      "cell_type": "markdown",
      "source": [
        "10. preprocess dataset"
      ],
      "metadata": {
        "id": "T1VN9MIzTGQg"
      }
    },
    {
      "cell_type": "code",
      "source": [
        "# Convert dataset to conversation format with context\n",
        "print(\"Creating conversation context...\")\n",
        "\n",
        "contexted = []\n",
        "n = config.context_length  # Use 5 previous responses as context\n",
        "\n",
        "for i in range(n, len(df['dialogue'])):\n",
        "    row = []\n",
        "    prev = i - 1 - n  # Get n previous responses\n",
        "    for j in range(i, prev, -1):\n",
        "        row.append(df['dialogue'][j])\n",
        "    contexted.append(row)\n",
        "\n",
        "print(f\"Created {len(contexted)} conversation contexts\")\n",
        "\n",
        "# Create DataFrame with context columns\n",
        "columns = ['response', 'context']\n",
        "columns = columns + [f'context_{i}' for i in range(n-1)]\n",
        "\n",
        "df_context = pd.DataFrame.from_records(contexted, columns=columns)\n",
        "print(f\"\\nContext DataFrame shape: {df_context.shape}\")\n",
        "print(\"\\nFirst few rows with context:\")\n",
        "print(df_context.head(3))"
      ],
      "metadata": {
        "colab": {
          "base_uri": "https://localhost:8080/"
        },
        "id": "WuIvcI5OTLNP",
        "outputId": "e238dfad-3e48-4b91-adc7-614fc3ccf0f0"
      },
      "execution_count": 11,
      "outputs": [
        {
          "output_type": "stream",
          "name": "stdout",
          "text": [
            "Creating conversation context...\n",
            "Created 54401 conversation contexts\n",
            "\n",
            "Context DataFrame shape: (54401, 6)\n",
            "\n",
            "First few rows with context:\n",
            "                                            response  \\\n",
            "0                                          Hang on.    \n",
            "1   One across is Aegean, eight down is Nabakov, ...   \n",
            "2                                    Can I help you?   \n",
            "\n",
            "                                             context  \\\n",
            "0                                         Excuse me?   \n",
            "1                                          Hang on.    \n",
            "2   One across is Aegean, eight down is Nabakov, ...   \n",
            "\n",
            "                                           context_0  \\\n",
            "0   There’s no point, I just think it’s a good id...   \n",
            "1                                         Excuse me?   \n",
            "2                                          Hang on.    \n",
            "\n",
            "                                           context_1  \\\n",
            "0                         Agreed, what’s your point?   \n",
            "1   There’s no point, I just think it’s a good id...   \n",
            "2                                         Excuse me?   \n",
            "\n",
            "                                           context_2  \\\n",
            "0   So if a photon is directed through a plane wi...   \n",
            "1                         Agreed, what’s your point?   \n",
            "2   There’s no point, I just think it’s a good id...   \n",
            "\n",
            "                                           context_3  \n",
            "0                        A corridor at a sperm bank.  \n",
            "1   So if a photon is directed through a plane wi...  \n",
            "2                         Agreed, what’s your point?  \n"
          ]
        }
      ]
    },
    {
      "cell_type": "markdown",
      "source": [
        "11. split the datasets"
      ],
      "metadata": {
        "id": "Dbgjt83gTaeA"
      }
    },
    {
      "cell_type": "code",
      "source": [
        "# Split dataset into training and validation sets\n",
        "print(\"Splitting dataset...\")\n",
        "\n",
        "trn_df, val_df = train_test_split(df_context, test_size=0.1, random_state=42)\n",
        "print(f\"Training set size: {len(trn_df)}\")\n",
        "print(f\"Validation set size: {len(val_df)}\")\n",
        "\n",
        "# Show some examples\n",
        "print(\"\\nTraining set examples:\")\n",
        "print(trn_df.head(2))"
      ],
      "metadata": {
        "colab": {
          "base_uri": "https://localhost:8080/"
        },
        "id": "5XAlTAM-TdRn",
        "outputId": "f69a1cf7-5cdb-4ba5-f32c-c282aefb9ef1"
      },
      "execution_count": 12,
      "outputs": [
        {
          "output_type": "stream",
          "name": "stdout",
          "text": [
            "Splitting dataset...\n",
            "Training set size: 48960\n",
            "Validation set size: 5441\n",
            "\n",
            "Training set examples:\n",
            "                                               response  \\\n",
            "42881                             Everything all right?   \n",
            "33322   And we can just put this whole thing behind us.   \n",
            "\n",
            "                                context  \\\n",
            "42881   Well, the night is still young.   \n",
            "33322                             Fine.   \n",
            "\n",
            "                                               context_0  \\\n",
            "42881   Thank you. Finally, there’s a Mrs. Hofstadter...   \n",
            "33322   Okay, I found the, uh, court papers that you ...   \n",
            "\n",
            "                                               context_1  \\\n",
            "42881                                       Nicely done.   \n",
            "33322   No. But I did get tackled in the hallway once...   \n",
            "\n",
            "                        context_2                               context_3  \n",
            "42881                   I’m okay.   Okay, let’s do it. You gonna make it?  \n",
            "33322   A little in college. You?                 You ever play football?  \n"
          ]
        }
      ]
    },
    {
      "cell_type": "markdown",
      "source": [
        "12. Create Train dataset class"
      ],
      "metadata": {
        "id": "0tI30aLtTpxA"
      }
    },
    {
      "cell_type": "code",
      "source": [
        "# Create a custom dataset class for training\n",
        "class ConversationDataset(Dataset):\n",
        "    def __init__(self, tokenizer, df, max_length=512):\n",
        "        self.tokenizer = tokenizer\n",
        "        self.df = df\n",
        "        self.max_length = max_length\n",
        "\n",
        "    def __len__(self):\n",
        "        return len(self.df)\n",
        "\n",
        "    def __getitem__(self, idx):\n",
        "        row = self.df.iloc[idx]\n",
        "\n",
        "        # Combine response and context into a single text\n",
        "        # Format: context + [SEP] + response + [EOS]\n",
        "        context_text = \" \".join([str(x) for x in row[1:] if pd.notna(x) and str(x).strip()])\n",
        "        response_text = str(row['response']) if pd.notna(row['response']) else \"\"\n",
        "\n",
        "        # Combine context and response\n",
        "        full_text = f\"{context_text} [SEP] {response_text}\"\n",
        "\n",
        "        # Tokenize\n",
        "        encoding = self.tokenizer(\n",
        "            full_text,\n",
        "            truncation=True,\n",
        "            max_length=self.max_length,\n",
        "            padding='max_length',\n",
        "            return_tensors='pt'\n",
        "        )\n",
        "\n",
        "        return {\n",
        "            'input_ids': encoding['input_ids'].flatten(),\n",
        "            'attention_mask': encoding['attention_mask'].flatten(),\n",
        "            'labels': encoding['input_ids'].flatten()\n",
        "        }\n",
        "\n",
        "print(\"Dataset class created successfully!\")"
      ],
      "metadata": {
        "colab": {
          "base_uri": "https://localhost:8080/"
        },
        "id": "lP_AEU9eTpQK",
        "outputId": "7ce36403-e308-473b-c505-4b4c710969ce"
      },
      "execution_count": 13,
      "outputs": [
        {
          "output_type": "stream",
          "name": "stdout",
          "text": [
            "Dataset class created successfully!\n"
          ]
        }
      ]
    },
    {
      "cell_type": "markdown",
      "source": [
        "13. prepare train dataset"
      ],
      "metadata": {
        "id": "4vGMsgL8TwTe"
      }
    },
    {
      "cell_type": "code",
      "source": [
        "# Prepare training and validation datasets\n",
        "print(\"Preparing datasets...\")\n",
        "\n",
        "# Create datasets\n",
        "train_dataset = ConversationDataset(tokenizer, trn_df, max_length=config.max_length)\n",
        "val_dataset = ConversationDataset(tokenizer, val_df, max_length=config.max_length)\n",
        "\n",
        "print(f\"Training dataset size: {len(train_dataset)}\")\n",
        "print(f\"Validation dataset size: {len(val_dataset)}\")\n",
        "\n",
        "# Create data loaders\n",
        "train_loader = DataLoader(train_dataset, batch_size=config.batch_size, shuffle=True)\n",
        "val_loader = DataLoader(val_dataset, batch_size=config.batch_size, shuffle=False)\n",
        "\n",
        "print(\"Data loaders created successfully!\")"
      ],
      "metadata": {
        "colab": {
          "base_uri": "https://localhost:8080/"
        },
        "id": "ltifP4ywTzPQ",
        "outputId": "cdfcee58-01cc-4ea7-9d53-c1fd4698dbd1"
      },
      "execution_count": 14,
      "outputs": [
        {
          "output_type": "stream",
          "name": "stdout",
          "text": [
            "Preparing datasets...\n",
            "Training dataset size: 48960\n",
            "Validation dataset size: 5441\n",
            "Data loaders created successfully!\n"
          ]
        }
      ]
    },
    {
      "cell_type": "markdown",
      "source": [
        "## Train and Evaluation"
      ],
      "metadata": {
        "id": "mUsp7T85UE7F"
      }
    },
    {
      "cell_type": "markdown",
      "source": [
        "14. Set hyperparameters and Optimizer"
      ],
      "metadata": {
        "id": "sMc3b6pWUOtC"
      }
    },
    {
      "cell_type": "code",
      "source": [
        "# Set up training parameters and optimizer\n",
        "print(\"Setting up training...\")\n",
        "\n",
        "# Move model to device\n",
        "model = model.to(device)\n",
        "print(f\"Model moved to {device}\")\n",
        "\n",
        "# Set up optimizer\n",
        "optimizer = AdamW(model.parameters(), lr=config.learning_rate)\n",
        "print(f\"Optimizer created with learning rate: {config.learning_rate}\")\n",
        "\n",
        "# Set up learning rate scheduler\n",
        "from transformers import get_linear_schedule_with_warmup\n",
        "total_steps = len(train_loader) * config.num_epochs\n",
        "scheduler = get_linear_schedule_with_warmup(\n",
        "    optimizer,\n",
        "    num_warmup_steps=0,\n",
        "    num_training_steps=total_steps\n",
        ")\n",
        "print(f\"Learning rate scheduler created for {total_steps} total steps\")"
      ],
      "metadata": {
        "colab": {
          "base_uri": "https://localhost:8080/"
        },
        "id": "nUkAiQBWUS8E",
        "outputId": "1c5341a1-85a6-4055-b7a8-d4890f6f9746"
      },
      "execution_count": 15,
      "outputs": [
        {
          "output_type": "stream",
          "name": "stdout",
          "text": [
            "Setting up training...\n",
            "Model moved to cuda\n",
            "Optimizer created with learning rate: 5e-05\n",
            "Learning rate scheduler created for 3060 total steps\n"
          ]
        }
      ]
    },
    {
      "cell_type": "markdown",
      "source": [
        "15. Train"
      ],
      "metadata": {
        "id": "0-n4iULLUbCD"
      }
    },
    {
      "cell_type": "code",
      "source": [
        "# Training loop\n",
        "print(\"Starting training...\")\n",
        "print(\"=\" * 50)\n",
        "\n",
        "model.train()\n",
        "total_loss = 0\n",
        "best_loss = float('inf')\n",
        "\n",
        "for epoch in range(config.num_epochs):\n",
        "    print(f\"\\nEpoch {epoch + 1}/{config.num_epochs}\")\n",
        "    epoch_loss = 0\n",
        "\n",
        "    # Training\n",
        "    progress_bar = tqdm(train_loader, desc=f\"Training Epoch {epoch + 1}\")\n",
        "    for batch_idx, batch in enumerate(progress_bar):\n",
        "        # Move batch to device\n",
        "        input_ids = batch['input_ids'].to(device)\n",
        "        attention_mask = batch['attention_mask'].to(device)\n",
        "        labels = batch['labels'].to(device)\n",
        "\n",
        "        # Forward pass\n",
        "        outputs = model(\n",
        "            input_ids=input_ids,\n",
        "            attention_mask=attention_mask,\n",
        "            labels=labels\n",
        "        )\n",
        "\n",
        "        loss = outputs.loss\n",
        "        epoch_loss += loss.item()\n",
        "\n",
        "        # Backward pass\n",
        "        loss.backward()\n",
        "        optimizer.step()\n",
        "        scheduler.step()\n",
        "        optimizer.zero_grad()\n",
        "\n",
        "        # Update progress bar\n",
        "        progress_bar.set_postfix({'loss': f'{loss.item():.4f}'})\n",
        "\n",
        "        # Print loss every 1000 steps\n",
        "        if (batch_idx + 1) % 1000 == 0:\n",
        "            print(f\"Step {batch_idx + 1}, Loss: {loss.item():.4f}\")\n",
        "\n",
        "    avg_epoch_loss = epoch_loss / len(train_loader)\n",
        "    total_loss += avg_epoch_loss\n",
        "\n",
        "    print(f\"Epoch {epoch + 1} completed. Average loss: {avg_epoch_loss:.4f}\")\n",
        "\n",
        "    # Save model checkpoint\n",
        "    if avg_epoch_loss < best_loss:\n",
        "        best_loss = avg_epoch_loss\n",
        "        model.save_pretrained(f\"{config.output_dir}/best_model\")\n",
        "        tokenizer.save_pretrained(f\"{config.output_dir}/best_model\")\n",
        "        print(f\"New best model saved with loss: {best_loss:.4f}\")\n",
        "\n",
        "print(f\"\\nTraining completed! Total average loss: {total_loss/config.num_epochs:.4f}\")"
      ],
      "metadata": {
        "colab": {
          "base_uri": "https://localhost:8080/",
          "height": 257,
          "referenced_widgets": [
            "a8113653510a4e1398cba70cc742b839",
            "c07ec17b3d384525a301b676fdfe1e3d",
            "dc5d776c4ac04df7ac78210e4f3ccd35",
            "b5eb3713ccb94697a2503f1ffbb73c6c",
            "0a96464fd65e4dde955148b53875d784",
            "94df971108cd46af94383242870f6b86",
            "86b3be45a8314005ae966cd209c63c1a",
            "73462f883f6f4923b38e86c595e7fd81",
            "bbd9c5bada7041048743224bf230698c",
            "198269c7091645ea8fe31aae59ba5655",
            "63b1cb7d9c2b49f8826ac95cab0dbcfc"
          ]
        },
        "id": "PLdwlSaqUeQp",
        "outputId": "29fc19f4-bb7d-42a0-f470-9bfc7d1bac9a"
      },
      "execution_count": 16,
      "outputs": [
        {
          "output_type": "stream",
          "name": "stdout",
          "text": [
            "Starting training...\n",
            "==================================================\n",
            "\n",
            "Epoch 1/1\n"
          ]
        },
        {
          "output_type": "display_data",
          "data": {
            "text/plain": [
              "Training Epoch 1:   0%|          | 0/3060 [00:00<?, ?it/s]"
            ],
            "application/vnd.jupyter.widget-view+json": {
              "version_major": 2,
              "version_minor": 0,
              "model_id": "a8113653510a4e1398cba70cc742b839"
            }
          },
          "metadata": {}
        },
        {
          "output_type": "stream",
          "name": "stderr",
          "text": [
            "`loss_type=None` was set in the config but it is unrecognised.Using the default loss: `ForCausalLMLoss`.\n"
          ]
        },
        {
          "output_type": "stream",
          "name": "stdout",
          "text": [
            "Step 1000, Loss: 0.6513\n",
            "Step 2000, Loss: 0.5505\n",
            "Step 3000, Loss: 0.6166\n",
            "Epoch 1 completed. Average loss: 0.6386\n",
            "New best model saved with loss: 0.6386\n",
            "\n",
            "Training completed! Total average loss: 0.6386\n"
          ]
        }
      ]
    },
    {
      "cell_type": "markdown",
      "source": [
        "16. Load the Trained Model"
      ],
      "metadata": {
        "id": "474ZRK6792aA"
      }
    },
    {
      "cell_type": "code",
      "source": [
        "# Load the trained model\n",
        "print(\"Loading trained Sheldon model...\")\n",
        "\n",
        "# Load model and tokenizer from saved directory\n",
        "trained_model = AutoModelForCausalLM.from_pretrained(f\"{config.output_dir}/best_model\")\n",
        "trained_tokenizer = AutoTokenizer.from_pretrained(f\"{config.output_dir}/best_model\")\n",
        "\n",
        "# Move to device\n",
        "trained_model = trained_model.to(device)\n",
        "trained_model.eval()  # Set to evaluation mode\n",
        "\n",
        "print(\"Trained model loaded successfully!\")"
      ],
      "metadata": {
        "colab": {
          "base_uri": "https://localhost:8080/"
        },
        "id": "Ce75T6b094i9",
        "outputId": "c76b4754-4121-4ffd-f733-33c08d811c5a"
      },
      "execution_count": 17,
      "outputs": [
        {
          "output_type": "stream",
          "name": "stdout",
          "text": [
            "Loading trained Sheldon model...\n",
            "Trained model loaded successfully!\n"
          ]
        }
      ]
    },
    {
      "cell_type": "markdown",
      "source": [
        "17. Create a Chat Function"
      ],
      "metadata": {
        "id": "kBH2s0f-96o9"
      }
    },
    {
      "cell_type": "code",
      "source": [
        "# Function to chat with Sheldon\n",
        "def chat_with_sheldon(user_input, chat_history_ids=None, max_length=200):\n",
        "    \"\"\"\n",
        "    Chat with the trained Sheldon model\n",
        "\n",
        "    Args:\n",
        "        user_input (str): User's message\n",
        "        chat_history_ids: Previous chat history\n",
        "        max_length (int): Maximum length of generated response\n",
        "\n",
        "    Returns:\n",
        "        str: Sheldon's response\n",
        "        tensor: Updated chat history\n",
        "    \"\"\"\n",
        "    # Encode user input and move to device\n",
        "    new_user_input_ids = trained_tokenizer.encode(user_input + trained_tokenizer.eos_token, return_tensors='pt')\n",
        "    new_user_input_ids = new_user_input_ids.to(device)  # Move to device\n",
        "\n",
        "    # Concatenate with chat history if exists\n",
        "    if chat_history_ids is not None:\n",
        "        chat_history_ids = chat_history_ids.to(device)  # Ensure chat history is on device\n",
        "        bot_input_ids = torch.cat([chat_history_ids, new_user_input_ids], dim=-1)\n",
        "    else:\n",
        "        bot_input_ids = new_user_input_ids\n",
        "\n",
        "    # Generate response\n",
        "    chat_history_ids = trained_model.generate(\n",
        "        bot_input_ids,\n",
        "        max_length=max_length,\n",
        "        pad_token_id=trained_tokenizer.eos_token_id,\n",
        "        no_repeat_ngram_size=3,\n",
        "        do_sample=True,\n",
        "        top_k=50,\n",
        "        top_p=0.9,\n",
        "        temperature=0.8\n",
        "    )\n",
        "\n",
        "    # Decode the response\n",
        "    response = trained_tokenizer.decode(chat_history_ids[:, bot_input_ids.shape[-1]:][0], skip_special_tokens=True)\n",
        "\n",
        "    return response, chat_history_ids\n",
        "\n",
        "print(\"Chat function created successfully!\")"
      ],
      "metadata": {
        "colab": {
          "base_uri": "https://localhost:8080/"
        },
        "id": "MYY5fZov98i3",
        "outputId": "49a038c2-a385-4d6a-de3d-243f7c9f8b00"
      },
      "execution_count": 20,
      "outputs": [
        {
          "output_type": "stream",
          "name": "stdout",
          "text": [
            "Chat function created successfully!\n"
          ]
        }
      ]
    },
    {
      "cell_type": "markdown",
      "source": [
        "18. Let's Chat with Little Sheldon"
      ],
      "metadata": {
        "id": "hF7vh5kL9-vf"
      }
    },
    {
      "cell_type": "code",
      "source": [
        "# Test conversation with Sheldon\n",
        "print(\"Let's chat with Sheldon!\")\n",
        "print(\"=\" * 50)\n",
        "\n",
        "# Test prompts\n",
        "test_prompts = [\n",
        "    \"Hello Sheldon, how are you?\",\n",
        "    \"What do you think about quantum physics?\",\n",
        "    \"Tell me about your roommate Leonard\",\n",
        "    \"Do you like comic books?\",\n",
        "    \"What's your favorite spot on the couch?\"\n",
        "]\n",
        "\n",
        "chat_history_ids = None\n",
        "\n",
        "for prompt in test_prompts:\n",
        "    print(f\"\\nUser: {prompt}\")\n",
        "\n",
        "    # Get Sheldon's response\n",
        "    response, chat_history_ids = chat_with_sheldon(prompt, chat_history_ids)\n",
        "\n",
        "    print(f\"Sheldon: {response}\")\n",
        "    print(\"-\" * 40)"
      ],
      "metadata": {
        "colab": {
          "base_uri": "https://localhost:8080/"
        },
        "id": "auZ6Sopr-Bmr",
        "outputId": "325eefaa-7ca3-4fd1-d6cf-fe903a7a637c"
      },
      "execution_count": 21,
      "outputs": [
        {
          "output_type": "stream",
          "name": "stdout",
          "text": [
            "Let's chat with Sheldon!\n",
            "==================================================\n",
            "\n",
            "User: Hello Sheldon, how are you?\n",
            "Sheldon: ‘Cause when I get back, it’ll be over.   No, you’re not.  That’s right, it will be.  Oh, that’d be a nice one. [SEP]  I think you‘re on to something.\n",
            "----------------------------------------\n",
            "\n",
            "User: What do you think about quantum physics?\n",
            "Sheldon: \n",
            "----------------------------------------\n",
            "\n",
            "User: Tell me about your roommate Leonard\n",
            "Sheldon: \n",
            "----------------------------------------\n",
            "\n",
            "User: Do you like comic books?\n",
            "Sheldon: .\n",
            "----------------------------------------\n",
            "\n",
            "User: What's your favorite spot on the couch?\n",
            "Sheldon: , uh, Leonard?\n",
            "----------------------------------------\n"
          ]
        }
      ]
    },
    {
      "cell_type": "markdown",
      "source": [
        "## Improve the Model and Train Process"
      ],
      "metadata": {
        "id": "UUPBai1t-y9_"
      }
    },
    {
      "cell_type": "markdown",
      "source": [
        "19. Improve the Hyperparameters"
      ],
      "metadata": {
        "id": "DCJzYE7_-6sb"
      }
    },
    {
      "cell_type": "code",
      "source": [
        "# 改进配置 - 增加训练轮数和调整参数\n",
        "config.num_epochs = 3  # 从1增加到3（平衡训练时间和效果）\n",
        "config.learning_rate = 5e-5  # 保持当前学习率\n",
        "config.batch_size = 8  # 从16减少到8（更稳定）\n",
        "\n",
        "print(\"Updated config for better training:\")\n",
        "print(f\"Epochs: {config.num_epochs}\")\n",
        "print(f\"Learning rate: {config.learning_rate}\")\n",
        "print(f\"Batch size: {config.batch_size}\")\n",
        "print(f\"Total training steps: {len(train_loader) * config.num_epochs}\")"
      ],
      "metadata": {
        "colab": {
          "base_uri": "https://localhost:8080/"
        },
        "id": "Oc_cKnho-1wH",
        "outputId": "8222077d-e103-45c0-d8c0-ac0dd817fc8a"
      },
      "execution_count": 23,
      "outputs": [
        {
          "output_type": "stream",
          "name": "stdout",
          "text": [
            "Updated config for better training:\n",
            "Epochs: 3\n",
            "Learning rate: 5e-05\n",
            "Batch size: 8\n",
            "Total training steps: 9180\n"
          ]
        }
      ]
    },
    {
      "cell_type": "markdown",
      "source": [
        "20. Set Train Parameters"
      ],
      "metadata": {
        "id": "uAAlrvXb_AjW"
      }
    },
    {
      "cell_type": "code",
      "source": [
        "# 重新设置训练参数\n",
        "print(\"Setting up training with improved config...\")\n",
        "\n",
        "# Move model to device\n",
        "model = model.to(device)\n",
        "print(f\"Model moved to {device}\")\n",
        "\n",
        "# Set up optimizer\n",
        "optimizer = AdamW(model.parameters(), lr=config.learning_rate)\n",
        "print(f\"Optimizer created with learning rate: {config.learning_rate}\")\n",
        "\n",
        "# Set up learning rate scheduler\n",
        "total_steps = len(train_loader) * config.num_epochs\n",
        "scheduler = get_linear_schedule_with_warmup(\n",
        "    optimizer,\n",
        "    num_warmup_steps=0,\n",
        "    num_training_steps=total_steps\n",
        ")\n",
        "print(f\"Learning rate scheduler created for {total_steps} total steps\")"
      ],
      "metadata": {
        "colab": {
          "base_uri": "https://localhost:8080/"
        },
        "id": "Utf0Vkmc-58r",
        "outputId": "d6d9844d-0fa2-4a3e-9a7a-207778b5cd57"
      },
      "execution_count": 24,
      "outputs": [
        {
          "output_type": "stream",
          "name": "stdout",
          "text": [
            "Setting up training with improved config...\n",
            "Model moved to cuda\n",
            "Optimizer created with learning rate: 5e-05\n",
            "Learning rate scheduler created for 9180 total steps\n"
          ]
        }
      ]
    },
    {
      "cell_type": "markdown",
      "source": [
        "21. Re-train"
      ],
      "metadata": {
        "id": "RjnEhI0M_GAm"
      }
    },
    {
      "cell_type": "code",
      "source": [
        "# 开始训练\n",
        "print(\"Starting improved training...\")\n",
        "print(\"=\" * 50)\n",
        "\n",
        "model.train()\n",
        "total_loss = 0\n",
        "best_loss = float('inf')\n",
        "\n",
        "for epoch in range(config.num_epochs):\n",
        "    print(f\"\\nEpoch {epoch + 1}/{config.num_epochs}\")\n",
        "    epoch_loss = 0\n",
        "\n",
        "    # Training\n",
        "    progress_bar = tqdm(train_loader, desc=f\"Training Epoch {epoch + 1}\")\n",
        "    for batch_idx, batch in enumerate(progress_bar):\n",
        "        # Move batch to device\n",
        "        input_ids = batch['input_ids'].to(device)\n",
        "        attention_mask = batch['attention_mask'].to(device)\n",
        "        labels = batch['labels'].to(device)\n",
        "\n",
        "        # Forward pass\n",
        "        outputs = model(\n",
        "            input_ids=input_ids,\n",
        "            attention_mask=attention_mask,\n",
        "            labels=labels\n",
        "        )\n",
        "\n",
        "        loss = outputs.loss\n",
        "        epoch_loss += loss.item()\n",
        "\n",
        "        # Backward pass\n",
        "        loss.backward()\n",
        "        optimizer.step()\n",
        "        scheduler.step()\n",
        "        optimizer.zero_grad()\n",
        "\n",
        "        # Update progress bar\n",
        "        progress_bar.set_postfix({'loss': f'{loss.item():.4f}'})\n",
        "\n",
        "        # Print loss every 1000 steps\n",
        "        if (batch_idx + 1) % 1000 == 0:\n",
        "            print(f\"Step {batch_idx + 1}, Loss: {loss.item():.4f}\")\n",
        "\n",
        "    avg_epoch_loss = epoch_loss / len(train_loader)\n",
        "    total_loss += avg_epoch_loss\n",
        "\n",
        "    print(f\"Epoch {epoch + 1} completed. Average loss: {avg_epoch_loss:.4f}\")\n",
        "\n",
        "    # Save model checkpoint\n",
        "    if avg_epoch_loss < best_loss:\n",
        "        best_loss = avg_epoch_loss\n",
        "        model.save_pretrained(f\"{config.output_dir}/best_model_v2\")\n",
        "        tokenizer.save_pretrained(f\"{config.output_dir}/best_model_v2\")\n",
        "        print(f\"New best model saved with loss: {best_loss:.4f}\")\n",
        "\n",
        "print(f\"\\nTraining completed! Total average loss: {total_loss/config.num_epochs:.4f}\")"
      ],
      "metadata": {
        "colab": {
          "base_uri": "https://localhost:8080/",
          "height": 547,
          "referenced_widgets": [
            "939900fed69b465b9c337645f6f8998f",
            "7187950b55194eb596228b8303289bf1",
            "6c97b99476894527a4fd05c4bcc17a70",
            "80da3650d31b41dc8e121a59948ceee2",
            "81b569e1dde04cc1aaa7927729864925",
            "8818773bad464887b197b8a1a87184d6",
            "5a393cc3f9b24b70946d86bf1ebaf705",
            "72fb4ea10c43480db30377f31befaf26",
            "85de52b38d57414eaef37ba0d76f61d2",
            "3d52a7b8299344fc8fcab3abc7fce088",
            "5eaa9ca953a94a79b512fb4c258a28fa",
            "191fad9b0fdc404c9f69038aa55a8cc4",
            "d1d06ae2ae374b4c9d3121115605970d",
            "3f099c089d014b4c8f60bf55374e2ea5",
            "81899399a3ec40ad98a9293ad811f2e8",
            "c92b7c703de7428b822e7bc5e5544583",
            "3dc738b056e147c0a3a55ddd422afddc",
            "1ee64536f2a241c29ac77f1f6f3f9372",
            "0e23bd1955e74625bbf5d54783b84dfb",
            "6ea0a4df81f54df5a2d276855bb17941",
            "634c97d7ee334bfbb4a1f4ed8003f5e0",
            "a95d3d3dc66d403b96158286ee44ffad",
            "19297c33a598451482ffbeeb0a8f8080",
            "d560378db2af457c891824d473544bc2",
            "2f154b923a304d85a250e29b8aff5a48",
            "6d3b7edb532f4bffa7765d06bb4bbe0e",
            "2bc8735559904b7e8fde6eb0f4af379a",
            "77cf181ed113413e8f968caad6b6fb56",
            "a97fdb518fd8468796328adff533076a",
            "3a53edec70e14e5e9a42a44d09158d87",
            "5b5b70e877f04dbabfb23fe62718564c",
            "9d81a28032e041379e6cc81d4d2b1885",
            "81ab97cb3d63462a9201720e6737552a"
          ]
        },
        "id": "ZkVjHJhz_HUp",
        "outputId": "74ae9f9b-3d79-4499-b894-a1b11413939b"
      },
      "execution_count": 25,
      "outputs": [
        {
          "output_type": "stream",
          "name": "stdout",
          "text": [
            "Starting improved training...\n",
            "==================================================\n",
            "\n",
            "Epoch 1/3\n"
          ]
        },
        {
          "output_type": "display_data",
          "data": {
            "text/plain": [
              "Training Epoch 1:   0%|          | 0/3060 [00:00<?, ?it/s]"
            ],
            "application/vnd.jupyter.widget-view+json": {
              "version_major": 2,
              "version_minor": 0,
              "model_id": "939900fed69b465b9c337645f6f8998f"
            }
          },
          "metadata": {}
        },
        {
          "output_type": "stream",
          "name": "stdout",
          "text": [
            "Step 1000, Loss: 0.5188\n",
            "Step 2000, Loss: 0.5585\n",
            "Step 3000, Loss: 0.5371\n",
            "Epoch 1 completed. Average loss: 0.5450\n",
            "New best model saved with loss: 0.5450\n",
            "\n",
            "Epoch 2/3\n"
          ]
        },
        {
          "output_type": "display_data",
          "data": {
            "text/plain": [
              "Training Epoch 2:   0%|          | 0/3060 [00:00<?, ?it/s]"
            ],
            "application/vnd.jupyter.widget-view+json": {
              "version_major": 2,
              "version_minor": 0,
              "model_id": "191fad9b0fdc404c9f69038aa55a8cc4"
            }
          },
          "metadata": {}
        },
        {
          "output_type": "stream",
          "name": "stdout",
          "text": [
            "Step 1000, Loss: 0.5097\n",
            "Step 2000, Loss: 0.4595\n",
            "Step 3000, Loss: 0.4291\n",
            "Epoch 2 completed. Average loss: 0.4841\n",
            "New best model saved with loss: 0.4841\n",
            "\n",
            "Epoch 3/3\n"
          ]
        },
        {
          "output_type": "display_data",
          "data": {
            "text/plain": [
              "Training Epoch 3:   0%|          | 0/3060 [00:00<?, ?it/s]"
            ],
            "application/vnd.jupyter.widget-view+json": {
              "version_major": 2,
              "version_minor": 0,
              "model_id": "19297c33a598451482ffbeeb0a8f8080"
            }
          },
          "metadata": {}
        },
        {
          "output_type": "stream",
          "name": "stdout",
          "text": [
            "Step 1000, Loss: 0.4223\n",
            "Step 2000, Loss: 0.4169\n",
            "Step 3000, Loss: 0.3919\n",
            "Epoch 3 completed. Average loss: 0.4549\n",
            "New best model saved with loss: 0.4549\n",
            "\n",
            "Training completed! Total average loss: 0.4946\n"
          ]
        }
      ]
    },
    {
      "cell_type": "markdown",
      "source": [
        "22. Load the Model"
      ],
      "metadata": {
        "id": "EgRtgNTJPuwC"
      }
    },
    {
      "cell_type": "code",
      "source": [
        "# Load the improved trained model\n",
        "print(\"Loading improved trained Sheldon model...\")\n",
        "\n",
        "# Load model and tokenizer from saved directory\n",
        "improved_model = AutoModelForCausalLM.from_pretrained(f\"{config.output_dir}/best_model_v2\")\n",
        "improved_tokenizer = AutoTokenizer.from_pretrained(f\"{config.output_dir}/best_model_v2\")\n",
        "\n",
        "# Move to device\n",
        "improved_model = improved_model.to(device)\n",
        "improved_model.eval()  # Set to evaluation mode\n",
        "\n",
        "print(\"Improved trained model loaded successfully!\")"
      ],
      "metadata": {
        "colab": {
          "base_uri": "https://localhost:8080/"
        },
        "id": "ky2-SNVdPxTC",
        "outputId": "79a49e14-afaa-465f-cd4d-1ce2bf3856a2"
      },
      "execution_count": 26,
      "outputs": [
        {
          "output_type": "stream",
          "name": "stdout",
          "text": [
            "Loading improved trained Sheldon model...\n",
            "Improved trained model loaded successfully!\n"
          ]
        }
      ]
    },
    {
      "cell_type": "markdown",
      "source": [
        "23. Improved Little Sheldon Talk Model"
      ],
      "metadata": {
        "id": "jzL7anJlPzuH"
      }
    },
    {
      "cell_type": "code",
      "source": [
        "# Improved chat function with better generation parameters\n",
        "def chat_with_sheldon_improved(user_input, chat_history_ids=None, max_length=150):\n",
        "    \"\"\"\n",
        "    Improved chat function with better generation parameters\n",
        "    \"\"\"\n",
        "    # Encode user input and move to device\n",
        "    new_user_input_ids = improved_tokenizer.encode(user_input + improved_tokenizer.eos_token, return_tensors='pt')\n",
        "    new_user_input_ids = new_user_input_ids.to(device)\n",
        "\n",
        "    # Concatenate with chat history if exists\n",
        "    if chat_history_ids is not None:\n",
        "        chat_history_ids = chat_history_ids.to(device)\n",
        "        bot_input_ids = torch.cat([chat_history_ids, new_user_input_ids], dim=-1)\n",
        "    else:\n",
        "        bot_input_ids = new_user_input_ids\n",
        "\n",
        "    # Generate response with improved parameters\n",
        "    chat_history_ids = improved_model.generate(\n",
        "        bot_input_ids,\n",
        "        max_length=max_length,\n",
        "        pad_token_id=improved_tokenizer.eos_token_id,\n",
        "        no_repeat_ngram_size=2,  # 减少重复\n",
        "        do_sample=True,\n",
        "        top_k=20,  # 减少top_k\n",
        "        top_p=0.8,  # 减少top_p\n",
        "        temperature=0.6,  # 降低温度，更确定性\n",
        "        repetition_penalty=1.2  # 添加重复惩罚\n",
        "    )\n",
        "\n",
        "    # Decode the response\n",
        "    response = improved_tokenizer.decode(chat_history_ids[:, bot_input_ids.shape[-1]:][0], skip_special_tokens=True)\n",
        "\n",
        "    return response, chat_history_ids\n",
        "\n",
        "print(\"Improved chat function created successfully!\")"
      ],
      "metadata": {
        "colab": {
          "base_uri": "https://localhost:8080/"
        },
        "id": "NzQN8z3oP4Yc",
        "outputId": "fe764bce-7040-4472-98df-4bc0c621f9ec"
      },
      "execution_count": 27,
      "outputs": [
        {
          "output_type": "stream",
          "name": "stdout",
          "text": [
            "Improved chat function created successfully!\n"
          ]
        }
      ]
    },
    {
      "cell_type": "markdown",
      "source": [
        "24. Chat Function"
      ],
      "metadata": {
        "id": "5XR_F-gOP6nx"
      }
    },
    {
      "cell_type": "code",
      "source": [
        "# Fixed chat function with better length handling\n",
        "def chat_with_sheldon_fixed(user_input, chat_history_ids=None, max_new_tokens=100):\n",
        "    \"\"\"\n",
        "    Fixed chat function with better length handling\n",
        "    \"\"\"\n",
        "    # Encode user input and move to device\n",
        "    new_user_input_ids = improved_tokenizer.encode(user_input + improved_tokenizer.eos_token, return_tensors='pt')\n",
        "    new_user_input_ids = new_user_input_ids.to(device)\n",
        "\n",
        "    # Concatenate with chat history if exists\n",
        "    if chat_history_ids is not None:\n",
        "        chat_history_ids = chat_history_ids.to(device)\n",
        "        bot_input_ids = torch.cat([chat_history_ids, new_user_input_ids], dim=-1)\n",
        "    else:\n",
        "        bot_input_ids = new_user_input_ids\n",
        "\n",
        "    # Generate response with fixed parameters\n",
        "    chat_history_ids = improved_model.generate(\n",
        "        bot_input_ids,\n",
        "        max_new_tokens=max_new_tokens,  # 使用max_new_tokens而不是max_length\n",
        "        pad_token_id=improved_tokenizer.eos_token_id,\n",
        "        no_repeat_ngram_size=2,\n",
        "        do_sample=True,\n",
        "        top_k=20,\n",
        "        top_p=0.8,\n",
        "        temperature=0.6,\n",
        "        repetition_penalty=1.2\n",
        "    )\n",
        "\n",
        "    # Decode the response\n",
        "    response = improved_tokenizer.decode(chat_history_ids[:, bot_input_ids.shape[-1]:][0], skip_special_tokens=True)\n",
        "\n",
        "    return response, chat_history_ids\n",
        "\n",
        "print(\"Fixed chat function created successfully!\")"
      ],
      "metadata": {
        "colab": {
          "base_uri": "https://localhost:8080/"
        },
        "id": "M60i4wlqP76p",
        "outputId": "2caa6cac-af97-4cba-a77d-f7386348072a"
      },
      "execution_count": 29,
      "outputs": [
        {
          "output_type": "stream",
          "name": "stdout",
          "text": [
            "Fixed chat function created successfully!\n"
          ]
        }
      ]
    },
    {
      "cell_type": "markdown",
      "source": [
        "25. Chat"
      ],
      "metadata": {
        "id": "3LsyvxdcQR2n"
      }
    },
    {
      "cell_type": "code",
      "source": [
        "# Test conversation with fixed Sheldon\n",
        "print(\"Let's chat with the fixed Sheldon!\")\n",
        "print(\"=\" * 50)\n",
        "\n",
        "# Test prompts\n",
        "test_prompts = [\n",
        "    \"Hello Sheldon, how are you?\",\n",
        "    \"What do you think about quantum physics?\",\n",
        "    \"Tell me about your roommate Leonard\",\n",
        "    \"Do you like comic books?\",\n",
        "    \"What's your favorite spot on the couch?\",\n",
        "    \"Bazinga!\"\n",
        "]\n",
        "\n",
        "chat_history_ids = None\n",
        "\n",
        "for prompt in test_prompts:\n",
        "    print(f\"\\nUser: {prompt}\")\n",
        "\n",
        "    # Get Sheldon's response\n",
        "    response, chat_history_ids = chat_with_sheldon_fixed(prompt, chat_history_ids)\n",
        "\n",
        "    print(f\"Sheldon: {response}\")\n",
        "    print(\"-\" * 40)"
      ],
      "metadata": {
        "colab": {
          "base_uri": "https://localhost:8080/"
        },
        "id": "S09CinmFQRuA",
        "outputId": "94e8f6e3-6e28-4307-e7da-78d41e125257"
      },
      "execution_count": 30,
      "outputs": [
        {
          "output_type": "stream",
          "name": "stdout",
          "text": [
            "Let's chat with the fixed Sheldon!\n",
            "==================================================\n",
            "\n",
            "User: Hello Sheldon, how are you?\n",
            "Sheldon: Knock on door.  Oh! I’m sorry to hear that… (entering) Hello Penny and Leonard. We just wanted a little privacy before we go in the hallway for an hour without my phone calling me back home from work today at eight o ‘clock: 00 pst., and no one has told us yet if there will be any surprises after nine o clock or ten ooh-oohs till dawn until then. And last but not least it would help\n",
            "----------------------------------------\n",
            "\n",
            "User: What do you think about quantum physics?\n",
            "Sheldon:  The apartment building lobby is playing Rock Band with live music samples synced up through walls as they descend into song of Doom by Nine In Diamond. There goes your night cap again…. [SEP]  Hi guys what brings everybody here tonight so early this morning while Howard was out doing laundry he got bored driving around town like some kinda crazy person who lives across his hall singing Howie Mandelbrot backwards all over him. It wasn t even fun getting dressed right because everyone else had left\n",
            "----------------------------------------\n",
            "\n",
            "User: Tell me about your roommate Leonard\n",
            "Sheldon: \n",
            "----------------------------------------\n",
            "\n",
            "User: Do you like comic books?\n",
            "Sheldon:  I don see why people downvoting Bernadette when she comes along wearing her favourite colouring pantiesuits which look nothing except blue. She looks great now knowing exactly where everything went wrong between them once their pants fell apart forever ago than ever since our first date together anyway apparently didnghinily call anyone care either way well maybe try anything different happen neither did say hi hmmwow goshhuhu shushy crap whatever happened okay still remember something good enough times were happening anymore\n",
            "----------------------------------------\n",
            "\n",
            "User: What's your favorite spot on the couch?\n",
            "Sheldon: Bernardine house kitchen floorboards came alive inside Amy says hello Rajeshi said yes answer both ways too fastenically speaking English isnate peeerily know another conversation going forward thinking someone may have sexed lovemaking voice mail boxers might get excited thoughts never mindlessly fwitches could change words come round off leaving office room full heart rate high five seconds later perhaps more interesting things start making perfect tense none knows also speak faster sound effects possibly die happy voicemulated conversations continue living space\n",
            "----------------------------------------\n",
            "\n",
            "User: Bazinga!\n",
            "Sheldon:  Yes indeed occurive thought occurred hey yeah sounds better safepants flyfast killinium particles running away moving towards death spankinsence occurs near future exists eurumfivethausite tharize besterious activity Fana kitty noises heard myself being finished killing meme featuring blossings aheadening itself online chatty moments passing adieu changing paradigm boomailance begin dying rapidly exiting brainspace continuum infinite fibre ablides remainfree beefences suddenly evolving beyond sleepies died amusing sponge\n",
            "----------------------------------------\n"
          ]
        }
      ]
    }
  ]
}