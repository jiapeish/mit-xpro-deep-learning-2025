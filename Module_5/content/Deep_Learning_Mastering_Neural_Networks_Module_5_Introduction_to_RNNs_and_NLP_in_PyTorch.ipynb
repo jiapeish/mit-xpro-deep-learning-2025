{
  "nbformat": 4,
  "nbformat_minor": 0,
  "metadata": {
    "colab": {
      "provenance": [],
      "toc_visible": true
    },
    "kernelspec": {
      "name": "python3",
      "display_name": "Python 3"
    },
    "language_info": {
      "name": "python"
    },
    "accelerator": "GPU",
    "gpuClass": "standard"
  },
  "cells": [
    {
      "cell_type": "markdown",
      "source": [
        "# Deep Learning: Mastering Neural Networks - Module 5: Introduction to RNNs and NLP in PyTorch\n",
        "\n",
        "Up until this point, we have yet to apply the power of PyTorch to solving Natural Language Processing (NLP) problems. The field of NLP is an extremely exciting space to apply Deep Learning techniques. Just like in Computer Vision, there are different classes of NLP problems. These include classification, summarization, sequence to sequence mapping, and others. Eventually, we would like to implement a model that solves an extremely popular sequence to sequence mapping problem: Machine Translation. In order to build our NLP toolset though, we will first examine the simpler tasks of word and sentence completion."
      ],
      "metadata": {
        "id": "aZVJ8gUn1RR9"
      }
    },
    {
      "cell_type": "markdown",
      "source": [
        "## Problem Definition\n",
        "\n",
        "Sequence to Sequence Mapping problems are inherently different than the supervised learning tasks we have solved in the past. In Image Classification, there is a singular image with a singular class label, a one-to-one mapping between the input and output. In sequence to sequence mapping, our input consists of many discrete samples, or in our case - characters. Additionally, our output is a sequence of characters.\n"
      ],
      "metadata": {
        "id": "ptJiFULG2AiJ"
      }
    },
    {
      "cell_type": "markdown",
      "source": [
        "## Dataset\n",
        "\n",
        "For our dataset, we will use a database of English-Spanish phrase pairs. Eventually we will use this same dataset for our machine translation task but first we will just be examining the English phrases.\n",
        "\n",
        "The PyTorch Tutorial - [NLP From Scratch](https://pytorch.org/tutorials/intermediate/seq2seq_translation_tutorial.html) uses an English-French dataset for a translation task and was the inspiration for our use of this dataset. We will perform some similar dataset cleaning and utility functions as they do in their tutorial."
      ],
      "metadata": {
        "id": "cu4mucQioGZA"
      }
    },
    {
      "cell_type": "code",
      "source": [
        "from io import open\n",
        "import unicodedata\n",
        "import string\n",
        "import random\n",
        "import re\n",
        "\n",
        "import torch\n",
        "import torch.nn as nn\n",
        "import numpy as np\n",
        "from torch.utils.data import Subset\n",
        "from torch.utils.data import TensorDataset, DataLoader\n",
        "import time, copy\n",
        "import matplotlib.pyplot as plt\n",
        "import sklearn.metrics as metrics\n",
        "\n",
        "device = torch.device(\"cuda\" if torch.cuda.is_available() else \"cpu\")"
      ],
      "metadata": {
        "id": "yrzZRul42zJs"
      },
      "execution_count": null,
      "outputs": []
    },
    {
      "cell_type": "code",
      "source": [
        "# Here we download and unzip the text file that contains all of our translated phrases\n",
        "!rm spa-eng.zip _about.txt spa.txt\n",
        "!wget https://www.manythings.org/anki/spa-eng.zip\n",
        "!unzip spa-eng.zip\n",
        "!ls"
      ],
      "metadata": {
        "colab": {
          "base_uri": "https://localhost:8080/"
        },
        "id": "FoRgk40z3kJk",
        "outputId": "4517b569-d5ad-4391-d5b6-6183226745a5"
      },
      "execution_count": null,
      "outputs": [
        {
          "output_type": "stream",
          "name": "stdout",
          "text": [
            "rm: cannot remove 'spa-eng.zip': No such file or directory\n",
            "rm: cannot remove '_about.txt': No such file or directory\n",
            "rm: cannot remove 'spa.txt': No such file or directory\n",
            "--2022-10-19 14:18:40--  https://www.manythings.org/anki/spa-eng.zip\n",
            "Resolving www.manythings.org (www.manythings.org)... 173.254.30.110\n",
            "Connecting to www.manythings.org (www.manythings.org)|173.254.30.110|:443... connected.\n",
            "HTTP request sent, awaiting response... 200 OK\n",
            "Length: 5336731 (5.1M) [application/zip]\n",
            "Saving to: ‘spa-eng.zip’\n",
            "\n",
            "spa-eng.zip         100%[===================>]   5.09M  19.8MB/s    in 0.3s    \n",
            "\n",
            "2022-10-19 14:18:41 (19.8 MB/s) - ‘spa-eng.zip’ saved [5336731/5336731]\n",
            "\n",
            "Archive:  spa-eng.zip\n",
            "  inflating: _about.txt              \n",
            "  inflating: spa.txt                 \n",
            "_about.txt  sample_data  spa-eng.zip  spa.txt\n"
          ]
        }
      ]
    },
    {
      "cell_type": "markdown",
      "source": [
        "These helper functions will clean our dataset and ensure the phrases can be used by our neural network. For more information please check out the link in the comments."
      ],
      "metadata": {
        "id": "3KUUMOgBsqIq"
      }
    },
    {
      "cell_type": "code",
      "source": [
        "# Helper functions combined from PyTorch tutorial: https://pytorch.org/tutorials/intermediate/seq2seq_translation_tutorial.html\n",
        "\n",
        "# Turn a Unicode string to plain ASCII, thanks to\n",
        "# https://stackoverflow.com/a/518232/2809427\n",
        "def unicodeToAscii(s):\n",
        "    return ''.join(\n",
        "        c for c in unicodedata.normalize('NFD', s)\n",
        "        if unicodedata.category(c) != 'Mn'\n",
        "    )\n",
        "\n",
        "# Lowercase, trim, and remove non-letter characters\n",
        "# This is important because we want all words to be formatted the same similar\n",
        "# to our image normalization\n",
        "def normalizeString(s):\n",
        "    s = unicodeToAscii(s.lower().strip())\n",
        "    s = re.sub(r\"([.!?])\", r\" \\1\", s)\n",
        "    s = re.sub(r\"[^a-zA-Z.!'?]+\", r\" \", s)\n",
        "    return s\n",
        "\n",
        "def parse_data(filename):\n",
        "    # Read the file and split into lines\n",
        "    lines = open(filename, encoding='utf-8').read().strip().split('\\n')\n",
        "\n",
        "    # Split every line into pairs and normalize\n",
        "    pairs = [[normalizeString(s) for s in l.split('\\t')] for l in lines]\n",
        "    # Throw out the attribution as it is not a part of the data\n",
        "    pairs = [[pair[0], pair[1]] for pair in pairs]\n",
        "\n",
        "    return pairs"
      ],
      "metadata": {
        "id": "66lR-Qyl8BYs"
      },
      "execution_count": null,
      "outputs": []
    },
    {
      "cell_type": "code",
      "source": [
        "pairs = parse_data(\"spa.txt\")\n",
        "# We only want the english sentences because we aren't translating\n",
        "english_sentences = [pair[0] for pair in pairs]\n",
        "# Shuffle our dataset\n",
        "random.shuffle(english_sentences)\n",
        "print(\"Number of English sentences:\", len(english_sentences))"
      ],
      "metadata": {
        "colab": {
          "base_uri": "https://localhost:8080/"
        },
        "id": "Ti0WFHKX9-k-",
        "outputId": "0414f508-539e-4596-aaf0-7798de4f8936"
      },
      "execution_count": null,
      "outputs": [
        {
          "output_type": "stream",
          "name": "stdout",
          "text": [
            "Number of English sentences: 139013\n"
          ]
        }
      ]
    },
    {
      "cell_type": "code",
      "source": [
        "# We will include all ascii letters and some common characters for our valid character set\n",
        "letters = string.ascii_letters + \" .,;'-\"\n",
        "num_letters = len(letters) + 1 # Need to add 1 for the End Tag"
      ],
      "metadata": {
        "id": "IxR_MgYJ3-dt"
      },
      "execution_count": null,
      "outputs": []
    },
    {
      "cell_type": "markdown",
      "source": [
        "## Word Completion\n",
        "\n",
        "For our first pass, we will take a sample of the words from our sentences and predict complete words given a subset of characters!"
      ],
      "metadata": {
        "id": "oxGSbaJKzoHj"
      }
    },
    {
      "cell_type": "code",
      "source": [
        "# Strip all of our phrases down to words and throw out '.'\n",
        "words = [word for sentence in english_sentences for word in sentence.split(' ') if word not in ['.', '!', '?'] and len(word) > 0 and '\\'' not in word]\n",
        "\n",
        "# Since we already shuffled our dataset, grab a random sampling of words for our train, val, and test\n",
        "train_words = words[:20000]\n",
        "val_words = words[20000:25000]\n",
        "test_words = words[25000:30000]"
      ],
      "metadata": {
        "id": "BngUGRRE-8P0"
      },
      "execution_count": null,
      "outputs": []
    },
    {
      "cell_type": "markdown",
      "source": [
        "### Encoding\n",
        "\n",
        "Now that we have all of our words in string format, we need to encode them in a representation that the neural network can understand. We will create a one hot encoding vector for each character and concatenate those to represent a specific word for our input training samples.\n",
        "\n",
        "Since we are using a RNN, we will be feeding each of these character vectors in one at a time. The goal of the RNN is to predict the *next* character in the word. This allows the network to generate a word given a single letter or a prefix. Additionally, we need the network to learn when the end of a word is. To achieve this, we will designate a special character for the end of a given sequence (`<EOS>`) that should be predicted by the last character in a word.\n",
        "\n",
        "Therefore, we will designate two tensor sequences. First we create the `input_tensor` which is represented as the concatenation of the one hot encoding vectors for each character. The second tensor sequence, `target_tensor` contains the one hot encoding vector for the target characters corresponding to each character in the input tensor. For example, the `input_tensor`,`target_tensor` character correspondance for the word \"apple\" is:\n",
        "\n",
        "`input_tensor = \"apple\"`\n",
        "\n",
        "`target_tensor = \"pple<EOS>`\n",
        "\n"
      ],
      "metadata": {
        "id": "pszv87RStebQ"
      }
    },
    {
      "cell_type": "code",
      "source": [
        "# Now make our training samples:\n",
        "\n",
        "# Adapted from https://pytorch.org/tutorials/intermediate/char_rnn_generation_tutorial.html\n",
        "# One-hot matrix of first to last letters (not including EOS) for input\n",
        "def input_tensor(word):\n",
        "    tensor = torch.zeros(len(word), 1, num_letters)\n",
        "    for idx in range(len(word)):\n",
        "        letter = word[idx]\n",
        "        tensor[idx][0][letters.find(letter)] = 1\n",
        "    return tensor\n",
        "\n",
        "# LongTensor of second letter to end (EOS) for target\n",
        "def target_tensor(word):\n",
        "    tensor = torch.zeros(len(word), 1, num_letters)\n",
        "    for idx in range(1, len(word)):\n",
        "        letter = word[idx]\n",
        "        tensor[idx-1][0][letters.find(letter)] = 1\n",
        "    tensor[len(word)-1][0][num_letters-1] = 1 # EOS\n",
        "    return tensor\n",
        "\n",
        "train_input = [input_tensor(word) for word in train_words]\n",
        "train_target = [target_tensor(word) for word in train_words]\n",
        "val_input = [input_tensor(word) for word in val_words]\n",
        "val_target = [target_tensor(word) for word in val_words]\n",
        "test_input = [input_tensor(word) for word in test_words]\n",
        "test_target = [target_tensor(word) for word in test_words]"
      ],
      "metadata": {
        "id": "3MLDsB9KSYvQ"
      },
      "execution_count": null,
      "outputs": []
    },
    {
      "cell_type": "code",
      "source": [
        "# Let's look at a few word encodings, to see what those look like:\n",
        "for i in range(6):\n",
        "    print(train_words[i], \"[encode as]\", train_input[i])"
      ],
      "metadata": {
        "colab": {
          "base_uri": "https://localhost:8080/"
        },
        "id": "xqsnvhHEaWCF",
        "outputId": "fc2a563d-6a58-410e-be4b-cb22eb494c53"
      },
      "execution_count": null,
      "outputs": [
        {
          "output_type": "stream",
          "name": "stdout",
          "text": [
            "do [encode as] tensor([[[0., 0., 0., 1., 0., 0., 0., 0., 0., 0., 0., 0., 0., 0., 0., 0., 0.,\n",
            "          0., 0., 0., 0., 0., 0., 0., 0., 0., 0., 0., 0., 0., 0., 0., 0., 0.,\n",
            "          0., 0., 0., 0., 0., 0., 0., 0., 0., 0., 0., 0., 0., 0., 0., 0., 0.,\n",
            "          0., 0., 0., 0., 0., 0., 0., 0.]],\n",
            "\n",
            "        [[0., 0., 0., 0., 0., 0., 0., 0., 0., 0., 0., 0., 0., 0., 1., 0., 0.,\n",
            "          0., 0., 0., 0., 0., 0., 0., 0., 0., 0., 0., 0., 0., 0., 0., 0., 0.,\n",
            "          0., 0., 0., 0., 0., 0., 0., 0., 0., 0., 0., 0., 0., 0., 0., 0., 0.,\n",
            "          0., 0., 0., 0., 0., 0., 0., 0.]]])\n",
            "you [encode as] tensor([[[0., 0., 0., 0., 0., 0., 0., 0., 0., 0., 0., 0., 0., 0., 0., 0., 0.,\n",
            "          0., 0., 0., 0., 0., 0., 0., 1., 0., 0., 0., 0., 0., 0., 0., 0., 0.,\n",
            "          0., 0., 0., 0., 0., 0., 0., 0., 0., 0., 0., 0., 0., 0., 0., 0., 0.,\n",
            "          0., 0., 0., 0., 0., 0., 0., 0.]],\n",
            "\n",
            "        [[0., 0., 0., 0., 0., 0., 0., 0., 0., 0., 0., 0., 0., 0., 1., 0., 0.,\n",
            "          0., 0., 0., 0., 0., 0., 0., 0., 0., 0., 0., 0., 0., 0., 0., 0., 0.,\n",
            "          0., 0., 0., 0., 0., 0., 0., 0., 0., 0., 0., 0., 0., 0., 0., 0., 0.,\n",
            "          0., 0., 0., 0., 0., 0., 0., 0.]],\n",
            "\n",
            "        [[0., 0., 0., 0., 0., 0., 0., 0., 0., 0., 0., 0., 0., 0., 0., 0., 0.,\n",
            "          0., 0., 0., 1., 0., 0., 0., 0., 0., 0., 0., 0., 0., 0., 0., 0., 0.,\n",
            "          0., 0., 0., 0., 0., 0., 0., 0., 0., 0., 0., 0., 0., 0., 0., 0., 0.,\n",
            "          0., 0., 0., 0., 0., 0., 0., 0.]]])\n",
            "know [encode as] tensor([[[0., 0., 0., 0., 0., 0., 0., 0., 0., 0., 1., 0., 0., 0., 0., 0., 0.,\n",
            "          0., 0., 0., 0., 0., 0., 0., 0., 0., 0., 0., 0., 0., 0., 0., 0., 0.,\n",
            "          0., 0., 0., 0., 0., 0., 0., 0., 0., 0., 0., 0., 0., 0., 0., 0., 0.,\n",
            "          0., 0., 0., 0., 0., 0., 0., 0.]],\n",
            "\n",
            "        [[0., 0., 0., 0., 0., 0., 0., 0., 0., 0., 0., 0., 0., 1., 0., 0., 0.,\n",
            "          0., 0., 0., 0., 0., 0., 0., 0., 0., 0., 0., 0., 0., 0., 0., 0., 0.,\n",
            "          0., 0., 0., 0., 0., 0., 0., 0., 0., 0., 0., 0., 0., 0., 0., 0., 0.,\n",
            "          0., 0., 0., 0., 0., 0., 0., 0.]],\n",
            "\n",
            "        [[0., 0., 0., 0., 0., 0., 0., 0., 0., 0., 0., 0., 0., 0., 1., 0., 0.,\n",
            "          0., 0., 0., 0., 0., 0., 0., 0., 0., 0., 0., 0., 0., 0., 0., 0., 0.,\n",
            "          0., 0., 0., 0., 0., 0., 0., 0., 0., 0., 0., 0., 0., 0., 0., 0., 0.,\n",
            "          0., 0., 0., 0., 0., 0., 0., 0.]],\n",
            "\n",
            "        [[0., 0., 0., 0., 0., 0., 0., 0., 0., 0., 0., 0., 0., 0., 0., 0., 0.,\n",
            "          0., 0., 0., 0., 0., 1., 0., 0., 0., 0., 0., 0., 0., 0., 0., 0., 0.,\n",
            "          0., 0., 0., 0., 0., 0., 0., 0., 0., 0., 0., 0., 0., 0., 0., 0., 0.,\n",
            "          0., 0., 0., 0., 0., 0., 0., 0.]]])\n",
            "which [encode as] tensor([[[0., 0., 0., 0., 0., 0., 0., 0., 0., 0., 0., 0., 0., 0., 0., 0., 0.,\n",
            "          0., 0., 0., 0., 0., 1., 0., 0., 0., 0., 0., 0., 0., 0., 0., 0., 0.,\n",
            "          0., 0., 0., 0., 0., 0., 0., 0., 0., 0., 0., 0., 0., 0., 0., 0., 0.,\n",
            "          0., 0., 0., 0., 0., 0., 0., 0.]],\n",
            "\n",
            "        [[0., 0., 0., 0., 0., 0., 0., 1., 0., 0., 0., 0., 0., 0., 0., 0., 0.,\n",
            "          0., 0., 0., 0., 0., 0., 0., 0., 0., 0., 0., 0., 0., 0., 0., 0., 0.,\n",
            "          0., 0., 0., 0., 0., 0., 0., 0., 0., 0., 0., 0., 0., 0., 0., 0., 0.,\n",
            "          0., 0., 0., 0., 0., 0., 0., 0.]],\n",
            "\n",
            "        [[0., 0., 0., 0., 0., 0., 0., 0., 1., 0., 0., 0., 0., 0., 0., 0., 0.,\n",
            "          0., 0., 0., 0., 0., 0., 0., 0., 0., 0., 0., 0., 0., 0., 0., 0., 0.,\n",
            "          0., 0., 0., 0., 0., 0., 0., 0., 0., 0., 0., 0., 0., 0., 0., 0., 0.,\n",
            "          0., 0., 0., 0., 0., 0., 0., 0.]],\n",
            "\n",
            "        [[0., 0., 1., 0., 0., 0., 0., 0., 0., 0., 0., 0., 0., 0., 0., 0., 0.,\n",
            "          0., 0., 0., 0., 0., 0., 0., 0., 0., 0., 0., 0., 0., 0., 0., 0., 0.,\n",
            "          0., 0., 0., 0., 0., 0., 0., 0., 0., 0., 0., 0., 0., 0., 0., 0., 0.,\n",
            "          0., 0., 0., 0., 0., 0., 0., 0.]],\n",
            "\n",
            "        [[0., 0., 0., 0., 0., 0., 0., 1., 0., 0., 0., 0., 0., 0., 0., 0., 0.,\n",
            "          0., 0., 0., 0., 0., 0., 0., 0., 0., 0., 0., 0., 0., 0., 0., 0., 0.,\n",
            "          0., 0., 0., 0., 0., 0., 0., 0., 0., 0., 0., 0., 0., 0., 0., 0., 0.,\n",
            "          0., 0., 0., 0., 0., 0., 0., 0.]]])\n",
            "room [encode as] tensor([[[0., 0., 0., 0., 0., 0., 0., 0., 0., 0., 0., 0., 0., 0., 0., 0., 0.,\n",
            "          1., 0., 0., 0., 0., 0., 0., 0., 0., 0., 0., 0., 0., 0., 0., 0., 0.,\n",
            "          0., 0., 0., 0., 0., 0., 0., 0., 0., 0., 0., 0., 0., 0., 0., 0., 0.,\n",
            "          0., 0., 0., 0., 0., 0., 0., 0.]],\n",
            "\n",
            "        [[0., 0., 0., 0., 0., 0., 0., 0., 0., 0., 0., 0., 0., 0., 1., 0., 0.,\n",
            "          0., 0., 0., 0., 0., 0., 0., 0., 0., 0., 0., 0., 0., 0., 0., 0., 0.,\n",
            "          0., 0., 0., 0., 0., 0., 0., 0., 0., 0., 0., 0., 0., 0., 0., 0., 0.,\n",
            "          0., 0., 0., 0., 0., 0., 0., 0.]],\n",
            "\n",
            "        [[0., 0., 0., 0., 0., 0., 0., 0., 0., 0., 0., 0., 0., 0., 1., 0., 0.,\n",
            "          0., 0., 0., 0., 0., 0., 0., 0., 0., 0., 0., 0., 0., 0., 0., 0., 0.,\n",
            "          0., 0., 0., 0., 0., 0., 0., 0., 0., 0., 0., 0., 0., 0., 0., 0., 0.,\n",
            "          0., 0., 0., 0., 0., 0., 0., 0.]],\n",
            "\n",
            "        [[0., 0., 0., 0., 0., 0., 0., 0., 0., 0., 0., 0., 1., 0., 0., 0., 0.,\n",
            "          0., 0., 0., 0., 0., 0., 0., 0., 0., 0., 0., 0., 0., 0., 0., 0., 0.,\n",
            "          0., 0., 0., 0., 0., 0., 0., 0., 0., 0., 0., 0., 0., 0., 0., 0., 0.,\n",
            "          0., 0., 0., 0., 0., 0., 0., 0.]]])\n",
            "the [encode as] tensor([[[0., 0., 0., 0., 0., 0., 0., 0., 0., 0., 0., 0., 0., 0., 0., 0., 0.,\n",
            "          0., 0., 1., 0., 0., 0., 0., 0., 0., 0., 0., 0., 0., 0., 0., 0., 0.,\n",
            "          0., 0., 0., 0., 0., 0., 0., 0., 0., 0., 0., 0., 0., 0., 0., 0., 0.,\n",
            "          0., 0., 0., 0., 0., 0., 0., 0.]],\n",
            "\n",
            "        [[0., 0., 0., 0., 0., 0., 0., 1., 0., 0., 0., 0., 0., 0., 0., 0., 0.,\n",
            "          0., 0., 0., 0., 0., 0., 0., 0., 0., 0., 0., 0., 0., 0., 0., 0., 0.,\n",
            "          0., 0., 0., 0., 0., 0., 0., 0., 0., 0., 0., 0., 0., 0., 0., 0., 0.,\n",
            "          0., 0., 0., 0., 0., 0., 0., 0.]],\n",
            "\n",
            "        [[0., 0., 0., 0., 1., 0., 0., 0., 0., 0., 0., 0., 0., 0., 0., 0., 0.,\n",
            "          0., 0., 0., 0., 0., 0., 0., 0., 0., 0., 0., 0., 0., 0., 0., 0., 0.,\n",
            "          0., 0., 0., 0., 0., 0., 0., 0., 0., 0., 0., 0., 0., 0., 0., 0., 0.,\n",
            "          0., 0., 0., 0., 0., 0., 0., 0.]]])\n"
          ]
        }
      ]
    },
    {
      "cell_type": "code",
      "source": [
        "# Now let's look at the pairing of the input_tensors to the target_tensors\n",
        "def input_tensor_to_word(tensor):\n",
        "    word = \"\"\n",
        "    for i in range(tensor.size(0)):\n",
        "        topv, topi = tensor[i].topk(1)\n",
        "        word += letters[topi[0][0]]\n",
        "    return word\n",
        "\n",
        "def target_tensor_to_word(tensor):\n",
        "    word = \"\"\n",
        "    for i in range(tensor.size(0)):\n",
        "        topv, topi = tensor[i].topk(1)\n",
        "        if topi[0][0] == num_letters-1:\n",
        "            word += \"<EOS>\"\n",
        "            break\n",
        "        word += letters[topi[0][0]]\n",
        "    return word\n",
        "print(\"This code helps visualize which characters represent an input_tensor and its corresponding target_tensor\")\n",
        "examples_to_show = 6\n",
        "count = 1\n",
        "for input, target in zip(train_input, train_target):\n",
        "    print(input_tensor_to_word(input))\n",
        "    print(target_tensor_to_word(target))\n",
        "    count += 1\n",
        "    if count > examples_to_show:\n",
        "        break\n"
      ],
      "metadata": {
        "id": "AnIg_qVDQhy0",
        "colab": {
          "base_uri": "https://localhost:8080/"
        },
        "outputId": "1a41c625-6bc9-47a1-e747-11db75414bcb"
      },
      "execution_count": null,
      "outputs": [
        {
          "output_type": "stream",
          "name": "stdout",
          "text": [
            "This code helps visualize which characters represent an input_tensor and its corresponding target_tensor\n",
            "do\n",
            "o<EOS>\n",
            "you\n",
            "ou<EOS>\n",
            "know\n",
            "now<EOS>\n",
            "which\n",
            "hich<EOS>\n",
            "room\n",
            "oom<EOS>\n",
            "the\n",
            "he<EOS>\n"
          ]
        }
      ]
    },
    {
      "cell_type": "code",
      "source": [
        "dataloaders = {'train': list(zip(train_input, train_target)),\n",
        "               'val': list(zip(val_input, val_target)),\n",
        "               'test': list(zip(test_input, test_target))}\n",
        "\n",
        "dataset_sizes = {'train': len(train_input),\n",
        "                 'val': len(val_input),\n",
        "                 'test': len(test_input)}\n",
        "print(f'dataset_sizes = {dataset_sizes}')"
      ],
      "metadata": {
        "colab": {
          "base_uri": "https://localhost:8080/"
        },
        "id": "3SjmOheE6bcn",
        "outputId": "ddd8b577-5073-48f9-91ed-65d755771f9c"
      },
      "execution_count": null,
      "outputs": [
        {
          "output_type": "stream",
          "name": "stdout",
          "text": [
            "dataset_sizes = {'train': 20000, 'val': 5000, 'test': 5000}\n"
          ]
        }
      ]
    },
    {
      "cell_type": "markdown",
      "source": [
        "### RNN Definition\n",
        "\n",
        "The model we create to solve this task will be a basic implementation of a Recurrent Neural Network (RNN). Luckily for us, PyTorch has a great implementation of an RNN module. We will use this built in RNN module and modify our standard `forward` method to account for the hidden state!\n",
        "\n",
        "By using an RNN, our neural network is able to make predictions on sequences of characters. Our forward pass will be slightly modified and include a hidden state that encodes information about the current sequence that the neural network has already seen. In addition to the encoded hidden state, the output of our forward pass will be the predicted probabilities for the next character in the sequence.\n",
        "\n",
        "Our training will be slightly different as the network will be predicting probabilities for the next character in the entire sequence, so we will be keeping track of the loss for an entire sequence before performing back propagation. We will explain this in more depth below.\n"
      ],
      "metadata": {
        "id": "dKtltT2-oUuo"
      }
    },
    {
      "cell_type": "code",
      "source": [
        "class RNN(nn.Module):\n",
        "    def __init__(self, input_size, hidden_size, output_size):\n",
        "        super(RNN, self).__init__()\n",
        "\n",
        "        self.hidden_size = hidden_size\n",
        "\n",
        "        self.rnn = nn.RNN(input_size, hidden_size, num_layers = 1, nonlinearity = 'tanh', dropout = 0)\n",
        "\n",
        "        self.fc = nn.Linear(hidden_size, output_size)\n",
        "\n",
        "    def forward(self, input, hidden):\n",
        "\n",
        "        output, hidden = self.rnn(input, hidden)\n",
        "        output = self.fc(output)\n",
        "\n",
        "        return output, hidden\n",
        "\n",
        "    # This method will give us a hidden state tensor to use for our initial prediction of the sequence\n",
        "    def initHidden(self):\n",
        "        return torch.zeros(1, self.hidden_size)"
      ],
      "metadata": {
        "id": "bYLj4Qvzxldp"
      },
      "execution_count": null,
      "outputs": []
    },
    {
      "cell_type": "code",
      "source": [
        "# We will use a hidden size of 128 for this network\n",
        "word_rnn = RNN(num_letters, 128, num_letters).to(device)"
      ],
      "metadata": {
        "id": "DoQcZxUF-QBY"
      },
      "execution_count": null,
      "outputs": []
    },
    {
      "cell_type": "markdown",
      "source": [
        "### Training\n",
        "\n",
        "Training the model will be very similar to classification tasks we have done in the past, however we will now account for the sequence of inputs and predictions. When training, we will calculate the loss for an entire sequence of characters (word) and perform back propagation at the end of a given sequence.\n",
        "\n",
        "We can define the steps for a given sequence below:\n",
        "\n",
        "1. Initialize the hidden state - Each call of `forward` requires a hidden state encoding. We have decided that our initial hidden state encoding for the first character in a sequence is a `zeros` tensor.\n",
        "2. Loop through the `input_tensor` and perform the following steps for each character in the sequence:\n",
        "\n",
        "    a. Call `forward` with the current character's encoding and the current `hidden_state`.\n",
        "\n",
        "    b. `forward` will output a probability distribution of the next predicted character and a new `hidden_state`\n",
        "\n",
        "    c. Calculate the loss of the output probability distribution of the next character with respect to the ground truth next character in the sequence and add it to the running total.\n",
        "\n",
        "    d. Continue to the next character in the input sequence using the latest `hidden_state`\n",
        "3. Once all of the characters in the sequence have been fed through the `forward` function, perform backpropagation given the entire loss of the sequence and redo this process for the next sequence.\n",
        "\n",
        "Note: our training function has been updated to represent this new workflow. Try and walk through the comments in the code to see how we implemented this new process in Python!\n",
        "\n"
      ],
      "metadata": {
        "id": "jUr2jUTXxl6Q"
      }
    },
    {
      "cell_type": "code",
      "source": [
        "def train_rnn(model, dataloaders, dataset_sizes, criterion, optimizer, scheduler, num_epochs=25):\n",
        "    since = time.time()\n",
        "\n",
        "    best_model_wts = copy.deepcopy(model.state_dict()) # keep the best weights stored separately\n",
        "    best_loss = np.inf\n",
        "    best_epoch = 0\n",
        "\n",
        "    # Each epoch has a training, validation, and test phase\n",
        "    phases = ['train', 'val', 'test']\n",
        "\n",
        "    # Keep track of how loss evolves during training\n",
        "    training_curves = {}\n",
        "    for phase in phases:\n",
        "        training_curves[phase+'_loss'] = []\n",
        "\n",
        "    for epoch in range(num_epochs):\n",
        "        print(f'\\nEpoch {epoch+1}/{num_epochs}')\n",
        "        print('-' * 10)\n",
        "\n",
        "        for phase in phases:\n",
        "            if phase == 'train':\n",
        "                model.train()  # Set model to training mode\n",
        "            else:\n",
        "                model.eval()   # Set model to evaluate mode\n",
        "\n",
        "            running_loss = 0.0\n",
        "\n",
        "            # Iterate over data\n",
        "            for input_sequence, target_sequence in dataloaders[phase]:\n",
        "                # Now Iterate through each sequence here:\n",
        "\n",
        "                hidden = model.initHidden() # Start with a fresh hidden state\n",
        "\n",
        "                current_input_sequence = input_sequence.to(device)\n",
        "                current_target_sequence = target_sequence.to(device)\n",
        "\n",
        "                # zero the parameter gradients\n",
        "                optimizer.zero_grad()\n",
        "\n",
        "                # forward\n",
        "                with torch.set_grad_enabled(phase == 'train'):\n",
        "                    loss = 0\n",
        "                    # Make a prediction for each element in the sequence,\n",
        "                    # keeping track of the hidden state along the way\n",
        "                    for i in range(current_input_sequence.size(0)):\n",
        "                        current_hidden = hidden.to(device)\n",
        "                        output, hidden = model(current_input_sequence[i], current_hidden)\n",
        "                        l = criterion(output, current_target_sequence[i])\n",
        "                        loss += l\n",
        "\n",
        "                    # backward + update weights only if in training phase at the end of a sequence\n",
        "                    if phase == 'train':\n",
        "                        loss.backward()\n",
        "                        optimizer.step()\n",
        "\n",
        "                # statistics\n",
        "                running_loss += loss.item() / current_input_sequence.size(0)\n",
        "\n",
        "            if phase == 'train':\n",
        "                scheduler.step()\n",
        "\n",
        "            epoch_loss = running_loss / dataset_sizes[phase]\n",
        "            training_curves[phase+'_loss'].append(epoch_loss)\n",
        "\n",
        "            print(f'{phase:5} Loss: {epoch_loss:.4f}')\n",
        "\n",
        "            # deep copy the model if it's the best loss\n",
        "            if phase == 'val' and epoch_loss < best_loss:\n",
        "              best_epoch = epoch\n",
        "              best_loss = epoch_loss\n",
        "              best_model_wts = copy.deepcopy(model.state_dict())\n",
        "\n",
        "    time_elapsed = time.time() - since\n",
        "    print(f'\\nTraining complete in {time_elapsed // 60:.0f}m {time_elapsed % 60:.0f}s')\n",
        "    print(f'Best val Loss: {best_loss:4f} at epoch {best_epoch}')\n",
        "\n",
        "    # load best model weights\n",
        "    model.load_state_dict(best_model_wts)\n",
        "\n",
        "    return model, training_curves"
      ],
      "metadata": {
        "id": "HRR_nA2ofl8t"
      },
      "execution_count": null,
      "outputs": []
    },
    {
      "cell_type": "code",
      "source": [
        "# This should look very similar to our previous tasks!\n",
        "learning_rate = 0.001\n",
        "num_epochs = 10 # We are only doing 10 Epochs here to save time, feel free to do longer!"
      ],
      "metadata": {
        "id": "LIGWf9aAFpBD"
      },
      "execution_count": null,
      "outputs": []
    },
    {
      "cell_type": "code",
      "source": [
        "# Very similar code to training non recurrent models before!\n",
        "# loss and optimizer\n",
        "criterion = nn.CrossEntropyLoss() # CrossEntropyLoss for classification!\n",
        "optimizer = torch.optim.Adam(word_rnn.parameters(), lr=learning_rate)\n",
        "scheduler = torch.optim.lr_scheduler.ExponentialLR(optimizer, gamma=0.95)\n",
        "\n",
        "# Train the model. We also will store the results of training to visualize\n",
        "word_rnn, training_curves = train_rnn(word_rnn, dataloaders, dataset_sizes,\n",
        "                                     criterion, optimizer, scheduler, num_epochs=num_epochs)"
      ],
      "metadata": {
        "colab": {
          "base_uri": "https://localhost:8080/"
        },
        "id": "xzqzmUwL8Chj",
        "outputId": "f506c50c-060f-4079-9122-0d9a226d3703"
      },
      "execution_count": null,
      "outputs": [
        {
          "output_type": "stream",
          "name": "stdout",
          "text": [
            "\n",
            "Epoch 1/10\n",
            "----------\n",
            "train Loss: 1.4985\n",
            "val   Loss: 1.3527\n",
            "test  Loss: 1.3650\n",
            "\n",
            "Epoch 2/10\n",
            "----------\n",
            "train Loss: 1.2999\n",
            "val   Loss: 1.2613\n",
            "test  Loss: 1.2710\n",
            "\n",
            "Epoch 3/10\n",
            "----------\n",
            "train Loss: 1.2216\n",
            "val   Loss: 1.2241\n",
            "test  Loss: 1.2369\n",
            "\n",
            "Epoch 4/10\n",
            "----------\n",
            "train Loss: 1.1778\n",
            "val   Loss: 1.1934\n",
            "test  Loss: 1.2065\n",
            "\n",
            "Epoch 5/10\n",
            "----------\n",
            "train Loss: 1.1466\n",
            "val   Loss: 1.1685\n",
            "test  Loss: 1.1812\n",
            "\n",
            "Epoch 6/10\n",
            "----------\n",
            "train Loss: 1.1243\n",
            "val   Loss: 1.1588\n",
            "test  Loss: 1.1717\n",
            "\n",
            "Epoch 7/10\n",
            "----------\n",
            "train Loss: 1.1059\n",
            "val   Loss: 1.1542\n",
            "test  Loss: 1.1643\n",
            "\n",
            "Epoch 8/10\n",
            "----------\n",
            "train Loss: 1.0916\n",
            "val   Loss: 1.1385\n",
            "test  Loss: 1.1477\n",
            "\n",
            "Epoch 9/10\n",
            "----------\n",
            "train Loss: 1.0787\n",
            "val   Loss: 1.1307\n",
            "test  Loss: 1.1387\n",
            "\n",
            "Epoch 10/10\n",
            "----------\n",
            "train Loss: 1.0678\n",
            "val   Loss: 1.1201\n",
            "test  Loss: 1.1248\n",
            "\n",
            "Training complete in 13m 59s\n",
            "Best val Loss: 1.120111 at epoch 9\n"
          ]
        }
      ]
    },
    {
      "cell_type": "markdown",
      "source": [
        "### Visualizing Results\n",
        "\n",
        "We can visualize our training curve just like in our previous tasks. Here it looks like we are not overfitting after 10 Epochs - we could probably train this net longer!"
      ],
      "metadata": {
        "id": "Diwgt3Fix2zg"
      }
    },
    {
      "cell_type": "code",
      "source": [
        "def plot_training_curves(training_curves,\n",
        "                         phases=['train', 'val', 'test'],\n",
        "                         metrics=['loss']):\n",
        "    epochs = list(range(len(training_curves['train_loss'])))\n",
        "    for metric in metrics:\n",
        "        plt.figure()\n",
        "        plt.title(f'Training curves - {metric}')\n",
        "        for phase in phases:\n",
        "            key = phase+'_'+metric\n",
        "            if key in training_curves:\n",
        "                plt.plot(epochs, training_curves[key])\n",
        "        plt.xlabel('epoch')\n",
        "        plt.legend(labels=phases)"
      ],
      "metadata": {
        "id": "GEWXj81iCrvE"
      },
      "execution_count": null,
      "outputs": []
    },
    {
      "cell_type": "code",
      "source": [
        "plot_training_curves(training_curves, phases=['train', 'val', 'test'])"
      ],
      "metadata": {
        "colab": {
          "base_uri": "https://localhost:8080/",
          "height": 295
        },
        "id": "BgaR32cNCxUC",
        "outputId": "9594ab29-72cb-4142-9683-a25b7f8bc5df"
      },
      "execution_count": null,
      "outputs": [
        {
          "output_type": "display_data",
          "data": {
            "text/plain": [
              "<Figure size 432x288 with 1 Axes>"
            ],
            "image/png": "[encoded data removed]"
          },
          "metadata": {
            "needs_background": "light"
          }
        }
      ]
    },
    {
      "cell_type": "markdown",
      "source": [
        "### Generating Words\n",
        "\n",
        "Below we have included a function that runs the network on a specified input sequence. This could be one letter or part of word! We have included some examples below, see what words the network will predict for you!\n",
        "\n",
        "The results of this network will be heavily determined by the random sample of sentences that was given at the beginning. The more a certain word appears in our training data, the more likely it is to be predicted. This is very similar to the word suggestion features you see on your smartphone keyboard!"
      ],
      "metadata": {
        "id": "Hjpv3rrAyUST"
      }
    },
    {
      "cell_type": "code",
      "source": [
        "def predict(model, input_letters, max_length = 50):\n",
        "    output_word = input_letters\n",
        "    tensor = input_tensor(input_letters)\n",
        "    hidden = model.initHidden()\n",
        "    current_input_sequence = tensor.to(device)\n",
        "    input = None\n",
        "\n",
        "    for i in range(current_input_sequence.size(0)):\n",
        "        current_hidden = hidden.to(device)\n",
        "        output, hidden = model(current_input_sequence[i], current_hidden)\n",
        "\n",
        "    topv, topi = output.topk(1)\n",
        "    topi = topi[0][0]\n",
        "    if topi == num_letters - 1:\n",
        "        # print(\"Most likely word was our initial letters, grab the second most likely\")\n",
        "        topv, topi = output.topk(2)\n",
        "        topi = topi[0][1]\n",
        "    letter = letters[topi]\n",
        "    output_word += letter\n",
        "    input = input_tensor(letter)\n",
        "\n",
        "    for i in range(len(input_letters), max_length):\n",
        "        current_hidden = hidden.to(device)\n",
        "        current_input = input[0].to(device)\n",
        "        output, hidden = model(current_input, current_hidden)\n",
        "        topv, topi = output.topk(1)\n",
        "        topi = topi[0][0]\n",
        "        if topi == num_letters - 1:\n",
        "            # print(\"Hit the EOS\")\n",
        "            break\n",
        "        letter = letters[topi]\n",
        "        output_word += letter\n",
        "        input = input_tensor(letter)\n",
        "    return output_word"
      ],
      "metadata": {
        "id": "h35LR8siENSg"
      },
      "execution_count": null,
      "outputs": []
    },
    {
      "cell_type": "code",
      "source": [
        "print(predict(word_rnn, \"ha\"))\n",
        "print(predict(word_rnn, \"al\"))\n",
        "print(predict(word_rnn, \"c\"))"
      ],
      "metadata": {
        "colab": {
          "base_uri": "https://localhost:8080/"
        },
        "id": "LbYyrIeVnLsE",
        "outputId": "0ca93d4b-c211-46f1-9939-e727922f55ae"
      },
      "execution_count": null,
      "outputs": [
        {
          "output_type": "stream",
          "name": "stdout",
          "text": [
            "have\n",
            "all\n",
            "can\n"
          ]
        }
      ]
    },
    {
      "cell_type": "code",
      "source": [
        "print(predict(word_rnn, \"\"))"
      ],
      "metadata": {
        "colab": {
          "base_uri": "https://localhost:8080/"
        },
        "id": "A7adK27eaODk",
        "outputId": "46a4bcb8-bb66-406f-e9ec-b59c08ec3ee9"
      },
      "execution_count": null,
      "outputs": [
        {
          "output_type": "stream",
          "name": "stdout",
          "text": [
            "and\n"
          ]
        }
      ]
    },
    {
      "cell_type": "markdown",
      "source": [
        "\n",
        "## Sentence Completion\n",
        "\n",
        "Now we will turn to the task of sentence completion! This will be relatively straightforward since we will still be working with one hot encodings of sequences of characters. There are other more sophisticated ways to encode our training samples that we will discuss later on."
      ],
      "metadata": {
        "id": "LTTaTWhPLMTN"
      }
    },
    {
      "cell_type": "code",
      "source": [
        "train_sentences = english_sentences[:1000]\n",
        "val_sentences = english_sentences[1000:2000]\n",
        "test_sentences = english_sentences[2000:3000]"
      ],
      "metadata": {
        "id": "hFSKAkfB3Mm_"
      },
      "execution_count": null,
      "outputs": []
    },
    {
      "cell_type": "markdown",
      "source": [
        "### Encoding\n",
        "\n",
        "Our encoding here is super simple. We will use the exact same function as before, just operating on an entire sentence instead of a singular word!"
      ],
      "metadata": {
        "id": "mRM0QT3Q0Wvt"
      }
    },
    {
      "cell_type": "code",
      "source": [
        "train_input_sentence = [input_tensor(sentence) for sentence in train_sentences]\n",
        "train_target_sentence = [target_tensor(sentence) for sentence in train_sentences]\n",
        "val_input_sentence = [input_tensor(sentence) for sentence in val_sentences]\n",
        "val_target_sentence = [target_tensor(sentence) for sentence in val_sentences]\n",
        "test_input_sentence = [input_tensor(sentence) for sentence in test_sentences]\n",
        "test_target_sentence = [target_tensor(sentence) for sentence in test_sentences]"
      ],
      "metadata": {
        "id": "aRNqiQSw3K79"
      },
      "execution_count": null,
      "outputs": []
    },
    {
      "cell_type": "code",
      "source": [
        "dataloaders_sentences = {'train': list(zip(train_input_sentence, train_target_sentence)),\n",
        "               'val': list(zip(val_input_sentence, val_target_sentence)),\n",
        "               'test': list(zip(test_input_sentence, test_target_sentence))}\n",
        "\n",
        "dataset_sizes_sentences = {'train': len(train_input_sentence),\n",
        "                 'val': len(train_input_sentence),\n",
        "                 'test': len(train_input_sentence)}\n",
        "print(f'dataset_sizes = {dataset_sizes_sentences}')"
      ],
      "metadata": {
        "colab": {
          "base_uri": "https://localhost:8080/"
        },
        "id": "VaJtJZJL4KYF",
        "outputId": "4a33d24a-2add-44bb-e43e-5b63f76dff22"
      },
      "execution_count": null,
      "outputs": [
        {
          "output_type": "stream",
          "name": "stdout",
          "text": [
            "dataset_sizes = {'train': 1000, 'val': 1000, 'test': 1000}\n"
          ]
        }
      ]
    },
    {
      "cell_type": "markdown",
      "source": [
        "### RNN Definition\n",
        "\n",
        "Additionally, we can use the exact same architecture! We will just use a larger hidden layer since our sequences will be longer."
      ],
      "metadata": {
        "id": "qAwNSS5M0qhT"
      }
    },
    {
      "cell_type": "code",
      "source": [
        "# Bigger rnn\n",
        "sentences_rnn = RNN(num_letters, 256, num_letters).to(device)"
      ],
      "metadata": {
        "id": "Dz9h0YlQ4fhG"
      },
      "execution_count": null,
      "outputs": []
    },
    {
      "cell_type": "markdown",
      "source": [
        "### Training\n",
        "\n",
        "Here we will train for another 10 Epochs as it takes a very long time to train recurrent models. Increasing the number of epochs should increase the performance of the model."
      ],
      "metadata": {
        "id": "LDqLqS1k0sUD"
      }
    },
    {
      "cell_type": "code",
      "source": [
        "# This should look very similar to our previous tasks!\n",
        "learning_rate = 0.001\n",
        "num_epochs = 10 # We are only doing 10 Epochs here to save time, feel free to do longer!"
      ],
      "metadata": {
        "id": "QZhztvmL1KLZ"
      },
      "execution_count": null,
      "outputs": []
    },
    {
      "cell_type": "code",
      "source": [
        "# loss and optimizer\n",
        "criterion = nn.CrossEntropyLoss() # CrossEntropyLoss for classification!\n",
        "optimizer = torch.optim.Adam(sentences_rnn.parameters(), lr=learning_rate)\n",
        "scheduler = torch.optim.lr_scheduler.ExponentialLR(optimizer, gamma=0.95)\n",
        "\n",
        "# Train the model. We also will store the results of training to visualize\n",
        "sentences_rnn, training_curves_sentences = train_rnn(sentences_rnn, dataloaders_sentences, dataset_sizes,\n",
        "                                     criterion, optimizer, scheduler, num_epochs=num_epochs)"
      ],
      "metadata": {
        "colab": {
          "base_uri": "https://localhost:8080/"
        },
        "id": "doZ1fwqN4r-m",
        "outputId": "6860a04f-1902-4d91-b0b8-8ad83dac5ce1"
      },
      "execution_count": null,
      "outputs": [
        {
          "output_type": "stream",
          "name": "stdout",
          "text": [
            "\n",
            "Epoch 1/10\n",
            "----------\n",
            "train Loss: 0.1212\n",
            "val   Loss: 0.4222\n",
            "test  Loss: 0.4225\n",
            "\n",
            "Epoch 2/10\n",
            "----------\n",
            "train Loss: 0.1024\n",
            "val   Loss: 0.4019\n",
            "test  Loss: 0.4031\n",
            "\n",
            "Epoch 3/10\n",
            "----------\n",
            "train Loss: 0.0973\n",
            "val   Loss: 0.3902\n",
            "test  Loss: 0.3916\n",
            "\n",
            "Epoch 4/10\n",
            "----------\n",
            "train Loss: 0.0936\n",
            "val   Loss: 0.3799\n",
            "test  Loss: 0.3814\n",
            "\n",
            "Epoch 5/10\n",
            "----------\n",
            "train Loss: 0.0904\n",
            "val   Loss: 0.3738\n",
            "test  Loss: 0.3752\n",
            "\n",
            "Epoch 6/10\n",
            "----------\n",
            "train Loss: 0.0875\n",
            "val   Loss: 0.3711\n",
            "test  Loss: 0.3727\n",
            "\n",
            "Epoch 7/10\n",
            "----------\n",
            "train Loss: 0.0848\n",
            "val   Loss: 0.3679\n",
            "test  Loss: 0.3694\n",
            "\n",
            "Epoch 8/10\n",
            "----------\n",
            "train Loss: 0.0822\n",
            "val   Loss: 0.3654\n",
            "test  Loss: 0.3667\n",
            "\n",
            "Epoch 9/10\n",
            "----------\n",
            "train Loss: 0.0796\n",
            "val   Loss: 0.3634\n",
            "test  Loss: 0.3651\n",
            "\n",
            "Epoch 10/10\n",
            "----------\n",
            "train Loss: 0.0772\n",
            "val   Loss: 0.3605\n",
            "test  Loss: 0.3626\n",
            "\n",
            "Training complete in 6m 24s\n",
            "Best val Loss: 0.360483 at epoch 9\n"
          ]
        }
      ]
    },
    {
      "cell_type": "markdown",
      "source": [
        "### Visualizing Results"
      ],
      "metadata": {
        "id": "xYQTMMVX03v7"
      }
    },
    {
      "cell_type": "code",
      "source": [
        "plot_training_curves(training_curves_sentences, phases=['train', 'val', 'test'])"
      ],
      "metadata": {
        "colab": {
          "base_uri": "https://localhost:8080/",
          "height": 295
        },
        "id": "w-FABBjpC6JV",
        "outputId": "097a983a-5779-44f7-b749-e81d3c118f8c"
      },
      "execution_count": null,
      "outputs": [
        {
          "output_type": "display_data",
          "data": {
            "text/plain": [
              "<Figure size 432x288 with 1 Axes>"
            ],
            "image/png": "[encoded data removed]"
          },
          "metadata": {
            "needs_background": "light"
          }
        }
      ]
    },
    {
      "cell_type": "markdown",
      "source": [
        "### Generating Sentences\n",
        "\n",
        "We can use the exact same function as before with our new model in order to generate sentences. Try some of your own examples below!"
      ],
      "metadata": {
        "id": "DU6G9V4505v-"
      }
    },
    {
      "cell_type": "code",
      "source": [
        "print(predict(sentences_rnn, \"I ate a \"))"
      ],
      "metadata": {
        "colab": {
          "base_uri": "https://localhost:8080/"
        },
        "id": "82X4oC3S7aHo",
        "outputId": "204e77cb-e0a3-4851-cf29-2d0654d17868"
      },
      "execution_count": null,
      "outputs": [
        {
          "output_type": "stream",
          "name": "stdout",
          "text": [
            "I ate a los .\n"
          ]
        }
      ]
    },
    {
      "cell_type": "code",
      "source": [
        "print(predict(sentences_rnn, \"What is\"))"
      ],
      "metadata": {
        "colab": {
          "base_uri": "https://localhost:8080/"
        },
        "id": "yIyXR6cMQzDP",
        "outputId": "39ab5c0c-5977-4c12-91fa-e2a85d57ae7b"
      },
      "execution_count": null,
      "outputs": [
        {
          "output_type": "stream",
          "name": "stdout",
          "text": [
            "What is my for the shere .\n"
          ]
        }
      ]
    },
    {
      "cell_type": "code",
      "source": [
        "print(predict(sentences_rnn, \"My name is\"))"
      ],
      "metadata": {
        "colab": {
          "base_uri": "https://localhost:8080/"
        },
        "id": "ifIHKZgxQ3mt",
        "outputId": "bda5ed6c-33d4-4761-e374-87922323d077"
      },
      "execution_count": null,
      "outputs": [
        {
          "output_type": "stream",
          "name": "stdout",
          "text": [
            "My name is the reand .\n"
          ]
        }
      ]
    },
    {
      "cell_type": "code",
      "source": [
        "print(predict(sentences_rnn, \"Ha\"))"
      ],
      "metadata": {
        "id": "y0QadAaXQ8C_",
        "outputId": "7328d70d-a669-4798-94fe-d329ab329eae",
        "colab": {
          "base_uri": "https://localhost:8080/"
        }
      },
      "execution_count": null,
      "outputs": [
        {
          "output_type": "stream",
          "name": "stdout",
          "text": [
            "Hat you den't le the thing this .\n"
          ]
        }
      ]
    },
    {
      "cell_type": "code",
      "source": [
        "print(predict(sentences_rnn, \"A\"))"
      ],
      "metadata": {
        "id": "WwGefkBg4NLx",
        "outputId": "5ee7d2ef-5175-4eb3-8b79-98557a6c8336",
        "colab": {
          "base_uri": "https://localhost:8080/"
        }
      },
      "execution_count": null,
      "outputs": [
        {
          "output_type": "stream",
          "name": "stdout",
          "text": [
            "Ao mand mary .\n"
          ]
        }
      ]
    },
    {
      "cell_type": "markdown",
      "source": [
        "## Conclusions\n",
        "\n",
        "In this notebook we have seen how to apply our powerful deep neural networks to different sequence based prediction tasks. We can see from the sentence completion results that our network does not produce super intelligent results. In future notebooks we will examine ways to improve our models and tackling more challenging tasks such as machine translation.\n",
        "\n",
        "Some of the methods to increase performance are: Larger datasets, increased training time, more intelligent word level embeddings (word2vec), and more sophisticated deep neural networks (LSTMs and Transformers)."
      ],
      "metadata": {
        "id": "Mr3BkX8z1WNl"
      }
    }
  ]
}