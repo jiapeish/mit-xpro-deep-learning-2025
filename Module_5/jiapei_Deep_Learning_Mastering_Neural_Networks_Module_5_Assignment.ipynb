{
  "nbformat": 4,
  "nbformat_minor": 0,
  "metadata": {
    "colab": {
      "provenance": [],
      "gpuType": "T4"
    },
    "kernelspec": {
      "name": "python3",
      "display_name": "Python 3"
    },
    "language_info": {
      "name": "python"
    },
    "accelerator": "GPU"
  },
  "cells": [
    {
      "cell_type": "markdown",
      "source": [
        "# Deep Learning: Mastering Neural Networks - Module 5 Assignment: LSTM Sentence Completion\n",
        "\n",
        "Now that we have a framework for working with sequential data in PyTorch - we would like to improve our sentence completion model by introducing a more sophisticated dataset encoding and neural network architecture.\n",
        "\n",
        "In this assignment, we would like you to implement an LSTM model that contains 2 hidden layers and completes sentences at a word level encoding instead of character. We will provide code for cleaning and preparing the data as well as some helper functions so that you can complete the task.\n",
        "\n",
        "Note: This LSTM can take a long time to train. Try using a small number of epochs or a small dataset(~10 samples) to verify your network can train properly before using the full dataset and a larger number of Epochs!"
      ],
      "metadata": {
        "id": "aZVJ8gUn1RR9"
      }
    },
    {
      "cell_type": "markdown",
      "source": [
        "## Dataset and Encoding\n",
        "\n",
        "We will use the same dataset as the last notebook, however we will now use the spanish sentences as the targets for our sequence!"
      ],
      "metadata": {
        "id": "cu4mucQioGZA"
      }
    },
    {
      "cell_type": "code",
      "source": [
        "from io import open\n",
        "import unicodedata\n",
        "import string\n",
        "import random\n",
        "import re\n",
        "\n",
        "import torch\n",
        "import torch.nn as nn\n",
        "import numpy as np\n",
        "from torch.utils.data import Subset\n",
        "from torch.utils.data import TensorDataset, DataLoader\n",
        "import time, copy\n",
        "import matplotlib.pyplot as plt\n",
        "import sklearn.metrics as metrics\n",
        "\n",
        "device = torch.device(\"cuda\" if torch.cuda.is_available() else \"cpu\")\n",
        "print(device)"
      ],
      "metadata": {
        "id": "yrzZRul42zJs",
        "colab": {
          "base_uri": "https://localhost:8080/"
        },
        "outputId": "fcfea02f-52fc-4ca2-884c-2e4f223a3e72"
      },
      "execution_count": 64,
      "outputs": [
        {
          "output_type": "stream",
          "name": "stdout",
          "text": [
            "cuda\n"
          ]
        }
      ]
    },
    {
      "cell_type": "code",
      "source": [
        "# Here we download and unzip the text file that contains all of our translated phrases\n",
        "!rm spa-eng.zip _about.txt spa.txt\n",
        "!wget https://www.manythings.org/anki/spa-eng.zip\n",
        "!unzip spa-eng.zip\n",
        "!ls"
      ],
      "metadata": {
        "id": "FoRgk40z3kJk",
        "colab": {
          "base_uri": "https://localhost:8080/"
        },
        "outputId": "3aa05ebe-3d55-4f00-8ba0-8b5ed741df34"
      },
      "execution_count": 24,
      "outputs": [
        {
          "output_type": "stream",
          "name": "stdout",
          "text": [
            "--2025-07-27 03:12:51--  https://www.manythings.org/anki/spa-eng.zip\n",
            "Resolving www.manythings.org (www.manythings.org)... 173.254.30.110\n",
            "Connecting to www.manythings.org (www.manythings.org)|173.254.30.110|:443... connected.\n",
            "HTTP request sent, awaiting response... 200 OK\n",
            "Length: 5453910 (5.2M) [application/zip]\n",
            "Saving to: ‘spa-eng.zip’\n",
            "\n",
            "spa-eng.zip         100%[===================>]   5.20M  2.49MB/s    in 2.1s    \n",
            "\n",
            "2025-07-27 03:12:54 (2.49 MB/s) - ‘spa-eng.zip’ saved [5453910/5453910]\n",
            "\n",
            "Archive:  spa-eng.zip\n",
            "  inflating: _about.txt              \n",
            "  inflating: spa.txt                 \n",
            "_about.txt  sample_data  spa-eng.zip  spa.txt\n"
          ]
        }
      ]
    },
    {
      "cell_type": "code",
      "source": [
        "# Helper functions combined from PyTorch tutorial: https://pytorch.org/tutorials/intermediate/seq2seq_translation_tutorial.html\n",
        "\n",
        "# Turn a Unicode string to plain ASCII, thanks to\n",
        "# https://stackoverflow.com/a/518232/2809427\n",
        "def unicodeToAscii(s):\n",
        "    return ''.join(\n",
        "        c for c in unicodedata.normalize('NFD', s)\n",
        "        if unicodedata.category(c) != 'Mn'\n",
        "    )\n",
        "\n",
        "# Lowercase, trim, and remove non-letter characters\n",
        "# This is important because we want all words to be formatted the same similar\n",
        "# to our image normalization\n",
        "def normalizeString(s):\n",
        "    s = unicodeToAscii(s.lower().strip())\n",
        "    s = re.sub(r\"([.!?])\", r\"\", s)\n",
        "    s = re.sub(r\"[^a-zA-Z.!'?]+\", r\" \", s)\n",
        "    return s\n",
        "\n",
        "def parse_data(filename):\n",
        "    # Read the file and split into lines\n",
        "    lines = open(filename, encoding='utf-8').read().strip().split('\\n')\n",
        "\n",
        "    # Split every line into pairs and normalize\n",
        "    pairs = [[normalizeString(s) for s in l.split('\\t')] for l in lines]\n",
        "    # Throw out the attribution as it is not a part of the data\n",
        "    pairs = [[pair[0], pair[1]] for pair in pairs]\n",
        "\n",
        "    return pairs"
      ],
      "metadata": {
        "id": "66lR-Qyl8BYs"
      },
      "execution_count": 25,
      "outputs": []
    },
    {
      "cell_type": "code",
      "source": [
        "pairs = parse_data(\"spa.txt\")\n",
        "# We only want the english sentences because we aren't translating\n",
        "english_sentences = [pair[0] for pair in pairs]\n",
        "# Shuffle our dataset\n",
        "random.shuffle(english_sentences)\n",
        "print(\"Number of English sentences:\", len(english_sentences))"
      ],
      "metadata": {
        "id": "Ti0WFHKX9-k-",
        "colab": {
          "base_uri": "https://localhost:8080/"
        },
        "outputId": "03c0b2f8-7d4e-4019-ae35-314f5094361b"
      },
      "execution_count": 26,
      "outputs": [
        {
          "output_type": "stream",
          "name": "stdout",
          "text": [
            "Number of English sentences: 142511\n"
          ]
        }
      ]
    },
    {
      "cell_type": "code",
      "source": [
        "# Since we already shuffled our dataset, grab a random sampling of sentences for our train, val, and test\n",
        "# Here we are using a small number of Sentences to ease training time. Feel free to use more\n",
        "train_sentences = english_sentences[:1000]\n",
        "val_sentences = english_sentences[1000:2000]\n",
        "test_sentences = english_sentences[2000:3000]\n",
        "\n",
        "# Using this function we will create a dictionary to use for our one hot encoding vectors\n",
        "def add_words_to_dict(word_dictionary, word_list, sentences):\n",
        "    for sentence in sentences:\n",
        "        for word in sentence.split(\" \"):\n",
        "            if word in word_dictionary:\n",
        "                continue\n",
        "            else:\n",
        "                word_list.append(word)\n",
        "                word_dictionary[word] = len(word_list)-1\n",
        "\n",
        "english_dictionary = {}\n",
        "english_list = []\n",
        "add_words_to_dict(english_dictionary, english_list, train_sentences)\n",
        "add_words_to_dict(english_dictionary, english_list, val_sentences)\n",
        "add_words_to_dict(english_dictionary, english_list, test_sentences)\n",
        "\n"
      ],
      "metadata": {
        "id": "BngUGRRE-8P0"
      },
      "execution_count": 27,
      "outputs": []
    },
    {
      "cell_type": "code",
      "source": [
        "print(len(english_dictionary))"
      ],
      "metadata": {
        "colab": {
          "base_uri": "https://localhost:8080/"
        },
        "id": "Wr11AA0z1Tqw",
        "outputId": "f5edd199-021c-4e80-ac32-e46402bb64d5"
      },
      "execution_count": 28,
      "outputs": [
        {
          "output_type": "stream",
          "name": "stdout",
          "text": [
            "2748\n"
          ]
        }
      ]
    },
    {
      "cell_type": "code",
      "source": [
        "print(len(english_list))"
      ],
      "metadata": {
        "colab": {
          "base_uri": "https://localhost:8080/"
        },
        "id": "KYg2w7Q61YLt",
        "outputId": "2f4e9b43-0ab3-443e-f5e8-e6940f77483e"
      },
      "execution_count": 29,
      "outputs": [
        {
          "output_type": "stream",
          "name": "stdout",
          "text": [
            "2748\n"
          ]
        }
      ]
    },
    {
      "cell_type": "markdown",
      "source": [
        "### Encoding\n",
        "\n",
        "We will encode our sequences in a very similar format to the previous tasks. However, our one-hot encoding vectors will encode over a dictionary of words instead of specific characters. This will result in a larger one hot encoding vector but a shorter overall sequence length for each sentence."
      ],
      "metadata": {
        "id": "pszv87RStebQ"
      }
    },
    {
      "cell_type": "code",
      "source": [
        "# Now make our training samples:\n",
        "def create_input_tensor(sentence, word_dictionary):\n",
        "    words = sentence.split(\" \")\n",
        "    tensor = torch.zeros(len(words), 1, len(word_dictionary)+1)\n",
        "    for idx in range(len(words)):\n",
        "        word = words[idx]\n",
        "        tensor[idx][0][word_dictionary[word]] = 1\n",
        "    return tensor\n",
        "\n",
        "def create_target_tensor(sentence, word_dictionary):\n",
        "    words = sentence.split(\" \")\n",
        "    tensor = torch.zeros(len(words), 1, len(word_dictionary)+1)\n",
        "    for idx in range(1, len(words)):\n",
        "        word = words[idx]\n",
        "        if word not in word_dictionary:\n",
        "            print(\"Error: This word is not in our dataset - using a zeros tensor\")\n",
        "            continue\n",
        "        tensor[idx-1][0][word_dictionary[word]] = 1\n",
        "    tensor[len(words)-1][0][len(word_dictionary)] = 1 # EOS\n",
        "    return tensor\n",
        "\n",
        "\n",
        "train_tensors = [(create_input_tensor(sentence, english_dictionary), create_target_tensor(sentence, english_dictionary)) for sentence in train_sentences]\n",
        "val_tensors = [(create_input_tensor(sentence, english_dictionary), create_target_tensor(sentence, english_dictionary)) for sentence in val_sentences]\n",
        "test_tensors = [(create_input_tensor(sentence, english_dictionary), create_target_tensor(sentence, english_dictionary)) for sentence in test_sentences]"
      ],
      "metadata": {
        "id": "3MLDsB9KSYvQ"
      },
      "execution_count": 44,
      "outputs": []
    },
    {
      "cell_type": "code",
      "source": [
        "def tensor_to_sentence(word_list, tensor):\n",
        "    sentence = \"\"\n",
        "    for i in range(tensor.size(0)):\n",
        "        topv, topi = tensor[i].topk(1)\n",
        "        if topi[0][0] == len(word_list):\n",
        "            sentence += \"<EOS>\"\n",
        "            break\n",
        "        sentence += word_list[topi[0][0]]\n",
        "        sentence += \" \"\n",
        "    return sentence\n",
        "\n",
        "print(\"This code helps visualize which words represent an input_tensor and its corresponding target_tensor!\")\n",
        "examples_to_show = 6\n",
        "count = 1\n",
        "for input, target in train_tensors:\n",
        "    print(tensor_to_sentence(english_list, input))\n",
        "    print(tensor_to_sentence(english_list, target))\n",
        "    count +=1\n",
        "    if count > examples_to_show:\n",
        "        break\n"
      ],
      "metadata": {
        "id": "AnIg_qVDQhy0",
        "colab": {
          "base_uri": "https://localhost:8080/"
        },
        "outputId": "22b27213-ffd1-4a17-de26-4842fa516464"
      },
      "execution_count": 45,
      "outputs": [
        {
          "output_type": "stream",
          "name": "stdout",
          "text": [
            "This code helps visualize which words represent an input_tensor and its corresponding target_tensor!\n",
            "he's getting along well with all of his classmates \n",
            "getting along well with all of his classmates <EOS>\n",
            "you could have omitted that last phrase in your letter \n",
            "could have omitted that last phrase in your letter <EOS>\n",
            "he finished school in march \n",
            "finished school in march <EOS>\n",
            "please forgive me for not having written sooner \n",
            "forgive me for not having written sooner <EOS>\n",
            "he married my cousin \n",
            "married my cousin <EOS>\n",
            "have you ever sewed on a button \n",
            "you ever sewed on a button <EOS>\n"
          ]
        }
      ]
    },
    {
      "cell_type": "code",
      "source": [
        "# Let's look at a few sentence encodings, to see what those look like:\n",
        "for i in range(6):\n",
        "    print(train_sentences[i], \"[encode as]\", train_tensors[i][0])"
      ],
      "metadata": {
        "id": "ohr0XRAnl1Xx",
        "colab": {
          "base_uri": "https://localhost:8080/"
        },
        "outputId": "88926618-ac9a-43ac-9a90-b09c7372e463"
      },
      "execution_count": 46,
      "outputs": [
        {
          "output_type": "stream",
          "name": "stdout",
          "text": [
            "he's getting along well with all of his classmates [encode as] tensor([[[1., 0., 0.,  ..., 0., 0., 0.]],\n",
            "\n",
            "        [[0., 1., 0.,  ..., 0., 0., 0.]],\n",
            "\n",
            "        [[0., 0., 1.,  ..., 0., 0., 0.]],\n",
            "\n",
            "        ...,\n",
            "\n",
            "        [[0., 0., 0.,  ..., 0., 0., 0.]],\n",
            "\n",
            "        [[0., 0., 0.,  ..., 0., 0., 0.]],\n",
            "\n",
            "        [[0., 0., 0.,  ..., 0., 0., 0.]]])\n",
            "you could have omitted that last phrase in your letter [encode as] tensor([[[0., 0., 0.,  ..., 0., 0., 0.]],\n",
            "\n",
            "        [[0., 0., 0.,  ..., 0., 0., 0.]],\n",
            "\n",
            "        [[0., 0., 0.,  ..., 0., 0., 0.]],\n",
            "\n",
            "        ...,\n",
            "\n",
            "        [[0., 0., 0.,  ..., 0., 0., 0.]],\n",
            "\n",
            "        [[0., 0., 0.,  ..., 0., 0., 0.]],\n",
            "\n",
            "        [[0., 0., 0.,  ..., 0., 0., 0.]]])\n",
            "he finished school in march [encode as] tensor([[[0., 0., 0.,  ..., 0., 0., 0.]],\n",
            "\n",
            "        [[0., 0., 0.,  ..., 0., 0., 0.]],\n",
            "\n",
            "        [[0., 0., 0.,  ..., 0., 0., 0.]],\n",
            "\n",
            "        [[0., 0., 0.,  ..., 0., 0., 0.]],\n",
            "\n",
            "        [[0., 0., 0.,  ..., 0., 0., 0.]]])\n",
            "please forgive me for not having written sooner [encode as] tensor([[[0., 0., 0.,  ..., 0., 0., 0.]],\n",
            "\n",
            "        [[0., 0., 0.,  ..., 0., 0., 0.]],\n",
            "\n",
            "        [[0., 0., 0.,  ..., 0., 0., 0.]],\n",
            "\n",
            "        ...,\n",
            "\n",
            "        [[0., 0., 0.,  ..., 0., 0., 0.]],\n",
            "\n",
            "        [[0., 0., 0.,  ..., 0., 0., 0.]],\n",
            "\n",
            "        [[0., 0., 0.,  ..., 0., 0., 0.]]])\n",
            "he married my cousin [encode as] tensor([[[0., 0., 0.,  ..., 0., 0., 0.]],\n",
            "\n",
            "        [[0., 0., 0.,  ..., 0., 0., 0.]],\n",
            "\n",
            "        [[0., 0., 0.,  ..., 0., 0., 0.]],\n",
            "\n",
            "        [[0., 0., 0.,  ..., 0., 0., 0.]]])\n",
            "have you ever sewed on a button [encode as] tensor([[[0., 0., 0.,  ..., 0., 0., 0.]],\n",
            "\n",
            "        [[0., 0., 0.,  ..., 0., 0., 0.]],\n",
            "\n",
            "        [[0., 0., 0.,  ..., 0., 0., 0.]],\n",
            "\n",
            "        ...,\n",
            "\n",
            "        [[0., 0., 0.,  ..., 0., 0., 0.]],\n",
            "\n",
            "        [[0., 0., 0.,  ..., 0., 0., 0.]],\n",
            "\n",
            "        [[0., 0., 0.,  ..., 0., 0., 0.]]])\n"
          ]
        }
      ]
    },
    {
      "cell_type": "code",
      "source": [
        "dataloaders = {'train': train_tensors,\n",
        "               'val': val_tensors,\n",
        "               'test': test_tensors}\n",
        "\n",
        "dataset_sizes = {'train': len(train_tensors),\n",
        "                 'val': len(val_tensors),\n",
        "                 'test': len(test_tensors)}\n",
        "print(f'dataset_sizes = {dataset_sizes}')"
      ],
      "metadata": {
        "id": "3SjmOheE6bcn",
        "colab": {
          "base_uri": "https://localhost:8080/"
        },
        "outputId": "2a57372e-c1f6-4ec2-a3b3-8c3e9dd85976"
      },
      "execution_count": 47,
      "outputs": [
        {
          "output_type": "stream",
          "name": "stdout",
          "text": [
            "dataset_sizes = {'train': 1000, 'val': 1000, 'test': 1000}\n"
          ]
        }
      ]
    },
    {
      "cell_type": "markdown",
      "source": [
        "### LSTM Definition\n",
        "\n",
        "Fill in your model in this section - a skeleton has been provided!\n"
      ],
      "metadata": {
        "id": "dKtltT2-oUuo"
      }
    },
    {
      "cell_type": "code",
      "source": [
        "class LSTM(nn.Module):\n",
        "    def __init__(self, input_size, hidden_size, output_size):\n",
        "        super(LSTM, self).__init__()\n",
        "        # TODO\n",
        "        ## I've referenced these documents:\n",
        "        ## 1. https://docs.pytorch.org/docs/stable/generated/torch.nn.LSTM.html\n",
        "        ## 2. https://docs.pytorch.org/tutorials/beginner/nlp/sequence_models_tutorial.html\n",
        "        ## 3. https://www.geeksforgeeks.org/deep-learning/long-short-term-memory-networks-using-pytorch/\n",
        "        self.hidden_size = hidden_size\n",
        "        self.lstm = nn.LSTM(input_size, hidden_size, num_layers=2, dropout=0.05)\n",
        "        self.fc = nn.Linear(hidden_size, output_size)\n",
        "\n",
        "    def forward(self, input, hidden):\n",
        "        # TODO\n",
        "        output, hidden = self.lstm(input, hidden)\n",
        "        output = self.fc(output)\n",
        "        return output, hidden\n",
        "\n",
        "    def initHidden(self):\n",
        "        # We need two hidden layers because of our two layered lstm!\n",
        "        # Your model should be able to use this implementation of initHidden()\n",
        "        return (torch.zeros(2, self.hidden_size).to(device), torch.zeros(2, self.hidden_size).to(device))"
      ],
      "metadata": {
        "id": "bYLj4Qvzxldp"
      },
      "execution_count": 107,
      "outputs": []
    },
    {
      "cell_type": "code",
      "source": [
        "# TODO\n",
        "num_words = len(english_list) + 1 # Need to add 1 for the End Tag\n",
        "lstm = LSTM(num_words, 128, num_words).to(device)"
      ],
      "metadata": {
        "id": "DoQcZxUF-QBY"
      },
      "execution_count": 101,
      "outputs": []
    },
    {
      "cell_type": "code",
      "source": [
        "def train_lstm(model, dataloaders, dataset_sizes, criterion, optimizer, scheduler, num_epochs=25):\n",
        "    since = time.time()\n",
        "\n",
        "    best_model_wts = copy.deepcopy(model.state_dict()) # keep the best weights stored separately\n",
        "    best_loss = np.inf\n",
        "    best_epoch = 0\n",
        "\n",
        "    # Each epoch has a training, validation, and test phase\n",
        "    phases = ['train', 'val', 'test']\n",
        "\n",
        "    # Keep track of how loss evolves during training\n",
        "    training_curves = {}\n",
        "    for phase in phases:\n",
        "        training_curves[phase+'_loss'] = []\n",
        "\n",
        "    for epoch in range(num_epochs):\n",
        "        print(f'\\nEpoch {epoch+1}/{num_epochs}')\n",
        "        print('-' * 10)\n",
        "\n",
        "        for phase in phases:\n",
        "            if phase == 'train':\n",
        "                model.train()  # Set model to training mode\n",
        "            else:\n",
        "                model.eval()   # Set model to evaluate mode\n",
        "\n",
        "            running_loss = 0.0\n",
        "\n",
        "            # Iterate over data\n",
        "            for input_sequence, target_sequence in dataloaders[phase]:\n",
        "                # Now Iterate through each sequence here:\n",
        "\n",
        "                hidden = model.initHidden() # Start with a fresh hidden state\n",
        "\n",
        "                current_input_sequence = input_sequence.to(device)\n",
        "                current_target_sequence = target_sequence.to(device)\n",
        "\n",
        "                # zero the parameter gradients\n",
        "                optimizer.zero_grad()\n",
        "\n",
        "                # forward\n",
        "                with torch.set_grad_enabled(phase == 'train'):\n",
        "                    loss = 0\n",
        "                    # Make a prediction for each element in the sequence,\n",
        "                    # keeping track of the hidden state along the way\n",
        "                    for i in range(current_input_sequence.size(0)):\n",
        "                        # Need to be clever with how we transfer our hidden layers to the device\n",
        "                        current_hidden = (hidden[0].to(device), hidden[1].to(device))\n",
        "                        output, hidden = model(current_input_sequence[i], current_hidden)\n",
        "                        l = criterion(output, current_target_sequence[i])\n",
        "                        loss += l\n",
        "\n",
        "                    # backward + update weights only if in training phase at the end of a sequence\n",
        "                    if phase == 'train':\n",
        "                        loss.backward()\n",
        "                        optimizer.step()\n",
        "\n",
        "                # statistics\n",
        "                running_loss += loss.item() / current_input_sequence.size(0)\n",
        "\n",
        "            if phase == 'train':\n",
        "                scheduler.step()\n",
        "\n",
        "            epoch_loss = running_loss / dataset_sizes[phase]\n",
        "            training_curves[phase+'_loss'].append(epoch_loss)\n",
        "\n",
        "            print(f'{phase:5} Loss: {epoch_loss:.4f}')\n",
        "\n",
        "            # deep copy the model if it's the best loss\n",
        "            # Note: We are using the train loss here to determine our best model\n",
        "            if phase == 'train' and epoch_loss < best_loss:\n",
        "              best_epoch = epoch\n",
        "              best_loss = epoch_loss\n",
        "              best_model_wts = copy.deepcopy(model.state_dict())\n",
        "\n",
        "    time_elapsed = time.time() - since\n",
        "    print(f'\\nTraining complete in {time_elapsed // 60:.0f}m {time_elapsed % 60:.0f}s')\n",
        "    print(f'Best val Loss: {best_loss:4f} at epoch {best_epoch}')\n",
        "\n",
        "    # load best model weights\n",
        "    model.load_state_dict(best_model_wts)\n",
        "\n",
        "    return model, training_curves"
      ],
      "metadata": {
        "id": "HRR_nA2ofl8t"
      },
      "execution_count": 102,
      "outputs": []
    },
    {
      "cell_type": "code",
      "source": [
        "# We define our predict function here so that we can run some predictions in the same cell as our training!\n",
        "def predict(model, word_dictionary, word_list, input_sentence, max_length = 20):\n",
        "    output_sentence = input_sentence + \" \"\n",
        "    tensor = create_input_tensor(input_sentence, word_dictionary)\n",
        "    hidden = model.initHidden()\n",
        "    current_input_sequence = tensor.to(device)\n",
        "    input = None\n",
        "\n",
        "    for i in range(current_input_sequence.size(0)):\n",
        "        current_hidden = (hidden[0].to(device), hidden[1].to(device))\n",
        "        output, hidden = model(current_input_sequence[i], current_hidden)\n",
        "\n",
        "    topv, topi = output.topk(1)\n",
        "    topi = topi[0][0]\n",
        "    if topi ==  len(word_dictionary):\n",
        "        topv, topi = output.topk(2)\n",
        "        topi = topi[0][1]\n",
        "    word = word_list[topi]\n",
        "    output_sentence += word\n",
        "    output_sentence += \" \"\n",
        "    input = create_input_tensor(word, word_dictionary)\n",
        "\n",
        "    for i in range(len(input_sentence.split(\" \")), max_length):\n",
        "        current_hidden = (hidden[0].to(device), hidden[1].to(device))\n",
        "        current_input = input[0].to(device)\n",
        "        output, hidden = model(current_input, current_hidden)\n",
        "        topv, topi = output.topk(1)\n",
        "        topi = topi[0][0]\n",
        "        if topi == len(word_dictionary):\n",
        "            # print(\"Hit the EOS\")\n",
        "            break\n",
        "        word = word_list[topi]\n",
        "        output_sentence += word\n",
        "        output_sentence += \" \"\n",
        "        input = create_input_tensor(word, word_dictionary)\n",
        "    return output_sentence"
      ],
      "metadata": {
        "id": "h35LR8siENSg"
      },
      "execution_count": 103,
      "outputs": []
    },
    {
      "cell_type": "code",
      "source": [
        "# TODO: Fill in the necessary code to execute the training function\n",
        "\"\"\"\n",
        "Your Code Below:\n",
        "\"\"\"\n",
        "\n",
        "learning_rate = 0.001\n",
        "num_epochs = 10\n",
        "# loss and optimizer\n",
        "criterion = nn.CrossEntropyLoss() # CrossEntropyLoss for classification!\n",
        "optimizer = torch.optim.Adam(lstm.parameters(), lr=learning_rate, weight_decay=0.001)\n",
        "scheduler = torch.optim.lr_scheduler.ExponentialLR(optimizer, gamma=0.95)\n",
        "\n",
        "\n",
        "\n",
        "lstm, training_curves = train_lstm(lstm, dataloaders, dataset_sizes,\n",
        "                                     criterion, optimizer, scheduler, num_epochs=num_epochs)\n",
        "\n",
        "print(predict(lstm, english_dictionary, english_list, \"what is\"))\n",
        "print(predict(lstm, english_dictionary, english_list, \"my name\"))\n",
        "print(predict(lstm, english_dictionary, english_list, \"how are\"))\n",
        "print(predict(lstm, english_dictionary, english_list, \"hi\"))\n",
        "print(predict(lstm, english_dictionary, english_list, \"choose\"))"
      ],
      "metadata": {
        "id": "xzqzmUwL8Chj",
        "colab": {
          "base_uri": "https://localhost:8080/"
        },
        "outputId": "0b3fcdba-5436-4fc9-b356-c4cd5c862f73"
      },
      "execution_count": 104,
      "outputs": [
        {
          "output_type": "stream",
          "name": "stdout",
          "text": [
            "\n",
            "Epoch 1/10\n",
            "----------\n",
            "train Loss: 5.9372\n",
            "val   Loss: 5.7093\n",
            "test  Loss: 5.6892\n",
            "\n",
            "Epoch 2/10\n",
            "----------\n",
            "train Loss: 5.4171\n",
            "val   Loss: 5.6688\n",
            "test  Loss: 5.6570\n",
            "\n",
            "Epoch 3/10\n",
            "----------\n",
            "train Loss: 5.1567\n",
            "val   Loss: 5.6892\n",
            "test  Loss: 5.6840\n",
            "\n",
            "Epoch 4/10\n",
            "----------\n",
            "train Loss: 4.9041\n",
            "val   Loss: 5.6764\n",
            "test  Loss: 5.6746\n",
            "\n",
            "Epoch 5/10\n",
            "----------\n",
            "train Loss: 4.6453\n",
            "val   Loss: 5.6662\n",
            "test  Loss: 5.6616\n",
            "\n",
            "Epoch 6/10\n",
            "----------\n",
            "train Loss: 4.3968\n",
            "val   Loss: 5.6790\n",
            "test  Loss: 5.6697\n",
            "\n",
            "Epoch 7/10\n",
            "----------\n",
            "train Loss: 4.1804\n",
            "val   Loss: 5.8009\n",
            "test  Loss: 5.7858\n",
            "\n",
            "Epoch 8/10\n",
            "----------\n",
            "train Loss: 3.9918\n",
            "val   Loss: 5.8497\n",
            "test  Loss: 5.8297\n",
            "\n",
            "Epoch 9/10\n",
            "----------\n",
            "train Loss: 3.8258\n",
            "val   Loss: 5.9043\n",
            "test  Loss: 5.8854\n",
            "\n",
            "Epoch 10/10\n",
            "----------\n",
            "train Loss: 3.6744\n",
            "val   Loss: 5.8407\n",
            "test  Loss: 5.8253\n",
            "\n",
            "Training complete in 2m 46s\n",
            "Best val Loss: 3.674406 at epoch 9\n",
            "what is the book \n",
            "my name is is the world \n",
            "how are the book and saw to understand \n",
            "hi is the second person \n",
            "choose is the second person \n"
          ]
        }
      ]
    },
    {
      "cell_type": "markdown",
      "source": [
        "### Visualizing Results\n",
        "\n",
        "Take a look at the training curves - does your model overfit to your training data? If so, why do you think that may be? Enter your explanation in the cell below."
      ],
      "metadata": {
        "id": "Diwgt3Fix2zg"
      }
    },
    {
      "cell_type": "markdown",
      "source": [
        "TODO: Your answer here.\n",
        "\n",
        "1. Model without dropout and regularization:\n",
        "\n",
        "There are obvious overfit, the val-loss and test-loss curves increase quickly with the train-loss decrease.\n",
        "\n",
        "2. Model with `dropout=0.05` and `weight_decay=0.001`:\n",
        "\n",
        "There are still overfit, but it's better.\n",
        "\n",
        "I think there are some reasons:\n",
        "\n",
        "- The train set is not large enough, also the dataset doesn't have too much diverse.\n",
        "\n",
        "- We always choose the top1, so it may not so good.\n",
        "\n",
        "- One-hot encoding can't express the word meanings internally, actually words are related to each other, but one-hot is orthogonal.\n"
      ],
      "metadata": {
        "id": "ejU7W0o5wEIk"
      }
    },
    {
      "cell_type": "code",
      "source": [
        "def plot_training_curves(training_curves,\n",
        "                         phases=['train', 'val', 'test'],\n",
        "                         metrics=['loss']):\n",
        "    epochs = list(range(len(training_curves['train_loss'])))\n",
        "    for metric in metrics:\n",
        "        plt.figure()\n",
        "        plt.title(f'Training curves - {metric}')\n",
        "        for phase in phases:\n",
        "            key = phase+'_'+metric\n",
        "            if key in training_curves:\n",
        "                plt.plot(epochs, training_curves[key])\n",
        "        plt.xlabel('epoch')\n",
        "        plt.legend(labels=phases)"
      ],
      "metadata": {
        "id": "GEWXj81iCrvE"
      },
      "execution_count": 105,
      "outputs": []
    },
    {
      "cell_type": "code",
      "source": [
        "plot_training_curves(training_curves, phases=['train', 'val', 'test'])"
      ],
      "metadata": {
        "id": "BgaR32cNCxUC",
        "colab": {
          "base_uri": "https://localhost:8080/",
          "height": 472
        },
        "outputId": "02654396-1e73-441d-8970-adcbf2459f2a"
      },
      "execution_count": 106,
      "outputs": [
        {
          "output_type": "display_data",
          "data": {
            "text/plain": [
              "<Figure size 640x480 with 1 Axes>"
            ],
            "image/png": "[encoded data removed]"
          },
          "metadata": {}
        }
      ]
    }
  ]
}