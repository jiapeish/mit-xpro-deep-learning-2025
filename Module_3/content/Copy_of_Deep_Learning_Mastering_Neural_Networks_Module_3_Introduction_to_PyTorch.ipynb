{
  "cells": [
    {
      "cell_type": "markdown",
      "metadata": {
        "id": "DjYDWVa3V4Tu"
      },
      "source": [
        "# **Module 3: Introduction to PyTorch**\n",
        "\n",
        "## Introduction\n",
        "[Pytorch](https://pytorch.org/) is an optimized tensor library for deep learning using GPUs and CPUs. Tensors are a specialized data structure that are very similar to arrays and matrices. Tensors are similar to NumPy’s ndarrays, except that tensors can run on GPUs or other hardware accelerators. The ability to leverage GPUs for model training provides faster and more efficient computations than what CPUs provide. Additionally, tensors have some incredible powerful gradient calculation built in which greatly simplifies your code.\n",
        "\n",
        "In this notebook we will give a brief introduction to using Pytorch and tensors to better prepare us for using them for Deep Learning in subsequent notebooks."
      ]
    },
    {
      "cell_type": "markdown",
      "source": [
        "## Tensors"
      ],
      "metadata": {
        "id": "9fm9PcH9l7OF"
      }
    },
    {
      "cell_type": "code",
      "execution_count": null,
      "metadata": {
        "id": "S982Co0hU4KB"
      },
      "outputs": [],
      "source": [
        "import torch\n",
        "import numpy as np\n",
        "import matplotlib.pyplot as plt"
      ]
    },
    {
      "cell_type": "markdown",
      "source": [
        "Tensor created directly from a list. The data type is automatically inferred."
      ],
      "metadata": {
        "id": "gKoQrkIRibH7"
      }
    },
    {
      "cell_type": "code",
      "source": [
        "data = [[1, 2, 3], [4, 5, 6], [7, 8, 9]]\n",
        "tensor_data = torch.tensor(data)\n",
        "print(tensor_data)"
      ],
      "metadata": {
        "id": "0JoFxDrziLft",
        "colab": {
          "base_uri": "https://localhost:8080/"
        },
        "outputId": "1b2f440e-5983-496c-f178-9d830f46ae3b"
      },
      "execution_count": null,
      "outputs": [
        {
          "output_type": "stream",
          "name": "stdout",
          "text": [
            "tensor([[1, 2, 3],\n",
            "        [4, 5, 6],\n",
            "        [7, 8, 9]])\n"
          ]
        }
      ]
    },
    {
      "cell_type": "markdown",
      "source": [
        "Tensor created from a NumPy array."
      ],
      "metadata": {
        "id": "O-fcEJo8ijwq"
      }
    },
    {
      "cell_type": "code",
      "source": [
        "np_array = np.array(data)\n",
        "tensor_np = torch.from_numpy(np_array)\n",
        "print(tensor_np)"
      ],
      "metadata": {
        "colab": {
          "base_uri": "https://localhost:8080/"
        },
        "id": "8RAmdH0eirEH",
        "outputId": "39fe23f3-ae2b-42a7-b388-a22991125cb9"
      },
      "execution_count": null,
      "outputs": [
        {
          "output_type": "stream",
          "name": "stdout",
          "text": [
            "tensor([[1, 2, 3],\n",
            "        [4, 5, 6],\n",
            "        [7, 8, 9]])\n"
          ]
        }
      ]
    },
    {
      "cell_type": "markdown",
      "source": [
        "New tensors can be created from other tensors. The new tensor retains the properties (shape, datatype) of the argument tensor, unless explicitly overridden."
      ],
      "metadata": {
        "id": "TQaEudgTjVmu"
      }
    },
    {
      "cell_type": "code",
      "source": [
        "x_zeros = torch.zeros_like(tensor_data) # retains the properties of tensor_data\n",
        "print(f\"Zeros Tensor: \\n {x_zeros} \\n\")\n",
        "\n",
        "x_ones = torch.ones_like(tensor_data) # retains the properties of tensor_data\n",
        "print(f\"Ones Tensor: \\n {x_ones} \\n\")\n",
        "\n",
        "x_rand = torch.rand_like(tensor_data, dtype=torch.float) # overrides the datatype of tensor_data\n",
        "print(f\"Random Tensor: \\n {x_rand} \\n\")"
      ],
      "metadata": {
        "colab": {
          "base_uri": "https://localhost:8080/"
        },
        "id": "4bv283h9jYM7",
        "outputId": "4f9459c6-6236-4334-933f-8928f5158b51"
      },
      "execution_count": null,
      "outputs": [
        {
          "output_type": "stream",
          "name": "stdout",
          "text": [
            "Zeros Tensor: \n",
            " tensor([[0, 0, 0],\n",
            "        [0, 0, 0],\n",
            "        [0, 0, 0]]) \n",
            "\n",
            "Ones Tensor: \n",
            " tensor([[1, 1, 1],\n",
            "        [1, 1, 1],\n",
            "        [1, 1, 1]]) \n",
            "\n",
            "Random Tensor: \n",
            " tensor([[0.5124, 0.0945, 0.3691],\n",
            "        [0.5275, 0.6778, 0.2462],\n",
            "        [0.5201, 0.1206, 0.4135]]) \n",
            "\n"
          ]
        }
      ]
    },
    {
      "cell_type": "markdown",
      "source": [
        "Tensor can also be created from random or constant values.\n",
        "In the functions below, we pass in a tuple, shape, which specifies the dimension of the output tensor."
      ],
      "metadata": {
        "id": "853MH6qKkxLq"
      }
    },
    {
      "cell_type": "code",
      "source": [
        "shape = (3, 2,)\n",
        "zeros_tensor = torch.zeros(shape)\n",
        "ones_tensor = torch.ones(shape)\n",
        "rand_tensor = torch.rand(shape)\n",
        "\n",
        "\n",
        "print(f\"Zeros Tensor: \\n {zeros_tensor}\")\n",
        "print(f\"Ones Tensor: \\n {ones_tensor} \\n\")\n",
        "print(f\"Random Tensor: \\n {rand_tensor} \\n\")"
      ],
      "metadata": {
        "colab": {
          "base_uri": "https://localhost:8080/"
        },
        "id": "_sz-BFYyj2Ud",
        "outputId": "40a8e626-10fb-4e5a-a9ec-58fa0de645ee"
      },
      "execution_count": null,
      "outputs": [
        {
          "output_type": "stream",
          "name": "stdout",
          "text": [
            "Zeros Tensor: \n",
            " tensor([[0., 0.],\n",
            "        [0., 0.],\n",
            "        [0., 0.]])\n",
            "Ones Tensor: \n",
            " tensor([[1., 1.],\n",
            "        [1., 1.],\n",
            "        [1., 1.]]) \n",
            "\n",
            "Random Tensor: \n",
            " tensor([[0.3214, 0.3933],\n",
            "        [0.0564, 0.8612],\n",
            "        [0.5725, 0.6431]]) \n",
            "\n"
          ]
        }
      ]
    },
    {
      "cell_type": "markdown",
      "source": [
        "Along with displaying the values of the tensor like we have above, we can print out additional attributes of the tensor which will be helpful for using it. We've seen the concepts of *shape* and *datatype* in previous notebooks, and now we will introduce a new concept known as *device*. ***Device*** in this context specifies where calculations are run. Typically, CPUs (central processing unit) are used by default as it's essentially the brain of any computing device, carrying out the instructions of a program by performing control, logical, and input/output (I/O) operations. GPUs (graphical processing unit) have smaller-sized but many more logical cores (arithmetic logic units or ALUs, control units and memory cache) whose basic design is to process a set of simpler and more identical computations in parallel.   "
      ],
      "metadata": {
        "id": "XI0wuEkemCDF"
      }
    },
    {
      "cell_type": "code",
      "source": [
        "print(f\"Shape of tensor: {rand_tensor.shape}\")\n",
        "print(f\"Datatype of tensor: {rand_tensor.dtype}\")\n",
        "print(f\"Device tensor is stored on: {rand_tensor.device}\")"
      ],
      "metadata": {
        "colab": {
          "base_uri": "https://localhost:8080/"
        },
        "id": "g4J_bftel_9O",
        "outputId": "53a75de2-f460-4789-f755-2a0f7aefb61f"
      },
      "execution_count": null,
      "outputs": [
        {
          "output_type": "stream",
          "name": "stdout",
          "text": [
            "Shape of tensor: torch.Size([3, 2])\n",
            "Datatype of tensor: torch.float32\n",
            "Device tensor is stored on: cpu\n"
          ]
        }
      ]
    },
    {
      "cell_type": "markdown",
      "source": [
        "GPUs usually perform machine learning tasks quicker and more efficiently than CPUs, so we prefer using them whenever we're able to.\n",
        "Nvidia created a parallel computing architecture and platform for its GPUs called CUDA, which gave developers access and the ability to express simple processing operations in parallel through code. The rand_tensor is currently stored on CPU. If you’re using Colab, allocate a GPU by going to Edit > Notebook Settings. The below code will switch the device used from CPU to GPU if available."
      ],
      "metadata": {
        "id": "JG664MUWnX6e"
      }
    },
    {
      "cell_type": "code",
      "source": [
        "if torch.cuda.is_available():\n",
        "  tensor = rand_tensor.to('cuda')\n",
        "  print(f\"Device tensor is stored on: {tensor.device}\")\n",
        "  print(\"rand tensor device:\", rand_tensor.device)"
      ],
      "metadata": {
        "colab": {
          "base_uri": "https://localhost:8080/"
        },
        "id": "oVKzN3GIjMdL",
        "outputId": "f22f2600-8448-4f3c-dbf9-a8e240b594cb"
      },
      "execution_count": null,
      "outputs": [
        {
          "output_type": "stream",
          "name": "stdout",
          "text": [
            "Device tensor is stored on: cuda:0\n",
            "rand tensor device: cpu\n"
          ]
        }
      ]
    },
    {
      "cell_type": "markdown",
      "source": [
        "## Gradients\n",
        "\n",
        "The below example is pulled from: https://pytorch.org/tutorials/beginner/basics/autogradqs_tutorial.html\n",
        "\n",
        "When training neural networks, the most frequently used algorithm is back propagation. In this algorithm, parameters (model weights) are adjusted according to the gradient of the loss function with respect to the given parameter.\n",
        "\n",
        "To compute those gradients, PyTorch has a built-in differentiation engine called torch.autograd. It supports automatic computation of gradient for any computational graph.\n",
        "\n",
        "Consider the simplest one-layer neural network, with input x, parameters w and b, and some loss function. It can be defined in PyTorch in the following manner:"
      ],
      "metadata": {
        "id": "-JdJLa7OmH09"
      }
    },
    {
      "cell_type": "code",
      "source": [
        "import torch\n",
        "\n",
        "x = torch.ones(5)  # input tensor\n",
        "print(f'x={x}')\n",
        "y = torch.zeros(3)  # expected output\n",
        "w = torch.randn(5, 3, requires_grad=True)\n",
        "print(f'w={w}')\n",
        "b = torch.randn(3, requires_grad=True)\n",
        "print(f'grad func for b = {b.grad_fn}')\n",
        "z = torch.matmul(x, w)+b\n",
        "print(f'x*w={torch.matmul(x,w)}')\n",
        "loss = torch.nn.functional.binary_cross_entropy_with_logits(z, y)\n",
        "\n",
        "print(\"loss:\", loss)"
      ],
      "metadata": {
        "id": "nWhRW_LBtin5",
        "colab": {
          "base_uri": "https://localhost:8080/"
        },
        "outputId": "ccc72976-ed82-4fec-ca2f-496593b5e00a"
      },
      "execution_count": null,
      "outputs": [
        {
          "output_type": "stream",
          "name": "stdout",
          "text": [
            "x=tensor([1., 1., 1., 1., 1.])\n",
            "w=tensor([[-0.5122,  1.5239, -1.2030],\n",
            "        [-1.3154, -0.4425, -1.4803],\n",
            "        [-0.6752, -0.1206, -1.5968],\n",
            "        [-0.6566,  0.9306, -0.8300],\n",
            "        [-1.2824,  0.0250,  0.5426]], requires_grad=True)\n",
            "grad func for b = None\n",
            "x*w=tensor([-4.4418,  1.9164, -4.5675], grad_fn=<SqueezeBackward4>)\n",
            "loss: tensor(1.0729, grad_fn=<BinaryCrossEntropyWithLogitsBackward0>)\n"
          ]
        }
      ]
    },
    {
      "cell_type": "markdown",
      "source": [
        "A function that we apply to tensors to construct computational graph is in fact an object of class Function. This object knows how to compute the function in the forward direction, and also how to compute its derivative during the backward propagation step. A reference to the backward propagation function is stored in grad_fn property of a tensor. You can find more information of Function in the documentation."
      ],
      "metadata": {
        "id": "F79eOVbzwVmZ"
      }
    },
    {
      "cell_type": "code",
      "source": [
        "print(f\"Gradient function for z = {z.grad_fn}\")\n",
        "print(f\"Gradient function for loss = {loss.grad_fn}\")"
      ],
      "metadata": {
        "id": "1YFcXNXowQY-",
        "colab": {
          "base_uri": "https://localhost:8080/"
        },
        "outputId": "02bf2a2a-7b97-4018-e25d-5795c056790f"
      },
      "execution_count": null,
      "outputs": [
        {
          "output_type": "stream",
          "name": "stdout",
          "text": [
            "Gradient function for z = <AddBackward0 object at 0x7de3997af310>\n",
            "Gradient function for loss = <BinaryCrossEntropyWithLogitsBackward0 object at 0x7de3997aea40>\n"
          ]
        }
      ]
    },
    {
      "cell_type": "markdown",
      "source": [
        "To optimize weights of parameters in the neural network, we need to compute the derivatives of our loss function with respect to parameters, namely, we need $\\frac{\\partial loss}{\\partial w}$\n",
        "  and $\\frac{\\partial loss}{\\partial b}$\n",
        "  under some fixed values of x and y. To compute those derivatives, we call loss.backward(), and then retrieve the values from w.grad and b.grad:"
      ],
      "metadata": {
        "id": "_b_XyUptwZmJ"
      }
    },
    {
      "cell_type": "code",
      "source": [
        "loss.backward()\n",
        "print(w.grad)\n",
        "print(b.grad)"
      ],
      "metadata": {
        "id": "rRTeQITrwbgk",
        "colab": {
          "base_uri": "https://localhost:8080/"
        },
        "outputId": "a2fe9a77-ed91-49cb-f384-1d3effd99ade"
      },
      "execution_count": null,
      "outputs": [
        {
          "output_type": "stream",
          "name": "stdout",
          "text": [
            "tensor([[2.6201e-04, 3.1986e-01, 3.0834e-03],\n",
            "        [2.6201e-04, 3.1986e-01, 3.0834e-03],\n",
            "        [2.6201e-04, 3.1986e-01, 3.0834e-03],\n",
            "        [2.6201e-04, 3.1986e-01, 3.0834e-03],\n",
            "        [2.6201e-04, 3.1986e-01, 3.0834e-03]])\n",
            "tensor([2.6201e-04, 3.1986e-01, 3.0834e-03])\n"
          ]
        }
      ]
    },
    {
      "cell_type": "markdown",
      "source": [
        "## Optimization\n",
        "\n",
        "By using the auto-differentiation powers of PyTorch, we can easily perform the optimization tasks necessary for training large neural networks. In the code snippet below, we plot a function and its corresponding derivative to visualize this.\n",
        "\n",
        "Our goal in deep learning is to minimize our loss function, and by looking at this simple plot we can see how the derivative can inform us of the minimum value of a given function.\n",
        "\n",
        "*Note the use of .detach.numpy() to get a value back from the tensor and device, into a numpy array, for plotting."
      ],
      "metadata": {
        "id": "BpW79qRkmeK3"
      }
    },
    {
      "cell_type": "code",
      "source": [
        "# compute the derivative of the function with multiple values\n",
        "x = torch.linspace(-20, 20, 20, requires_grad = True)\n",
        "print(f'x={x}')\n",
        "Y = 5*x ** 2\n",
        "print(f'Y={Y}')\n",
        "# 对 Y 中的所有元素进行求和操作，得到一个标量值 y。\n",
        "# 在自动求导的过程中，必须从一个标量值开始反向传播（即调用 .backward()），所以求和这一步是必不可少的。\n",
        "y = torch.sum(Y)\n",
        "print(f'y={y}')\n",
        "# backward 这个方法会根据链式法则，自动计算 y 关于所有具有 requires_grad = True 属性的张量（在本例中就是 x）的梯度。\n",
        "# 计算完成后，梯度会被存储在 x.grad 属性中。\n",
        "y.backward()\n",
        "\n",
        "# ploting the function and derivative\n",
        "# 由于 x 和 Y 是需要进行梯度计算的张量，为了能够使用 matplotlib 对它们进行绘图，\n",
        "# 需要先调用 .detach() 方法将它们从计算图中分离出来，然后再使用 .numpy() 方法将其转换为 NumPy 数组。\n",
        "function_line, = plt.plot(x.detach().numpy(), Y.detach().numpy(), label = 'Function')\n",
        "function_line.set_color(\"red\")\n",
        "derivative_line, = plt.plot(x.detach().numpy(), x.grad.detach().numpy(), label = 'Derivative')\n",
        "derivative_line.set_color(\"green\")\n",
        "plt.xlabel('x')\n",
        "plt.legend()\n",
        "plt.show()"
      ],
      "metadata": {
        "colab": {
          "base_uri": "https://localhost:8080/",
          "height": 610
        },
        "id": "nu0uilzUy3nM",
        "outputId": "8b902f36-bc66-41c9-9a8d-756a9fbe5ac9"
      },
      "execution_count": null,
      "outputs": [
        {
          "output_type": "stream",
          "name": "stdout",
          "text": [
            "x=tensor([-20.0000, -17.8947, -15.7895, -13.6842, -11.5789,  -9.4737,  -7.3684,\n",
            "         -5.2632,  -3.1579,  -1.0526,   1.0526,   3.1579,   5.2632,   7.3684,\n",
            "          9.4737,  11.5789,  13.6842,  15.7895,  17.8947,  20.0000],\n",
            "       requires_grad=True)\n",
            "Y=tensor([2000.0000, 1601.1082, 1246.5374,  936.2880,  670.3601,  448.7535,\n",
            "         271.4681,  138.5041,   49.8615,    5.5402,    5.5402,   49.8615,\n",
            "         138.5041,  271.4681,  448.7535,  670.3601,  936.2880, 1246.5374,\n",
            "        1601.1082, 2000.0000], grad_fn=<MulBackward0>)\n",
            "y=14736.841796875\n"
          ]
        },
        {
          "output_type": "display_data",
          "data": {
            "text/plain": [
              "<Figure size 640x480 with 1 Axes>"
            ],
            "image/png": "[encoded data removed]"
          },
          "metadata": {}
        }
      ]
    },
    {
      "cell_type": "code",
      "source": [
        "x = torch.tensor(2.0, requires_grad=True)\n",
        "y = x**2\n",
        "\n",
        "# 创建不追踪梯度的新张量\n",
        "y_detached = y.detach()\n",
        "\n",
        "print(y.requires_grad)     # 输出: True\n",
        "print(y_detached.requires_grad)  # 输出: False\n",
        "\n",
        "# 可以安全地转换为NumPy\n",
        "import matplotlib.pyplot as plt\n",
        "plt.plot(y_detached.numpy())  # 正确\n",
        "# plt.plot(y.numpy())         # 错误！会触发RuntimeError: Can't call numpy() on Tensor that requires grad. Use tensor.detach().numpy() instead."
      ],
      "metadata": {
        "colab": {
          "base_uri": "https://localhost:8080/",
          "height": 216
        },
        "id": "BkXfWihVhu7K",
        "outputId": "a15397ae-98f8-4bee-e29c-29f71f029ae6"
      },
      "execution_count": null,
      "outputs": [
        {
          "output_type": "stream",
          "name": "stdout",
          "text": [
            "True\n",
            "False\n"
          ]
        },
        {
          "output_type": "error",
          "ename": "RuntimeError",
          "evalue": "Can't call numpy() on Tensor that requires grad. Use tensor.detach().numpy() instead.",
          "traceback": [
            "\u001b[0;31m---------------------------------------------------------------------------\u001b[0m",
            "\u001b[0;31mRuntimeError\u001b[0m                              Traceback (most recent call last)",
            "\u001b[0;32m/tmp/ipython-input-28-3505625971.py\u001b[0m in \u001b[0;36m<cell line: 0>\u001b[0;34m()\u001b[0m\n\u001b[1;32m     11\u001b[0m \u001b[0;32mimport\u001b[0m \u001b[0mmatplotlib\u001b[0m\u001b[0;34m.\u001b[0m\u001b[0mpyplot\u001b[0m \u001b[0;32mas\u001b[0m \u001b[0mplt\u001b[0m\u001b[0;34m\u001b[0m\u001b[0;34m\u001b[0m\u001b[0m\n\u001b[1;32m     12\u001b[0m \u001b[0;31m# plt.plot(y_detached.numpy())  # 正确\u001b[0m\u001b[0;34m\u001b[0m\u001b[0;34m\u001b[0m\u001b[0m\n\u001b[0;32m---> 13\u001b[0;31m \u001b[0mplt\u001b[0m\u001b[0;34m.\u001b[0m\u001b[0mplot\u001b[0m\u001b[0;34m(\u001b[0m\u001b[0my\u001b[0m\u001b[0;34m.\u001b[0m\u001b[0mnumpy\u001b[0m\u001b[0;34m(\u001b[0m\u001b[0;34m)\u001b[0m\u001b[0;34m)\u001b[0m         \u001b[0;31m# 错误！会触发RuntimeError\u001b[0m\u001b[0;34m\u001b[0m\u001b[0;34m\u001b[0m\u001b[0m\n\u001b[0m",
            "\u001b[0;31mRuntimeError\u001b[0m: Can't call numpy() on Tensor that requires grad. Use tensor.detach().numpy() instead."
          ]
        }
      ]
    },
    {
      "cell_type": "markdown",
      "source": [
        "## Looking Ahead\n",
        "\n",
        "As we have seen, tensors can be extremely powerful and can greatly simplify the implementation of our programs. We will build on this auto-gradient framework and apply it to more complex neural networks in the following modules. If you would like more information on Tensors and Pytorch as a whole, make sure to check out their tutorial and docs which can be found [here](https://pytorch.org/tutorials/beginner/basics/intro.html)."
      ],
      "metadata": {
        "id": "doTU0oTMLQhp"
      }
    }
  ],
  "metadata": {
    "colab": {
      "provenance": [],
      "toc_visible": true
    },
    "kernelspec": {
      "display_name": "Python 3",
      "language": "python",
      "name": "python3"
    },
    "language_info": {
      "codemirror_mode": {
        "name": "ipython",
        "version": 3
      },
      "file_extension": ".py",
      "mimetype": "text/x-python",
      "name": "python",
      "nbconvert_exporter": "python",
      "pygments_lexer": "ipython3",
      "version": "3.8.10"
    },
    "accelerator": "GPU",
    "gpuClass": "standard"
  },
  "nbformat": 4,
  "nbformat_minor": 0
}